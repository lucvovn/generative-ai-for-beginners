{
 "cells": [
  {
   "cell_type": "markdown",
   "metadata": {},
   "source": [
    "# மிஸ்ட்ரல் மாடல்களுடன் கட்டமைத்தல்\n",
    "\n",
    "## அறிமுகம்\n",
    "\n",
    "இந்த பாடத்தில் நீங்கள் கற்றுக்கொள்ளப்போகிறீர்கள்:  \n",
    "- மிஸ்ட்ரல் மாடல்களின் பல்வேறு வகைகளை ஆராய்தல்  \n",
    "- ஒவ்வொரு மாடலின் பயன்பாடுகள் மற்றும் சூழல்களைப் புரிந்துகொள்வது  \n",
    "- ஒவ்வொரு மாடலின் தனித்துவமான அம்சங்களை காட்டும் குறியீட்டு உதாரணங்கள்.  \n"
   ]
  },
  {
   "cell_type": "markdown",
   "metadata": {},
   "source": [
    "## மிஸ்ட்ரல் மாடல்கள்\n",
    "\n",
    "இந்த பாடத்தில், நாங்கள் மிஸ்ட்ரல் மாடல்களின் 3 வெவ்வேறு வகைகளை ஆராய்வோம்:  \n",
    "**மிஸ்ட்ரல் லார்ஜ்**, **மிஸ்ட்ரல் ஸ்மால்** மற்றும் **மிஸ்ட்ரல் நெமோ**.  \n",
    "\n",
    "இந்த மாடல்கள் ஒவ்வொன்றும் Github Model சந்தையில் இலவசமாக கிடைக்கின்றன. இந்த நோட்புக்கில் உள்ள குறியீடு இந்த மாடல்களை பயன்படுத்தி செயல்படுத்தப்படும். AI மாடல்களுடன் [முன்மாதிரியாக்கம் செய்ய Github Models](https://docs.github.com/en/github-models/prototyping-with-ai-models?WT.mc_id=academic-105485-koreyst) பயன்படுத்துவது பற்றிய மேலும் விவரங்கள் இங்கே உள்ளன.\n"
   ]
  },
  {
   "cell_type": "markdown",
   "metadata": {},
   "source": [
    "## மிஸ்ட்ரல் லார்ஜ் 2 (2407)\n",
    "மிஸ்ட்ரல் லார்ஜ் 2 தற்போது மிஸ்ட்ரல் நிறுவனத்தின் முன்னணி மாடலாக உள்ளது மற்றும் நிறுவன பயன்பாட்டிற்காக வடிவமைக்கப்பட்டுள்ளது.\n",
    "\n",
    "இந்த மாடல் மிஸ்ட்ரல் லார்ஜ் மாடலின் மேம்பட்ட பதிப்பாகும், இது வழங்குகிறது:\n",
    "-  பெரிய கான்டெக்ஸ்ட் விண்டோ - 128k vs 32k \n",
    "-  கணித மற்றும் குறியீட்டு பணிகளில் மேம்பட்ட செயல்திறன் - சராசரி துல்லியம் 76.9% vs 60.4% \n",
    "-  பல மொழிகளில் மேம்பட்ட செயல்திறன் - மொழிகள்: ஆங்கிலம், பிரெஞ்சு, ஜெர்மன், ஸ்பானிஷ், இத்தாலியன், போர்ச்சுகீஸ், டச்சு, ரஷியன், சீனம், ஜப்பானியம், கொரியன், அரபு, மற்றும் இந்தி.\n",
    "\n",
    "இந்த அம்சங்களுடன், மிஸ்ட்ரல் லார்ஜ் சிறப்பாக செயல்படுகிறது:\n",
    "- *ரிட்ரீவல் ஆக்மென்டட் ஜெனரேஷன் (RAG)* - பெரிய கான்டெக்ஸ்ட் விண்டோவால்\n",
    "- *ஃபங்ஷன் காலிங்* - இந்த மாடலில் இயல்பாகவே ஃபங்ஷன் காலிங் உள்ளது, இது வெளிப்புற கருவிகள் மற்றும் APIகளுடன் ஒருங்கிணைக்க அனுமதிக்கிறது. இந்த அழைப்புகள் ஒரே நேரத்தில் அல்லது தொடர்ச்சியாக ஒன்றின் பின் ஒன்றாக செய்யலாம்.\n",
    "- *கோடு ஜெனரேஷன்* - இந்த மாடல் Python, Java, TypeScript மற்றும் C++ கோடு உருவாக்கத்தில் சிறப்பாக செயல்படுகிறது.\n"
   ]
  },
  {
   "cell_type": "markdown",
   "metadata": {},
   "source": [
    "### RAG உதாரணம் Mistral Large 2 பயன்படுத்தி\n"
   ]
  },
  {
   "cell_type": "markdown",
   "metadata": {},
   "source": [
    "இந்த எடுத்துக்காட்டில், Mistral Large 2 மாடலை பயன்படுத்தி ஒரு RAG முறைமையை ஒரு உரை ஆவணத்தில் இயக்குகிறோம். கேள்வி கொரிய மொழியில் எழுதப்பட்டுள்ளது மற்றும் கல்லூரிக்கு முன் ஆசிரியரின் செயல்பாடுகள் குறித்து கேட்கிறது.\n",
    "\n",
    "இது Cohere Embeddings Model-ஐ பயன்படுத்தி உரை ஆவணத்தின் மற்றும் கேள்வியின் எம்பெடிங்குகளை உருவாக்குகிறது. இந்த மாதிரிக்காக, faiss Python package-ஐ ஒரு வெக்டர் சேமிப்பகமாக பயன்படுத்துகிறது.\n",
    "\n",
    "Mistral மாடலுக்கு அனுப்பப்படும் ப்ராம்ப்டில் கேள்விகளும், கேள்விக்கு தொடர்புடையதாக இருக்கும் உரை துண்டுகளும் சேர்க்கப்பட்டுள்ளன. மாடல் பின்னர் ஒரு இயற்கை மொழி பதிலை வழங்குகிறது.\n"
   ]
  },
  {
   "cell_type": "code",
   "execution_count": 50,
   "metadata": {},
   "outputs": [
    {
     "name": "stdout",
     "output_type": "stream",
     "text": [
      "Requirement already satisfied: faiss-cpu in /home/codespace/.python/current/lib/python3.12/site-packages (1.8.0.post1)\n",
      "Requirement already satisfied: numpy<2.0,>=1.0 in /home/codespace/.python/current/lib/python3.12/site-packages (from faiss-cpu) (1.26.4)\n",
      "Requirement already satisfied: packaging in /home/codespace/.local/lib/python3.12/site-packages (from faiss-cpu) (24.1)\n",
      "Note: you may need to restart the kernel to use updated packages.\n"
     ]
    }
   ],
   "source": [
    "pip install faiss-cpu"
   ]
  },
  {
   "cell_type": "code",
   "execution_count": 51,
   "metadata": {},
   "outputs": [
    {
     "name": "stdout",
     "output_type": "stream",
     "text": [
      "The author primarily engaged in two activities before college: writing and programming. In terms of writing, they wrote short stories, albeit not very good ones, with minimal plot and characters expressing strong feelings. For programming, they started writing programs on the IBM 1401 used for data processing during their 9th grade, at the age of 13 or 14. They used an early version of Fortran and typed programs on punch cards, later loading them into the card reader to run the program.\n"
     ]
    }
   ],
   "source": [
    "import requests\n",
    "import numpy as np\n",
    "import faiss\n",
    "import os\n",
    "\n",
    "from azure.ai.inference import ChatCompletionsClient\n",
    "from azure.ai.inference.models import SystemMessage, UserMessage\n",
    "from azure.core.credentials import AzureKeyCredential\n",
    "from azure.ai.inference import EmbeddingsClient\n",
    "\n",
    "endpoint = \"https://models.inference.ai.azure.com\"\n",
    "model_name = \"Mistral-large\"\n",
    "token = os.environ[\"GITHUB_TOKEN\"]\n",
    "\n",
    "client = ChatCompletionsClient(\n",
    "    endpoint=endpoint,\n",
    "    credential=AzureKeyCredential(token),\n",
    ")\n",
    "\n",
    "response = requests.get('https://raw.githubusercontent.com/run-llama/llama_index/main/docs/docs/examples/data/paul_graham/paul_graham_essay.txt')\n",
    "text = response.text\n",
    "\n",
    "chunk_size = 2048\n",
    "chunks = [text[i:i + chunk_size] for i in range(0, len(text), chunk_size)]\n",
    "len(chunks)\n",
    "\n",
    "embed_model_name = \"cohere-embed-v3-multilingual\" \n",
    "\n",
    "embed_client = EmbeddingsClient(\n",
    "        endpoint=endpoint,\n",
    "        credential=AzureKeyCredential(token)\n",
    ")\n",
    "\n",
    "embed_response = embed_client.embed(\n",
    "    input=chunks,\n",
    "    model=embed_model_name\n",
    ")\n",
    "\n",
    "\n",
    "\n",
    "text_embeddings = []\n",
    "for item in embed_response.data:\n",
    "    length = len(item.embedding)\n",
    "    text_embeddings.append(item.embedding)\n",
    "text_embeddings = np.array(text_embeddings)\n",
    "\n",
    "\n",
    "d = text_embeddings.shape[1]\n",
    "index = faiss.IndexFlatL2(d)\n",
    "index.add(text_embeddings)\n",
    "\n",
    "question = \"저자가 대학에 오기 전에 주로 했던 두 가지 일은 무엇이었나요?？\"\n",
    "\n",
    "question_embedding = embed_client.embed(\n",
    "    input=[question],\n",
    "    model=embed_model_name\n",
    ")\n",
    "\n",
    "question_embeddings = np.array(question_embedding.data[0].embedding)\n",
    "\n",
    "\n",
    "D, I = index.search(question_embeddings.reshape(1, -1), k=2) # distance, index\n",
    "retrieved_chunks = [chunks[i] for i in I.tolist()[0]]\n",
    "\n",
    "prompt = f\"\"\"\n",
    "Context information is below.\n",
    "---------------------\n",
    "{retrieved_chunks}\n",
    "---------------------\n",
    "Given the context information and not prior knowledge, answer the query.\n",
    "Query: {question}\n",
    "Answer:\n",
    "\"\"\"\n",
    "\n",
    "\n",
    "chat_response = client.complete(\n",
    "    messages=[\n",
    "        SystemMessage(content=\"You are a helpful assistant.\"),\n",
    "        UserMessage(content=prompt),\n",
    "    ],\n",
    "    temperature=1.0,\n",
    "    top_p=1.0,\n",
    "    max_tokens=1000,\n",
    "    model=model_name\n",
    ")\n",
    "\n",
    "print(chat_response.choices[0].message.content)"
   ]
  },
  {
   "cell_type": "markdown",
   "metadata": {},
   "source": [
    "## மிஸ்ட்ரல் ஸ்மால்  \n",
    "மிஸ்ட்ரல் ஸ்மால் என்பது மிஸ்ட்ரல் மாடல்களின் குடும்பத்தில் உள்ள மற்றொரு மாடல், இது பிரீமியர்/என்டர்பிரைஸ் வகையில் உள்ளது. பெயரிலேயே தெரிகின்றது போல, இந்த மாடல் ஒரு சிறிய மொழி மாடல் (SLM) ஆகும். மிஸ்ட்ரல் ஸ்மால் பயன்படுத்துவதன் நன்மைகள்:  \n",
    "- மிஸ்ட்ரல் LLMs போன்ற மிஸ்ட்ரல் லார்ஜ் மற்றும் NeMo-வுடன் ஒப்பிடும்போது செலவுச்செலவு குறைவு - 80% விலை குறைவு  \n",
    "- குறைந்த தாமதம் - மிஸ்ட்ரல் LLMs-களை விட வேகமான பதில்  \n",
    "- நெகிழ்வானது - தேவையான வளங்கள் குறைவாகவே இருக்கும், பல சூழல்களில் பயன்படுத்தலாம்  \n",
    "\n",
    "மிஸ்ட்ரல் ஸ்மால் சிறப்பாக பயன்படும் இடங்கள்:  \n",
    "- சுருக்கம், உணர்வு பகுப்பாய்வு மற்றும் மொழிபெயர்ப்பு போன்ற உரை அடிப்படையிலான பணிகள்  \n",
    "- அதன் செலவுச்செலவின் காரணமாக அடிக்கடி கோரிக்கைகள் செய்யப்படும் பயன்பாடுகள்  \n",
    "- குறைந்த தாமதம் கொண்ட குறியீட்டு பணிகள், உதாரணமாக மதிப்பீடு மற்றும் குறியீட்டு பரிந்துரைகள்  \n"
   ]
  },
  {
   "cell_type": "markdown",
   "metadata": {},
   "source": [
    "## Mistral Small மற்றும் Mistral Large-ஐ ஒப்பிடுதல்\n",
    "\n",
    "Mistral Small மற்றும் Large இடையேயான தாமதங்களில் வேறுபாடுகளை காட்ட, கீழே உள்ள செறிவுகளை இயக்கவும்.\n",
    "\n",
    "3-5 விநாடிகளுக்குள் பதிலளிக்கும் நேரங்களில் ஒரு வேறுபாட்டைக் காணலாம். அதேபோல், பதில்களின் நீளங்கள் மற்றும் பாணியை ஒரே கேள்வியில் கவனிக்கவும்.\n"
   ]
  },
  {
   "cell_type": "code",
   "execution_count": null,
   "metadata": {},
   "outputs": [],
   "source": [
    "import os \n",
    "endpoint = \"https://models.inference.ai.azure.com\"\n",
    "model_name = \"Mistral-small\"\n",
    "token = os.environ[\"GITHUB_TOKEN\"]\n",
    "\n",
    "client = ChatCompletionsClient(\n",
    "    endpoint=endpoint,\n",
    "    credential=AzureKeyCredential(token),\n",
    ")\n",
    "\n",
    "response = client.complete(\n",
    "    messages=[\n",
    "        SystemMessage(content=\"You are a helpful coding assistant.\"),\n",
    "        UserMessage(content=\"Can you write a Python function to the fizz buzz test?\"),\n",
    "    ],\n",
    "    temperature=1.0,\n",
    "    top_p=1.0,\n",
    "    max_tokens=1000,\n",
    "    model=model_name\n",
    ")\n",
    "\n",
    "print(response.choices[0].message.content)"
   ]
  },
  {
   "cell_type": "code",
   "execution_count": null,
   "metadata": {},
   "outputs": [],
   "source": [
    "import os\n",
    "from azure.ai.inference import ChatCompletionsClient\n",
    "from azure.ai.inference.models import SystemMessage, UserMessage\n",
    "from azure.core.credentials import AzureKeyCredential\n",
    "\n",
    "endpoint = \"https://models.inference.ai.azure.com\"\n",
    "model_name = \"Mistral-large\"\n",
    "token = os.environ[\"GITHUB_TOKEN\"]\n",
    "\n",
    "client = ChatCompletionsClient(\n",
    "    endpoint=endpoint,\n",
    "    credential=AzureKeyCredential(token),\n",
    ")\n",
    "\n",
    "response = client.complete(\n",
    "    messages=[\n",
    "        SystemMessage(content=\"You are a helpful coding assistant.\"),\n",
    "        UserMessage(content=\"Can you write a Python function to the fizz buzz test?\"),\n",
    "    ],\n",
    "    temperature=1.0,\n",
    "    top_p=1.0,\n",
    "    max_tokens=1000,\n",
    "    model=model_name\n",
    ")\n",
    "\n",
    "print(response.choices[0].message.content)"
   ]
  },
  {
   "cell_type": "markdown",
   "metadata": {},
   "source": [
    "## மிஸ்ட்ரல் நீமோ\n",
    "\n",
    "இந்த பாடத்தில் விவாதிக்கப்பட்ட மற்ற இரண்டு மாதிரிகளுடன் ஒப்பிடும்போது, மிஸ்ட்ரல் நீமோ என்பது Apache2 உரிமத்துடன் கிடைக்கும் ஒரே இலவச மாதிரியாகும்.\n",
    "\n",
    "மிஸ்ட்ரல் நிறுவனத்தின் முந்தைய திறந்த மூல LLM, மிஸ்ட்ரல் 7B-க்கு மேம்படுத்தலாக இது பார்க்கப்படுகிறது.\n",
    "\n",
    "NeMo மாதிரியின் சில முக்கிய அம்சங்கள்:\n",
    "\n",
    "- *மேம்பட்ட டோக்கனீசேஷன்:* இந்த மாதிரி பொதுவாக பயன்படுத்தப்படும் tiktoken ஐ விட Tekken டோக்கனைசரை பயன்படுத்துகிறது. இது பல மொழிகள் மற்றும் குறியீடுகளில் சிறந்த செயல்திறனை வழங்குகிறது.\n",
    "\n",
    "- *பயிற்சி மேம்பாடு:* அடிப்படை மாதிரி பயிற்சி மேம்பாட்டுக்கு கிடைக்கிறது. இது பயிற்சி மேம்பாடு தேவைப்படும் பயன்பாடுகளுக்கு அதிக சுதந்திரத்தை வழங்குகிறது.\n",
    "\n",
    "- *நேட்டிவ் ஃபங்ஷன் காலிங்:* மிஸ்ட்ரல் லார்ஜ் மாதிரியைப் போலவே, இந்த மாதிரி ஃபங்ஷன் காலிங்கில் பயிற்சி பெற்றுள்ளது. இது திறந்த மூல மாதிரிகளில் முதன்முதலில் இதைச் செய்யும் தனித்துவமானதாகும்.\n"
   ]
  },
  {
   "cell_type": "markdown",
   "metadata": {},
   "source": [
    "## மிஸ்ட்ரல் நீமோ\n",
    "\n",
    "இந்த பாடத்தில் விவாதிக்கப்பட்ட மற்ற இரண்டு மாதிரிகளுடன் ஒப்பிடும்போது, மிஸ்ட்ரல் நீமோ என்பது Apache2 உரிமத்துடன் கிடைக்கும் ஒரே இலவச மாதிரியாகும்.\n",
    "\n",
    "இது மிஸ்ட்ரல் நிறுவனத்தின் முந்தைய திறந்த மூல LLM, மிஸ்ட்ரல் 7B-க்கு மேம்படுத்தலாக பார்க்கப்படுகிறது.\n",
    "\n",
    "NeMo மாதிரியின் சில முக்கிய அம்சங்கள்:\n",
    "\n",
    "- *மேம்பட்ட டோக்கனீசேஷன்:* இந்த மாதிரி பொதுவாக பயன்படுத்தப்படும் tiktoken ஐ விட Tekken tokenizer ஐ பயன்படுத்துகிறது. இது பல மொழிகள் மற்றும் குறியீடுகளில் சிறந்த செயல்திறனை வழங்குகிறது.\n",
    "\n",
    "- *நுணுக்கமாக அமைத்தல்:* அடிப்படை மாதிரி நுணுக்கமாக அமைக்க கிடைக்கிறது. இது நுணுக்கமாக அமைத்தல் தேவைப்படும் பயன்பாடுகளுக்கு அதிக சாளரத்தன்மையை வழங்குகிறது.\n",
    "\n",
    "- *உள்ளமைவான செயல்பாட்டு அழைப்பு:* மிஸ்ட்ரல் லார்ஜ் மாதிரியைப் போலவே, இந்த மாதிரி செயல்பாட்டு அழைப்பில் பயிற்சி பெற்றுள்ளது. இது இதை முதல் திறந்த மூல மாதிரிகளில் ஒன்றாக தனித்துவமாக ஆக்குகிறது.\n"
   ]
  },
  {
   "cell_type": "markdown",
   "metadata": {},
   "source": [
    "### டோக்கனைசர்களை ஒப்பிடுதல்\n",
    "\n",
    "இந்த மாதிரியில், Mistral NeMo டோக்கனைசேஷனை Mistral Large உடன் ஒப்பிட்டு எப்படி கையாளுகிறது என்பதை பார்க்கலாம்.\n",
    "\n",
    "இரண்டு மாதிரிகளும் ஒரே ப்ராம்ப்டை எடுத்துக்கொள்கின்றன, ஆனால் NeMo Mistral Large-ஐ விட குறைவான டோக்கன்களை திருப்பி அளிக்கிறது என்பதை நீங்கள் காணலாம்.\n"
   ]
  },
  {
   "cell_type": "code",
   "execution_count": 11,
   "metadata": {},
   "outputs": [
    {
     "name": "stdout",
     "output_type": "stream",
     "text": [
      "Collecting mistral-common\n",
      "  Downloading mistral_common-1.4.4-py3-none-any.whl.metadata (4.6 kB)\n",
      "Requirement already satisfied: jsonschema<5.0.0,>=4.21.1 in /home/codespace/.local/lib/python3.12/site-packages (from mistral-common) (4.23.0)\n",
      "Requirement already satisfied: numpy>=1.25 in /home/codespace/.local/lib/python3.12/site-packages (from mistral-common) (2.1.1)\n",
      "Requirement already satisfied: pillow<11.0.0,>=10.3.0 in /home/codespace/.local/lib/python3.12/site-packages (from mistral-common) (10.4.0)\n",
      "Requirement already satisfied: pydantic<3.0.0,>=2.6.1 in /home/codespace/.python/current/lib/python3.12/site-packages (from mistral-common) (2.9.2)\n",
      "Requirement already satisfied: requests<3.0.0,>=2.0.0 in /home/codespace/.local/lib/python3.12/site-packages (from mistral-common) (2.32.3)\n",
      "Collecting sentencepiece==0.2.0 (from mistral-common)\n",
      "  Downloading sentencepiece-0.2.0-cp312-cp312-manylinux_2_17_x86_64.manylinux2014_x86_64.whl.metadata (7.7 kB)\n",
      "Collecting tiktoken<0.8.0,>=0.7.0 (from mistral-common)\n",
      "  Downloading tiktoken-0.7.0-cp312-cp312-manylinux_2_17_x86_64.manylinux2014_x86_64.whl.metadata (6.6 kB)\n",
      "Requirement already satisfied: typing-extensions<5.0.0,>=4.11.0 in /home/codespace/.python/current/lib/python3.12/site-packages (from mistral-common) (4.12.2)\n",
      "Requirement already satisfied: attrs>=22.2.0 in /home/codespace/.local/lib/python3.12/site-packages (from jsonschema<5.0.0,>=4.21.1->mistral-common) (24.2.0)\n",
      "Requirement already satisfied: jsonschema-specifications>=2023.03.6 in /home/codespace/.local/lib/python3.12/site-packages (from jsonschema<5.0.0,>=4.21.1->mistral-common) (2023.12.1)\n",
      "Requirement already satisfied: referencing>=0.28.4 in /home/codespace/.local/lib/python3.12/site-packages (from jsonschema<5.0.0,>=4.21.1->mistral-common) (0.35.1)\n",
      "Requirement already satisfied: rpds-py>=0.7.1 in /home/codespace/.local/lib/python3.12/site-packages (from jsonschema<5.0.0,>=4.21.1->mistral-common) (0.20.0)\n",
      "Requirement already satisfied: annotated-types>=0.6.0 in /home/codespace/.python/current/lib/python3.12/site-packages (from pydantic<3.0.0,>=2.6.1->mistral-common) (0.7.0)\n",
      "Requirement already satisfied: pydantic-core==2.23.4 in /home/codespace/.python/current/lib/python3.12/site-packages (from pydantic<3.0.0,>=2.6.1->mistral-common) (2.23.4)\n",
      "Requirement already satisfied: charset-normalizer<4,>=2 in /home/codespace/.local/lib/python3.12/site-packages (from requests<3.0.0,>=2.0.0->mistral-common) (3.3.2)\n",
      "Requirement already satisfied: idna<4,>=2.5 in /home/codespace/.local/lib/python3.12/site-packages (from requests<3.0.0,>=2.0.0->mistral-common) (3.10)\n",
      "Requirement already satisfied: urllib3<3,>=1.21.1 in /home/codespace/.local/lib/python3.12/site-packages (from requests<3.0.0,>=2.0.0->mistral-common) (2.2.3)\n",
      "Requirement already satisfied: certifi>=2017.4.17 in /home/codespace/.local/lib/python3.12/site-packages (from requests<3.0.0,>=2.0.0->mistral-common) (2024.8.30)\n",
      "Collecting regex>=2022.1.18 (from tiktoken<0.8.0,>=0.7.0->mistral-common)\n",
      "  Downloading regex-2024.9.11-cp312-cp312-manylinux_2_17_x86_64.manylinux2014_x86_64.whl.metadata (40 kB)\n",
      "Downloading mistral_common-1.4.4-py3-none-any.whl (6.0 MB)\n",
      "\u001b[2K   \u001b[90m━━━━━━━━━━━━━━━━━━━━━━━━━━━━━━━━━━━━━━━━\u001b[0m \u001b[32m6.0/6.0 MB\u001b[0m \u001b[31m63.6 MB/s\u001b[0m eta \u001b[36m0:00:00\u001b[0m\n",
      "\u001b[?25hDownloading sentencepiece-0.2.0-cp312-cp312-manylinux_2_17_x86_64.manylinux2014_x86_64.whl (1.3 MB)\n",
      "\u001b[2K   \u001b[90m━━━━━━━━━━━━━━━━━━━━━━━━━━━━━━━━━━━━━━━━\u001b[0m \u001b[32m1.3/1.3 MB\u001b[0m \u001b[31m19.7 MB/s\u001b[0m eta \u001b[36m0:00:00\u001b[0m\n",
      "\u001b[?25hDownloading tiktoken-0.7.0-cp312-cp312-manylinux_2_17_x86_64.manylinux2014_x86_64.whl (1.1 MB)\n",
      "\u001b[2K   \u001b[90m━━━━━━━━━━━━━━━━━━━━━━━━━━━━━━━━━━━━━━━━\u001b[0m \u001b[32m1.1/1.1 MB\u001b[0m \u001b[31m16.8 MB/s\u001b[0m eta \u001b[36m0:00:00\u001b[0m\n",
      "\u001b[?25hDownloading regex-2024.9.11-cp312-cp312-manylinux_2_17_x86_64.manylinux2014_x86_64.whl (797 kB)\n",
      "\u001b[2K   \u001b[90m━━━━━━━━━━━━━━━━━━━━━━━━━━━━━━━━━━━━━━━━\u001b[0m \u001b[32m797.0/797.0 kB\u001b[0m \u001b[31m15.1 MB/s\u001b[0m eta \u001b[36m0:00:00\u001b[0m\n",
      "\u001b[?25hInstalling collected packages: sentencepiece, regex, tiktoken, mistral-common\n",
      "Successfully installed mistral-common-1.4.4 regex-2024.9.11 sentencepiece-0.2.0 tiktoken-0.7.0\n",
      "Note: you may need to restart the kernel to use updated packages.\n"
     ]
    }
   ],
   "source": [
    "pip install mistral-common"
   ]
  },
  {
   "cell_type": "code",
   "execution_count": 12,
   "metadata": {},
   "outputs": [
    {
     "name": "stdout",
     "output_type": "stream",
     "text": [
      "128\n"
     ]
    }
   ],
   "source": [
    "# Import needed packages:\n",
    "from mistral_common.protocol.instruct.messages import (\n",
    "    UserMessage,\n",
    ")\n",
    "from mistral_common.protocol.instruct.request import ChatCompletionRequest\n",
    "from mistral_common.protocol.instruct.tool_calls import (\n",
    "    Function,\n",
    "    Tool,\n",
    ")\n",
    "from mistral_common.tokens.tokenizers.mistral import MistralTokenizer\n",
    "\n",
    "# Load Mistral tokenizer\n",
    "\n",
    "model_name = \"open-mistral-nemo\t\"\n",
    "\n",
    "tokenizer = MistralTokenizer.from_model(model_name)\n",
    "\n",
    "# Tokenize a list of messages\n",
    "tokenized = tokenizer.encode_chat_completion(\n",
    "    ChatCompletionRequest(\n",
    "        tools=[\n",
    "            Tool(\n",
    "                function=Function(\n",
    "                    name=\"get_current_weather\",\n",
    "                    description=\"Get the current weather\",\n",
    "                    parameters={\n",
    "                        \"type\": \"object\",\n",
    "                        \"properties\": {\n",
    "                            \"location\": {\n",
    "                                \"type\": \"string\",\n",
    "                                \"description\": \"The city and state, e.g. San Francisco, CA\",\n",
    "                            },\n",
    "                            \"format\": {\n",
    "                                \"type\": \"string\",\n",
    "                                \"enum\": [\"celsius\", \"fahrenheit\"],\n",
    "                                \"description\": \"The temperature unit to use. Infer this from the users location.\",\n",
    "                            },\n",
    "                        },\n",
    "                        \"required\": [\"location\", \"format\"],\n",
    "                    },\n",
    "                )\n",
    "            )\n",
    "        ],\n",
    "        messages=[\n",
    "            UserMessage(content=\"What's the weather like today in Paris\"),\n",
    "        ],\n",
    "        model=model_name,\n",
    "    )\n",
    ")\n",
    "tokens, text = tokenized.tokens, tokenized.text\n",
    "\n",
    "# Count the number of tokens\n",
    "print(len(tokens))"
   ]
  },
  {
   "cell_type": "code",
   "execution_count": 13,
   "metadata": {},
   "outputs": [
    {
     "name": "stdout",
     "output_type": "stream",
     "text": [
      "135\n"
     ]
    }
   ],
   "source": [
    "# Import needed packages:\n",
    "from mistral_common.protocol.instruct.messages import (\n",
    "    UserMessage,\n",
    ")\n",
    "from mistral_common.protocol.instruct.request import ChatCompletionRequest\n",
    "from mistral_common.protocol.instruct.tool_calls import (\n",
    "    Function,\n",
    "    Tool,\n",
    ")\n",
    "from mistral_common.tokens.tokenizers.mistral import MistralTokenizer\n",
    "\n",
    "# Load Mistral tokenizer\n",
    "\n",
    "model_name = \"mistral-large-latest\"\n",
    "\n",
    "tokenizer = MistralTokenizer.from_model(model_name)\n",
    "\n",
    "# Tokenize a list of messages\n",
    "tokenized = tokenizer.encode_chat_completion(\n",
    "    ChatCompletionRequest(\n",
    "        tools=[\n",
    "            Tool(\n",
    "                function=Function(\n",
    "                    name=\"get_current_weather\",\n",
    "                    description=\"Get the current weather\",\n",
    "                    parameters={\n",
    "                        \"type\": \"object\",\n",
    "                        \"properties\": {\n",
    "                            \"location\": {\n",
    "                                \"type\": \"string\",\n",
    "                                \"description\": \"The city and state, e.g. San Francisco, CA\",\n",
    "                            },\n",
    "                            \"format\": {\n",
    "                                \"type\": \"string\",\n",
    "                                \"enum\": [\"celsius\", \"fahrenheit\"],\n",
    "                                \"description\": \"The temperature unit to use. Infer this from the users location.\",\n",
    "                            },\n",
    "                        },\n",
    "                        \"required\": [\"location\", \"format\"],\n",
    "                    },\n",
    "                )\n",
    "            )\n",
    "        ],\n",
    "        messages=[\n",
    "            UserMessage(content=\"What's the weather like today in Paris\"),\n",
    "        ],\n",
    "        model=model_name,\n",
    "    )\n",
    ")\n",
    "tokens, text = tokenized.tokens, tokenized.text\n",
    "\n",
    "# Count the number of tokens\n",
    "print(len(tokens))"
   ]
  },
  {
   "cell_type": "markdown",
   "metadata": {},
   "source": [
    "## கற்றல் இங்கே நிற்கவில்லை, பயணத்தை தொடருங்கள்\n",
    "\n",
    "இந்த பாடத்தை முடித்த பிறகு, உங்கள் Generative AI அறிவை மேலும் மேம்படுத்த [Generative AI Learning collection](https://aka.ms/genai-collection?WT.mc_id=academic-105485-koreyst) ஐ பாருங்கள்!\n"
   ]
  },
  {
   "cell_type": "markdown",
   "metadata": {},
   "source": [
    "\n---\n\n**அறிவிப்பு**:  \nஇந்த ஆவணம் [Co-op Translator](https://github.com/Azure/co-op-translator) என்ற AI மொழிபெயர்ப்பு சேவையை பயன்படுத்தி மொழிபெயர்க்கப்பட்டுள்ளது. நாங்கள் துல்லியத்திற்காக முயற்சிக்கிறோம், ஆனால் தானியங்கி மொழிபெயர்ப்புகளில் பிழைகள் அல்லது தவறுகள் இருக்கக்கூடும் என்பதை கவனத்தில் கொள்ளவும். அதன் சொந்த மொழியில் உள்ள மூல ஆவணம் அதிகாரப்பூர்வ ஆதாரமாக கருதப்பட வேண்டும். முக்கியமான தகவல்களுக்கு, தொழில்முறை மனித மொழிபெயர்ப்பு பரிந்துரைக்கப்படுகிறது. இந்த மொழிபெயர்ப்பைப் பயன்படுத்துவதால் ஏற்படும் எந்த தவறான புரிதல்களுக்கும் அல்லது தவறான விளக்கங்களுக்கும் நாங்கள் பொறுப்பல்ல.\n"
   ]
  }
 ],
 "metadata": {
  "kernelspec": {
   "display_name": "Python 3",
   "language": "python",
   "name": "python3"
  },
  "language_info": {
   "codemirror_mode": {
    "name": "ipython",
    "version": 3
   },
   "file_extension": ".py",
   "mimetype": "text/x-python",
   "name": "python",
   "nbconvert_exporter": "python",
   "pygments_lexer": "ipython3",
   "version": "3.12.1"
  },
  "coopTranslator": {
   "original_hash": "03bc2561665a8b411acfc24a8aa0d442",
   "translation_date": "2025-10-11T11:57:46+00:00",
   "source_file": "20-mistral/python/githubmodels-assignment.ipynb",
   "language_code": "ta"
  }
 },
 "nbformat": 4,
 "nbformat_minor": 2
}