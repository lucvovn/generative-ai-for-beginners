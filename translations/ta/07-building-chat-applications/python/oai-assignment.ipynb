{
 "cells": [
  {
   "attachments": {},
   "cell_type": "markdown",
   "metadata": {
    "nteract": {
     "transient": {
      "deleting": false
     }
    }
   },
   "source": [
    "# அத்தியாயம் 7: உரையாடல் பயன்பாடுகளை உருவாக்குதல்\n",
    "## OpenAI API விரைவான தொடக்கம்\n",
    "\n",
    "இந்த நோட்புக் [Azure OpenAI Samples Repository](https://github.com/Azure/azure-openai-samples?WT.mc_id=academic-105485-koreyst) இலிருந்து மாற்றப்பட்டது, இது [Azure OpenAI](notebook-azure-openai.ipynb) சேவைகளை அணுகும் நோட்புக் கோப்புகளை உள்ளடக்கியது.\n",
    "\n",
    "Python OpenAI API, சில மாற்றங்களுடன் Azure OpenAI மாதிரிகளுடன் வேலை செய்கிறது. இங்கு வேறுபாடுகள் பற்றி மேலும் அறிக: [Python மூலம் OpenAI மற்றும் Azure OpenAI முடிவுகளை மாற்றுவது எப்படி](https://learn.microsoft.com/azure/ai-services/openai/how-to/switching-endpoints?WT.mc_id=academic-109527-jasmineg)\n"
   ]
  },
  {
   "attachments": {},
   "cell_type": "markdown",
   "metadata": {
    "nteract": {
     "transient": {
      "deleting": false
     }
    }
   },
   "source": [
    "# மேலோட்டம்  \n",
    "\"பெரிய மொழி மாதிரிகள் என்பது உரையை உரைக்கு மாற்றும் செயல்பாடுகள். ஒரு உள்ளீட்டு உரை சரத்தை வழங்கியபின், ஒரு பெரிய மொழி மாதிரி அடுத்ததாக வரும் உரையை கணிக்க முயற்சிக்கிறது\"(1). இந்த \"விரைவான தொடக்கம்\" நோட்புக் பயனர்களுக்கு உயர் நிலை LLM கருத்துக்கள், AML-ஐ தொடங்குவதற்கான முக்கிய தொகுப்பு தேவைகள், ப்ராம்ப்ட் வடிவமைப்பிற்கான மென்மையான அறிமுகம் மற்றும் பல்வேறு பயன்பாடுகளுக்கான சில குறுகிய உதாரணங்களை அறிமுகப்படுத்தும்.\n"
   ]
  },
  {
   "attachments": {},
   "cell_type": "markdown",
   "metadata": {
    "nteract": {
     "transient": {
      "deleting": false
     }
    }
   },
   "source": [
    "## உள்ளடக்க அட்டவணை  \n",
    "\n",
    "[கண்ணோட்டம்](../../../../07-building-chat-applications/python)  \n",
    "[OpenAI சேவையை எப்படி பயன்படுத்துவது](../../../../07-building-chat-applications/python)  \n",
    "[1. உங்கள் OpenAI சேவையை உருவாக்குதல்](../../../../07-building-chat-applications/python)  \n",
    "[2. நிறுவல்](../../../../07-building-chat-applications/python)    \n",
    "[3. சான்றுகள்](../../../../07-building-chat-applications/python)  \n",
    "\n",
    "[பயன்பாட்டு வழக்குகள்](../../../../07-building-chat-applications/python)    \n",
    "[1. உரையை சுருக்குதல்](../../../../07-building-chat-applications/python)  \n",
    "[2. உரையை வகைப்படுத்துதல்](../../../../07-building-chat-applications/python)  \n",
    "[3. புதிய தயாரிப்பு பெயர்களை உருவாக்குதல்](../../../../07-building-chat-applications/python)  \n",
    "[4. வகைப்படுத்தியை நன்றாக அமைத்தல்](../../../../07-building-chat-applications/python)  \n",
    "\n",
    "[குறிப்புகள்](../../../../07-building-chat-applications/python)  \n"
   ]
  },
  {
   "attachments": {},
   "cell_type": "markdown",
   "metadata": {
    "nteract": {
     "transient": {
      "deleting": false
     }
    }
   },
   "source": [
    "### உங்கள் முதல் ப்ராம்ப்டை உருவாக்குங்கள்  \n",
    "OpenAI மாடலுக்கு \"சுருக்கம்\" என்ற எளிய பணிக்காக ப்ராம்ப்ட்களை சமர்ப்பிக்க அடிப்படை அறிமுகத்தை வழங்க இந்த குறுகிய பயிற்சி உதவும்.\n",
    "\n",
    "**படிகள்**:  \n",
    "1. உங்கள் பைதான் சூழலில் OpenAI நூலகத்தை நிறுவுங்கள்  \n",
    "2. OpenAI சேவைக்கான உங்கள் பாதுகாப்பு சான்றுகளை அமைத்து, வழக்கமான உதவித் நூலகங்களை ஏற்றுங்கள்  \n",
    "3. உங்கள் பணிக்கான ஒரு மாடலை தேர்ந்தெடுக்கவும்  \n",
    "4. மாடலுக்கான ஒரு எளிய ப்ராம்ப்டை உருவாக்குங்கள்  \n",
    "5. உங்கள் கோரிக்கையை மாடல் API-க்கு சமர்ப்பிக்கவும்!\n"
   ]
  },
  {
   "attachments": {},
   "cell_type": "markdown",
   "metadata": {
    "nteract": {
     "transient": {
      "deleting": false
     }
    }
   },
   "source": [
    "### 1. ஓபன்ஏஐயை நிறுவவும்\n"
   ]
  },
  {
   "cell_type": "code",
   "execution_count": null,
   "metadata": {
    "gather": {
     "logged": 1674254990318
    },
    "jupyter": {
     "outputs_hidden": true,
     "source_hidden": false
    },
    "nteract": {
     "transient": {
      "deleting": false
     }
    }
   },
   "outputs": [],
   "source": [
    "%pip install openai python-dotenv"
   ]
  },
  {
   "attachments": {},
   "cell_type": "markdown",
   "metadata": {
    "nteract": {
     "transient": {
      "deleting": false
     }
    }
   },
   "source": [
    "### 2. உதவியாளர் நூலகங்களை இறக்குமதி செய்து சான்றுகளை உருவாக்கவும்\n"
   ]
  },
  {
   "cell_type": "code",
   "execution_count": null,
   "metadata": {
    "gather": {
     "logged": 1674829434433
    },
    "jupyter": {
     "outputs_hidden": false,
     "source_hidden": false
    },
    "nteract": {
     "transient": {
      "deleting": false
     }
    }
   },
   "outputs": [],
   "source": [
    "import os\n",
    "from openai import OpenAI\n",
    "from dotenv import load_dotenv\n",
    "\n",
    "load_dotenv()\n",
    "\n",
    "API_KEY = os.getenv(\"OPENAI_API_KEY\",\"\")\n",
    "assert API_KEY, \"ERROR: OpenAI Key is missing\"\n",
    "\n",
    "client = OpenAI(\n",
    "    api_key=API_KEY\n",
    "    )\n"
   ]
  },
  {
   "attachments": {},
   "cell_type": "markdown",
   "metadata": {
    "nteract": {
     "transient": {
      "deleting": false
     }
    }
   },
   "source": [
    "### 3. சரியான மாதிரியை கண்டறிதல்  \n",
    "GPT-3.5-turbo அல்லது GPT-4 மாதிரிகள் இயல்பான மொழியை புரிந்து கொண்டு உருவாக்க முடியும்.\n"
   ]
  },
  {
   "cell_type": "code",
   "execution_count": null,
   "metadata": {
    "gather": {
     "logged": 1674742720788
    },
    "jupyter": {
     "outputs_hidden": true,
     "source_hidden": false
    },
    "nteract": {
     "transient": {
      "deleting": false
     }
    }
   },
   "outputs": [],
   "source": [
    "# Select the General Purpose curie model for text\n",
    "model = \"gpt-3.5-turbo\""
   ]
  },
  {
   "attachments": {},
   "cell_type": "markdown",
   "metadata": {
    "nteract": {
     "transient": {
      "deleting": false
     }
    }
   },
   "source": [
    "## 4. ப்ராம்ப்ட் வடிவமைப்பு  \n",
    "\n",
    "\"பெரிய மொழி மாதிரிகளின் மாயம் என்னவென்றால், மிகப்பெரிய அளவிலான உரை மீது இந்த கணிப்பு பிழையை குறைக்க பயிற்சி அளிக்கப்படுவதன் மூலம், இந்த மாதிரிகள் இந்த கணிப்புகளுக்கு பயனுள்ள கருத்துக்களை கற்றுக்கொள்கின்றன. உதாரணமாக, அவை கருத்துக்களை கற்றுக்கொள்கின்றன, போன்றவை\"(1):\n",
    "\n",
    "* எப்படி எழுத்துகளை சரியாக எழுதுவது\n",
    "* இலக்கணத்தை எப்படி பயன்படுத்துவது\n",
    "* எப்படி மறுஉரையாடல் செய்ய வேண்டும்\n",
    "* கேள்விகளுக்கு எப்படி பதிலளிக்க வேண்டும்\n",
    "* உரையாடலை எப்படி தொடர வேண்டும்\n",
    "* பல மொழிகளில் எப்படி எழுத வேண்டும்\n",
    "* எப்படி குறியீடு எழுத வேண்டும்\n",
    "* மற்றும் பல.\n",
    "\n",
    "#### பெரிய மொழி மாதிரியை எப்படி கட்டுப்படுத்துவது  \n",
    "\"பெரிய மொழி மாதிரிக்கு உள்ள அனைத்து உள்ளீடுகளில், மிகவும் தாக்கம் செலுத்துவது உரை ப்ராம்ப்ட்(1).\n",
    "\n",
    "பெரிய மொழி மாதிரிகளை பின்வரும் வழிகளில் வெளியீடு உருவாக்க ப்ராம்ப்ட் செய்யலாம்:\n",
    "\n",
    "Instruction: மாதிரிக்கு நீங்கள் என்ன விரும்புகிறீர்கள் என்பதை சொல்லுங்கள்  \n",
    "Completion: நீங்கள் விரும்பும் விஷயத்தின் தொடக்கத்தை முடிக்க மாதிரியை தூண்டுங்கள்  \n",
    "Demonstration: நீங்கள் விரும்பும் விஷயத்தை மாதிரிக்கு காட்டுங்கள், இதோடு:  \n",
    "ப்ராம்ப்டில் சில உதாரணங்கள்  \n",
    "Fine-tuning பயிற்சி தரவுத்தொகுப்பில் பல நூற்றுக்கணக்கான அல்லது ஆயிரக்கணக்கான உதாரணங்கள்\"\n",
    "\n",
    "\n",
    "\n",
    "#### ப்ராம்ப்ட்களை உருவாக்க மூன்று அடிப்படை வழிகாட்டுதல்கள் உள்ளன:\n",
    "\n",
    "**காட்டவும் சொல்லவும்**. நீங்கள் என்ன விரும்புகிறீர்கள் என்பதை உத்தரவுகள், உதாரணங்கள் அல்லது இரண்டின் கலவையின் மூலம் தெளிவாகச் சொல்லுங்கள். நீங்கள் மாதிரியை ஒரு பொருட்களின் பட்டியலை அகரவரிசைப்படி வரிசைப்படுத்தச் செய்ய விரும்பினால் அல்லது ஒரு பத்தியை உணர்வின் அடிப்படையில் வகைப்படுத்தச் செய்ய விரும்பினால், அதுதான் நீங்கள் விரும்புகிறீர்கள் என்பதை காட்டுங்கள்.\n",
    "\n",
    "**தரமான தரவுகளை வழங்குங்கள்**. நீங்கள் ஒரு வகைப்படுத்தியை உருவாக்க முயற்சிக்கிறீர்கள் அல்லது மாதிரியை ஒரு முறைபாட்டை பின்பற்றச் செய்ய முயற்சிக்கிறீர்கள் என்றால், போதுமான உதாரணங்கள் உள்ளன என்பதை உறுதிப்படுத்துங்கள். உங்கள் உதாரணங்களை சரிபார்க்கவும் — மாதிரி பொதுவாக அடிப்படை எழுத்துப்பிழைகளைப் பார்த்து பதிலளிக்க திறமையானது, ஆனால் இது நோக்கமுடையது என்று கருதலாம், இது பதிலுக்கு பாதிப்பை ஏற்படுத்தலாம்.\n",
    "\n",
    "**உங்கள் அமைப்புகளை சரிபார்க்கவும்.** Temperature மற்றும் top_p அமைப்புகள் மாதிரி பதிலை உருவாக்குவதில் எவ்வளவு தீர்மானமாக இருக்கிறது என்பதை கட்டுப்படுத்துகின்றன. நீங்கள் ஒரு பதிலை கேட்கும்போது, அதில் ஒரு சரியான பதில் மட்டுமே இருக்கும்போது, இவற்றை குறைவாக அமைக்க விரும்புவீர்கள். நீங்கள் மேலும் பல்வேறு பதில்களை எதிர்பார்க்கும்போது, இவற்றை அதிகமாக அமைக்க விரும்பலாம். இந்த அமைப்புகளுடன் மக்கள் செய்யும் முதல் தவறு அவற்றை \"திறமை\" அல்லது \"படைப்பாற்றல்\" கட்டுப்பாடுகள் என்று கருதுவது.\n",
    "\n",
    "Source: https://learn.microsoft.com/azure/ai-services/openai/overview\n"
   ]
  },
  {
   "attachments": {},
   "cell_type": "markdown",
   "metadata": {
    "nteract": {
     "transient": {
      "deleting": false
     }
    }
   },
   "source": [
    "### 5. சமர்ப்பிக்க!\n"
   ]
  },
  {
   "cell_type": "code",
   "execution_count": null,
   "metadata": {
    "gather": {
     "logged": 1674494935186
    },
    "jupyter": {
     "outputs_hidden": false,
     "source_hidden": false
    },
    "nteract": {
     "transient": {
      "deleting": false
     }
    }
   },
   "outputs": [],
   "source": [
    "# Create your first prompt\n",
    "text_prompt = \"Should oxford commas always be used?\"\n",
    "\n",
    "response = client.chat.completions.create(\n",
    "  model=model,\n",
    "  messages = [{\"role\":\"system\", \"content\":\"You are a helpful assistant.\"},\n",
    "               {\"role\":\"user\",\"content\":text_prompt},])\n",
    "\n",
    "response.choices[0].message.content"
   ]
  },
  {
   "attachments": {},
   "cell_type": "markdown",
   "metadata": {
    "nteract": {
     "transient": {
      "deleting": false
     }
    }
   },
   "source": [
    "### ஒரே அழைப்பை மீண்டும் செய்யுங்கள், முடிவுகள் எப்படி ஒப்பிடப்படுகின்றன?\n"
   ]
  },
  {
   "cell_type": "code",
   "execution_count": null,
   "metadata": {
    "gather": {
     "logged": 1674494940872
    },
    "jupyter": {
     "outputs_hidden": false,
     "source_hidden": false
    },
    "nteract": {
     "transient": {
      "deleting": false
     }
    }
   },
   "outputs": [],
   "source": [
    "\n",
    "response = client.chat.completions.create(\n",
    "  model=model,\n",
    "  messages = [{\"role\":\"system\", \"content\":\"You are a helpful assistant.\"},\n",
    "               {\"role\":\"user\",\"content\":text_prompt},])\n",
    "\n",
    "response.choices[0].message.content"
   ]
  },
  {
   "attachments": {},
   "cell_type": "markdown",
   "metadata": {
    "nteract": {
     "transient": {
      "deleting": false
     }
    }
   },
   "source": [
    "## உரையை சுருக்குதல்  \n",
    "#### சவால்  \n",
    "ஒரு உரை பகுதியின் முடிவில் 'tl;dr:' சேர்த்து உரையை சுருக்கவும். மாடல் எந்த கூடுதல் வழிகாட்டுதலின்றி பல பணிகளை எப்படி செய்ய முடியும் என்பதை கவனிக்கவும். மாடலின் நடத்தை மாற்றவும், நீங்கள் பெறும் சுருக்கத்தை தனிப்பயனாக்கவும் 'tl;dr' க்கு மாறாக மேலும் விளக்கமான உத்தரவுகளை நீங்கள் பரிசோதிக்கலாம்(3).  \n",
    "\n",
    "சமீபத்திய ஆய்வுகள், ஒரு பெரிய உரை தொகுப்பில் முன்பயிற்சி செய்து, பின்னர் ஒரு குறிப்பிட்ட பணியில் நன்றாகச் சீரமைத்து, பல NLP பணிகள் மற்றும் தரநிலைகளில் குறிப்பிடத்தக்க முன்னேற்றங்களை காட்டியுள்ளன. பொதுவாக பணிக்கேற்ப இல்லாத கட்டமைப்பில் இருந்தாலும், இந்த முறை ஆயிரக்கணக்கான அல்லது பத்தாயிரக்கணக்கான உதாரணங்களின் பணிக்கேற்ப சீரமைப்பு தரவுத்தொகுப்புகளை இன்னும் தேவைப்படுத்துகிறது. இதற்கு மாறாக, மனிதர்கள் பொதுவாக சில உதாரணங்கள் அல்லது எளிய வழிகாட்டுதல்களிலிருந்து ஒரு புதிய மொழி பணியைச் செய்ய முடியும் - தற்போதைய NLP அமைப்புகள் பெரும்பாலும் இன்னும் போராடும் ஒரு விஷயம். இங்கு, மொழி மாடல்களை அதிகரிப்பது பணிக்கேற்ப இல்லாத, குறைந்த உதாரண செயல்திறனை மிகவும் மேம்படுத்துகிறது என்பதை நாங்கள் காட்டுகிறோம், சில நேரங்களில் முந்தைய சிறந்த சீரமைப்பு அணுகுமுறைகளுடன் போட்டியிடும் நிலையை அடைவதற்கும் கூட.  \n",
    "\n",
    "Tl;dr\n"
   ]
  },
  {
   "attachments": {},
   "cell_type": "markdown",
   "metadata": {
    "nteract": {
     "transient": {
      "deleting": false
     }
    }
   },
   "source": [
    "# பல்வேறு பயன்பாடுகளுக்கான பயிற்சிகள்  \n",
    "1. உரையை சுருக்கவும்  \n",
    "2. உரையை வகைப்படுத்தவும்  \n",
    "3. புதிய தயாரிப்பு பெயர்களை உருவாக்கவும்  \n"
   ]
  },
  {
   "cell_type": "code",
   "execution_count": null,
   "metadata": {
    "gather": {
     "logged": 1674495198534
    },
    "jupyter": {
     "outputs_hidden": false,
     "source_hidden": false
    },
    "nteract": {
     "transient": {
      "deleting": false
     }
    }
   },
   "outputs": [],
   "source": [
    "prompt = \"Recent work has demonstrated substantial gains on many NLP tasks and benchmarks by pre-training on a large corpus of text followed by fine-tuning on a specific task. While typically task-agnostic in architecture, this method still requires task-specific fine-tuning datasets of thousands or tens of thousands of examples. By contrast, humans can generally perform a new language task from only a few examples or from simple instructions - something that current NLP systems still largely struggle to do. Here we show that scaling up language models greatly improves task-agnostic, few-shot performance, sometimes even reaching competitiveness with prior state-of-the-art fine-tuning approaches.\\n\\nTl;dr\"\n"
   ]
  },
  {
   "cell_type": "code",
   "execution_count": null,
   "metadata": {
    "gather": {
     "logged": 1674495201868
    },
    "jupyter": {
     "outputs_hidden": false,
     "source_hidden": false
    },
    "nteract": {
     "transient": {
      "deleting": false
     }
    }
   },
   "outputs": [],
   "source": [
    "#Setting a few additional, typical parameters during API Call\n",
    "\n",
    "response = client.chat.completions.create(\n",
    "  model=model,\n",
    "  messages = [{\"role\":\"system\", \"content\":\"You are a helpful assistant.\"},\n",
    "               {\"role\":\"user\",\"content\":prompt},])\n",
    "\n",
    "response.choices[0].message.content"
   ]
  },
  {
   "attachments": {},
   "cell_type": "markdown",
   "metadata": {
    "nteract": {
     "transient": {
      "deleting": false
     }
    }
   },
   "source": [
    "## உரையை வகைப்படுத்தவும்  \n",
    "#### சவால்  \n",
    "உருப்படிகளை தீர்மானிக்கும் நேரத்தில் வழங்கப்பட்ட வகைகளில் வகைப்படுத்தவும். கீழே உள்ள உதாரணத்தில், நாங்கள் வகைகளையும் வகைப்படுத்த வேண்டிய உரையையும் கேள்வியில் வழங்குகிறோம் (*playground_reference).\n",
    "\n",
    "வாடிக்கையாளர் விசாரணை: வணக்கம், என் லேப்டாப் விசைப்பலகையின் ஒரு விசை சமீபத்தில் உடைந்துவிட்டது, எனவே எனக்கு மாற்று தேவைப்படும்:\n",
    "\n",
    "வகைப்படுத்தப்பட்ட வகை:\n"
   ]
  },
  {
   "cell_type": "code",
   "execution_count": null,
   "metadata": {
    "gather": {
     "logged": 1674499424645
    },
    "jupyter": {
     "outputs_hidden": false,
     "source_hidden": false
    },
    "nteract": {
     "transient": {
      "deleting": false
     }
    }
   },
   "outputs": [],
   "source": [
    "prompt = \"Classify the following inquiry into one of the following: categories: [Pricing, Hardware Support, Software Support]\\n\\ninquiry: Hello, one of the keys on my laptop keyboard broke recently and I'll need a replacement:\\n\\nClassified category:\"\n",
    "print(prompt)"
   ]
  },
  {
   "cell_type": "code",
   "execution_count": null,
   "metadata": {
    "gather": {
     "logged": 1674499378518
    },
    "jupyter": {
     "outputs_hidden": false,
     "source_hidden": false
    },
    "nteract": {
     "transient": {
      "deleting": false
     }
    }
   },
   "outputs": [],
   "source": [
    "#Setting a few additional, typical parameters during API Call\n",
    "\n",
    "response = client.chat.completions.create(\n",
    "  model=model,\n",
    "  messages = [{\"role\":\"system\", \"content\":\"You are a helpful assistant.\"},\n",
    "               {\"role\":\"user\",\"content\":prompt},])\n",
    "\n",
    "response.choices[0].message.content"
   ]
  },
  {
   "attachments": {},
   "cell_type": "markdown",
   "metadata": {
    "nteract": {
     "transient": {
      "deleting": false
     }
    }
   },
   "source": [
    "## புதிய தயாரிப்பு பெயர்களை உருவாக்கவும்  \n",
    "#### சவால்  \n",
    "உதாரண வார்த்தைகளிலிருந்து தயாரிப்பு பெயர்களை உருவாக்கவும். இங்கே, நாம் உருவாக்க வேண்டிய தயாரிப்பின் தகவல்களை முன்மொழிவில் சேர்த்துள்ளோம். மேலும், நாம் பெற விரும்பும் முறைமையை காட்ட ஒரு போன்ற உதாரணத்தை வழங்கியுள்ளோம். நாங்கள் வெப்பநிலையை அதிகரித்துள்ளோம், இது சீரற்ற தன்மையை அதிகரிக்கவும், மேலும் புதுமையான பதில்களை பெறவும் உதவுகிறது.  \n",
    "\n",
    "தயாரிப்பு விளக்கம்: வீட்டில் பயன்படுத்தும் மில்க்ஷேக் தயாரிப்பான்  \n",
    "விதை வார்த்தைகள்: வேகமான, ஆரோக்கியமான, சுருக்கமான  \n",
    "தயாரிப்பு பெயர்கள்: ஹோம் ஷேக்கர், ஃபிட் ஷேக்கர், க்விக் ஷேக், ஷேக் மேக்கர்  \n",
    "\n",
    "தயாரிப்பு விளக்கம்: எந்த கால்விரல் அளவுக்கும் பொருந்தக்கூடிய காலணிகள்  \n",
    "விதை வார்த்தைகள்: தழுவக்கூடிய, பொருந்தும், ஒம்னி-ஃபிட்  \n"
   ]
  },
  {
   "cell_type": "code",
   "execution_count": null,
   "metadata": {
    "gather": {
     "logged": 1674257087279
    },
    "jupyter": {
     "outputs_hidden": false,
     "source_hidden": false
    },
    "nteract": {
     "transient": {
      "deleting": false
     }
    }
   },
   "outputs": [],
   "source": [
    "prompt = \"Product description: A home milkshake maker\\nSeed words: fast, healthy, compact.\\nProduct names: HomeShaker, Fit Shaker, QuickShake, Shake Maker\\n\\nProduct description: A pair of shoes that can fit any foot size.\\nSeed words: adaptable, fit, omni-fit.\"\n",
    "\n",
    "print(prompt)"
   ]
  },
  {
   "cell_type": "code",
   "execution_count": null,
   "metadata": {
    "jupyter": {
     "outputs_hidden": false,
     "source_hidden": false
    },
    "nteract": {
     "transient": {
      "deleting": false
     }
    }
   },
   "outputs": [],
   "source": [
    "#Setting a few additional, typical parameters during API Call\n",
    "\n",
    "response = client.chat.completions.create(\n",
    "  model=model,\n",
    "  messages = [{\"role\":\"system\", \"content\":\"You are a helpful assistant.\"},\n",
    "               {\"role\":\"user\",\"content\":prompt}])\n",
    "\n",
    "response.choices[0].message.content"
   ]
  },
  {
   "attachments": {},
   "cell_type": "markdown",
   "metadata": {
    "nteract": {
     "transient": {
      "deleting": false
     }
    }
   },
   "source": [
    "# குறிப்புகள்  \n",
    "- [Openai Cookbook](https://github.com/openai/openai-cookbook?WT.mc_id=academic-105485-koreyst)  \n",
    "- [OpenAI Studio Examples](https://oai.azure.com/portal?WT.mc_id=academic-105485-koreyst)  \n",
    "- [GPT-3 ஐ நன்கு அமைப்பதற்கான சிறந்த நடைமுறைகள்](https://docs.google.com/document/d/1rqj7dkuvl7Byd5KQPUJRxc19BJt8wo0yHNwK84KfU3Q/edit#?WT.mc_id=academic-105485-koreyst)  \n"
   ]
  },
  {
   "attachments": {},
   "cell_type": "markdown",
   "metadata": {
    "nteract": {
     "transient": {
      "deleting": false
     }
    }
   },
   "source": [
    "# மேலும் உதவிக்கு  \n",
    "[OpenAI வணிகமயமாக்கல் குழு](AzureOpenAITeam@microsoft.com)\n"
   ]
  },
  {
   "attachments": {},
   "cell_type": "markdown",
   "metadata": {
    "nteract": {
     "transient": {
      "deleting": false
     }
    }
   },
   "source": [
    "# பங்களிப்பாளர்கள்\n",
    "* Louis Li  \n"
   ]
  },
  {
   "cell_type": "markdown",
   "metadata": {},
   "source": [
    "\n---\n\n**குறிப்பு**:  \nஇந்த ஆவணம் [Co-op Translator](https://github.com/Azure/co-op-translator) என்ற AI மொழிபெயர்ப்பு சேவையைப் பயன்படுத்தி மொழிபெயர்க்கப்பட்டுள்ளது. நாங்கள் துல்லியத்திற்காக முயற்சிக்கின்றோம், ஆனால் தானியக்க மொழிபெயர்ப்புகளில் பிழைகள் அல்லது தவறான தகவல்கள் இருக்கக்கூடும் என்பதை தயவுசெய்து கவனத்தில் கொள்ளுங்கள். அதன் தாய்மொழியில் உள்ள மூல ஆவணம் அதிகாரப்பூர்வ ஆதாரமாக கருதப்பட வேண்டும். முக்கியமான தகவல்களுக்கு, தொழில்முறை மனித மொழிபெயர்ப்பு பரிந்துரைக்கப்படுகிறது. இந்த மொழிபெயர்ப்பைப் பயன்படுத்துவதால் ஏற்படும் எந்த தவறான புரிதல்கள் அல்லது தவறான விளக்கங்களுக்கு நாங்கள் பொறுப்பல்ல.\n"
   ]
  }
 ],
 "metadata": {
  "kernel_info": {
   "name": "python310-sdkv2"
  },
  "kernelspec": {
   "display_name": "base",
   "language": "python",
   "name": "python3"
  },
  "language_info": {
   "codemirror_mode": {
    "name": "ipython",
    "version": 3
   },
   "file_extension": ".py",
   "mimetype": "text/x-python",
   "name": "python",
   "nbconvert_exporter": "python",
   "pygments_lexer": "ipython3",
   "version": "3.10.13"
  },
  "microsoft": {
   "host": {
    "AzureML": {
     "notebookHasBeenCompleted": true
    }
   }
  },
  "nteract": {
   "version": "nteract-front-end@1.0.0"
  },
  "coopTranslator": {
   "original_hash": "1854bdde1dd56b366f1f6c9122f7d304",
   "translation_date": "2025-10-11T12:10:34+00:00",
   "source_file": "07-building-chat-applications/python/oai-assignment.ipynb",
   "language_code": "ta"
  }
 },
 "nbformat": 4,
 "nbformat_minor": 2
}