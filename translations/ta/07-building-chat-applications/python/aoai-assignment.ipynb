{
 "cells": [
  {
   "attachments": {},
   "cell_type": "markdown",
   "metadata": {
    "nteract": {
     "transient": {
      "deleting": false
     }
    }
   },
   "source": [
    "# அத்தியாயம் 7: உரையாடல் பயன்பாடுகளை உருவாக்குதல்\n",
    "## Azure OpenAI API விரைவான தொடக்கம்\n"
   ]
  },
  {
   "attachments": {},
   "cell_type": "markdown",
   "metadata": {
    "nteract": {
     "transient": {
      "deleting": false
     }
    }
   },
   "source": [
    "## மேலோட்டம்  \n",
    "இந்த நோட்புக் [Azure OpenAI Samples Repository](https://github.com/Azure/azure-openai-samples?WT.mc_id=academic-105485-koreyst) இலிருந்து மாற்றப்பட்டது, இதில் [OpenAI](notebook-openai.ipynb) சேவையை அணுகும் நோட்புக் களும் அடங்கும்.  \n",
    "\n",
    "Python OpenAI API Azure OpenAI உடன் சில மாற்றங்களுடன் வேலை செய்கிறது. இங்கு வேறுபாடுகள் பற்றி மேலும் அறிக: [Python மூலம் OpenAI மற்றும் Azure OpenAI முடிவுகளை மாற்றுவது எப்படி](https://learn.microsoft.com/azure/ai-services/openai/how-to/switching-endpoints?WT.mc_id=academic-109527-jasmineg)  \n",
    "\n",
    "மேலும் விரைவான தொடக்க உதாரணங்களுக்கு, அதிகாரப்பூர்வ [Azure OpenAI Quickstart Documentation](https://learn.microsoft.com/azure/cognitive-services/openai/quickstart?pivots=programming-language-studio&WT.mc_id=academic-105485-koreyst) ஐ பார்க்கவும்.  \n"
   ]
  },
  {
   "attachments": {},
   "cell_type": "markdown",
   "metadata": {
    "nteract": {
     "transient": {
      "deleting": false
     }
    }
   },
   "source": [
    "## உள்ளடக்க அட்டவணை  \n",
    "\n",
    "[மேலோட்டம்](../../../../07-building-chat-applications/python)  \n",
    "[Azure OpenAI சேவையைத் தொடங்குதல்](../../../../07-building-chat-applications/python)  \n",
    "[உங்கள் முதல் ப்ராம்ப்டை உருவாக்குங்கள்](../../../../07-building-chat-applications/python)  \n",
    "\n",
    "[பயன்பாட்டு வழக்குகள்](../../../../07-building-chat-applications/python)    \n",
    "[1. உரையை சுருக்குதல்](../../../../07-building-chat-applications/python)  \n",
    "[2. உரையை வகைப்படுத்துதல்](../../../../07-building-chat-applications/python)  \n",
    "[3. புதிய தயாரிப்பு பெயர்களை உருவாக்குதல்](../../../../07-building-chat-applications/python)  \n",
    "[4. வகைப்படுத்தியை நன்றாகத் தகுதிப்படுத்துதல்](../../../../07-building-chat-applications/python)  \n",
    "[5. எம்பெடிங்க்ஸ்](../../../../07-building-chat-applications/python)\n",
    "\n",
    "[குறிப்புகள்](../../../../07-building-chat-applications/python)\n"
   ]
  },
  {
   "attachments": {},
   "cell_type": "markdown",
   "metadata": {
    "nteract": {
     "transient": {
      "deleting": false
     }
    }
   },
   "source": [
    "### Azure OpenAI சேவையை தொடங்குவது\n",
    "\n",
    "புதிய வாடிக்கையாளர்கள் Azure OpenAI சேவைக்கு [அணுகலை விண்ணப்பிக்க](https://aka.ms/oai/access?WT.mc_id=academic-105485-koreyst) வேண்டும்.  \n",
    "அனுமதி முடிந்தவுடன், வாடிக்கையாளர்கள் Azure போர்ட்டலில் உள்நுழைந்து, Azure OpenAI சேவையின் ஒரு வளத்தை உருவாக்கி, ஸ்டுடியோவின் மூலம் மாதிரிகளை பரிசோதனை செய்ய தொடங்கலாம்.  \n",
    "\n",
    "[விரைவில் தொடங்க சிறந்த வளம்](https://techcommunity.microsoft.com/blog/educatordeveloperblog/azure-openai-service-is-now-generally-available/3719177?WT.mc_id=academic-105485-koreyst)\n"
   ]
  },
  {
   "attachments": {},
   "cell_type": "markdown",
   "metadata": {
    "nteract": {
     "transient": {
      "deleting": false
     }
    }
   },
   "source": [
    "### உங்கள் முதல் ப்ராம்ப்டை உருவாக்குங்கள்  \n",
    "இந்தச் சிறிய பயிற்சி \"சுருக்கம்\" என்ற எளிய பணிக்காக OpenAI மாடலுக்கு ப்ராம்ப்ட்களை சமர்ப்பிப்பதற்கான அடிப்படை அறிமுகத்தை வழங்கும்.\n",
    "\n",
    "**அடிக்கடி செய்யவேண்டியவை**:  \n",
    "1. உங்கள் பைதான் சூழலில் OpenAI நூலகத்தை நிறுவுங்கள்  \n",
    "2. OpenAI சேவைக்கான உங்கள் பாதுகாப்பு சான்றுகளை அமைத்து, வழக்கமான உதவியாளர் நூலகங்களை ஏற்றுங்கள்  \n",
    "3. உங்கள் பணிக்கான ஒரு மாடலை தேர்ந்தெடுக்கவும்  \n",
    "4. மாடலுக்கான ஒரு எளிய ப்ராம்ப்டை உருவாக்குங்கள்  \n",
    "5. உங்கள் கோரிக்கையை மாடல் API-க்கு சமர்ப்பிக்கவும்!\n"
   ]
  },
  {
   "attachments": {},
   "cell_type": "markdown",
   "metadata": {
    "nteract": {
     "transient": {
      "deleting": false
     }
    }
   },
   "source": [
    "### 1. ஓபன்ஏஐயை நிறுவவும்\n"
   ]
  },
  {
   "cell_type": "markdown",
   "metadata": {},
   "source": [
    "> [!NOTE] இந்த படியை Codespaces அல்லது Devcontainer-இல் இந்த நோட்புக் இயக்கினால் தேவையில்லை.\n"
   ]
  },
  {
   "cell_type": "code",
   "execution_count": null,
   "metadata": {
    "gather": {
     "logged": 1674254990318
    },
    "jupyter": {
     "outputs_hidden": true,
     "source_hidden": false
    },
    "nteract": {
     "transient": {
      "deleting": false
     }
    }
   },
   "outputs": [],
   "source": [
    "%pip install openai python-dotenv"
   ]
  },
  {
   "attachments": {},
   "cell_type": "markdown",
   "metadata": {
    "nteract": {
     "transient": {
      "deleting": false
     }
    }
   },
   "source": [
    "### 2. உதவிக் நூலகங்களை இறக்குமதி செய்து சான்றுகளை உருவாக்கவும்\n"
   ]
  },
  {
   "cell_type": "code",
   "execution_count": null,
   "metadata": {
    "gather": {
     "logged": 1674829434433
    },
    "jupyter": {
     "outputs_hidden": false,
     "source_hidden": false
    },
    "nteract": {
     "transient": {
      "deleting": false
     }
    }
   },
   "outputs": [],
   "source": [
    "import os\n",
    "from openai import AzureOpenAI\n",
    "import numpy as np\n",
    "from dotenv import load_dotenv\n",
    "load_dotenv()\n",
    "\n",
    "#validate data inside .env file\n",
    "\n",
    "client = AzureOpenAI(\n",
    "  api_key=os.environ['AZURE_OPENAI_API_KEY'],  # this is also the default, it can be omitted\n",
    "  api_version = \"2023-05-15\"\n",
    "  )"
   ]
  },
  {
   "attachments": {},
   "cell_type": "markdown",
   "metadata": {
    "nteract": {
     "transient": {
      "deleting": false
     }
    }
   },
   "source": [
    "### 3. சரியான மாதிரியை கண்டறிதல்  \n",
    "GPT-3.5-turbo அல்லது GPT-4 மாதிரிகள் இயற்கை மொழியை புரிந்து கொண்டு உருவாக்க முடியும். இந்த சேவை நான்கு மாதிரி திறன்களை வழங்குகிறது, ஒவ்வொன்றும் வெவ்வேறு திறன் மற்றும் வேகத்துடன் பல்வேறு பணிகளுக்கு பொருத்தமாக இருக்கும்.  \n",
    "\n",
    "[Azure OpenAI மாதிரிகள்](https://learn.microsoft.com/azure/cognitive-services/openai/concepts/models?WT.mc_id=academic-105485-koreyst)\n"
   ]
  },
  {
   "cell_type": "code",
   "execution_count": null,
   "metadata": {
    "gather": {
     "logged": 1674742720788
    },
    "jupyter": {
     "outputs_hidden": true,
     "source_hidden": false
    },
    "nteract": {
     "transient": {
      "deleting": false
     }
    }
   },
   "outputs": [],
   "source": [
    "# Select the General Purpose curie model for text\n",
    "model = os.environ['AZURE_OPENAI_DEPLOYMENT']"
   ]
  },
  {
   "attachments": {},
   "cell_type": "markdown",
   "metadata": {
    "nteract": {
     "transient": {
      "deleting": false
     }
    }
   },
   "source": [
    "## 4. ப்ராம்ப்ட் வடிவமைப்பு  \n",
    "\n",
    "\"பெரிய மொழி மாதிரிகளின் மந்திரம் என்னவென்றால், மிகப்பெரிய அளவிலான உரை மீது இந்த கணிப்பு பிழையை குறைக்க பயிற்சி அளிக்கப்படுவதன் மூலம், இந்த மாதிரிகள் இந்த கணிப்புகளுக்கு உதவக்கூடிய கருத்துக்களை கற்றுக்கொள்கின்றன. உதாரணமாக, அவை கீழ்க்கண்ட கருத்துக்களை கற்றுக்கொள்கின்றன\"(1):\n",
    "\n",
    "* எப்படி எழுத்துகளை சரியாக எழுதுவது\n",
    "* இலக்கணத்தை எப்படி பயன்படுத்துவது\n",
    "* எப்படி மறுஉரையாடல் செய்ய வேண்டும்\n",
    "* கேள்விகளுக்கு எப்படி பதிலளிக்க வேண்டும்\n",
    "* உரையாடலை எப்படி தொடர வேண்டும்\n",
    "* பல மொழிகளில் எப்படி எழுத வேண்டும்\n",
    "* எப்படி குறியீடு எழுத வேண்டும்\n",
    "* மற்றும் பல.\n",
    "\n",
    "#### பெரிய மொழி மாதிரியை எப்படி கட்டுப்படுத்துவது  \n",
    "\"பெரிய மொழி மாதிரிக்கு உள்ள அனைத்து உள்ளீடுகளில், மிகவும் தாக்கம் செலுத்துவது உரை ப்ராம்ப்ட் ஆகும்(1).\n",
    "\n",
    "பெரிய மொழி மாதிரிகளை பின்வரும் வழிகளில் வெளியீடு உருவாக்க ப்ராம்ப்ட் செய்யலாம்:\n",
    "\n",
    "- **வழிகாட்டல்**: நீங்கள் என்ன விரும்புகிறீர்கள் என்பதை மாதிரிக்கு சொல்லுங்கள்  \n",
    "- **நிறைவு**: நீங்கள் விரும்பும் விஷயத்தின் தொடக்கத்தை மாதிரியில் தொடங்குங்கள்  \n",
    "- **காட்டுதல்**: நீங்கள் விரும்பும் விஷயத்தை மாதிரிக்கு காட்டுங்கள், இதற்காக:  \n",
    "  - ப்ராம்ப்டில் சில உதாரணங்கள்  \n",
    "  - நூற்றுக்கணக்கான அல்லது ஆயிரக்கணக்கான உதாரணங்களை ஒரு நன்றாக அமைக்கப்பட்ட பயிற்சி தரவுத்தொகுப்பில்  \n",
    "\n",
    "#### ப்ராம்ப்ட்களை உருவாக்க மூன்று அடிப்படை வழிகாட்டுதல்கள் உள்ளன:\n",
    "\n",
    "**காட்டவும் சொல்லவும்**. நீங்கள் என்ன விரும்புகிறீர்கள் என்பதை வழிகாட்டல்களால், உதாரணங்களால் அல்லது இரண்டின் கலவையால் தெளிவாகச் சொல்லுங்கள். நீங்கள் மாதிரியை ஒரு பட்டியலை அகரவரிசைப்படி வரிசைப்படுத்தச் சொல்ல விரும்பினால் அல்லது ஒரு பத்தியை உணர்வுகளால் வகைப்படுத்தச் சொல்ல விரும்பினால், அதுதான் நீங்கள் விரும்புகிறீர்கள் என்பதை காட்டுங்கள்.\n",
    "\n",
    "**தரமான தரவுகளை வழங்குங்கள்**. நீங்கள் ஒரு வகைப்படுத்தியை உருவாக்க முயற்சிக்கிறீர்கள் அல்லது மாதிரி ஒரு முறைபாட்டை பின்பற்ற வேண்டும் என்று நினைக்கிறீர்கள் என்றால், போதுமான உதாரணங்கள் இருக்க வேண்டும் என்பதை உறுதிப்படுத்துங்கள். உங்கள் உதாரணங்களை சரிபார்க்கவும் — மாதிரி பொதுவாக அடிப்படை எழுத்துப்பிழைகளை கண்டறிய மற்றும் பதிலளிக்க திறமையானது, ஆனால் இது நோக்கமுடையது என்று கருதலாம், இது பதிலுக்கு பாதிப்பை ஏற்படுத்தலாம்.\n",
    "\n",
    "**உங்கள் அமைப்புகளை சரிபார்க்கவும்.** Temperature மற்றும் top_p அமைப்புகள் மாதிரி பதிலை உருவாக்குவதில் எவ்வளவு தீர்மானமாக இருக்கிறது என்பதை கட்டுப்படுத்துகின்றன. நீங்கள் ஒரு பதிலை கேட்கும்போது, அதில் ஒரு சரியான பதில் மட்டுமே இருக்க வேண்டும் என்றால், இதை குறைவாக அமைக்க விரும்புவீர்கள். நீங்கள் பல்வேறு பதில்களை எதிர்பார்க்கிறீர்கள் என்றால், இதை அதிகமாக அமைக்க விரும்பலாம். இந்த அமைப்புகளுடன் மக்கள் செய்யும் முதல் தவறு, அவை \"விவேகம்\" அல்லது \"படைப்பாற்றல்\" கட்டுப்பாடுகள் என்று கருதுவது.\n",
    "\n",
    "Source: https://learn.microsoft.com/azure/ai-services/openai/overview\n"
   ]
  },
  {
   "attachments": {},
   "cell_type": "markdown",
   "metadata": {
    "nteract": {
     "transient": {
      "deleting": false
     }
    }
   },
   "source": [
    "படம் உங்கள் முதல் உரை உந்துதலை உருவாக்குகிறது!\n"
   ]
  },
  {
   "attachments": {},
   "cell_type": "markdown",
   "metadata": {
    "nteract": {
     "transient": {
      "deleting": false
     }
    }
   },
   "source": [
    "### 5. சமர்ப்பிக்கவும்!\n"
   ]
  },
  {
   "cell_type": "code",
   "execution_count": null,
   "metadata": {
    "gather": {
     "logged": 1674494935186
    },
    "jupyter": {
     "outputs_hidden": false,
     "source_hidden": false
    },
    "nteract": {
     "transient": {
      "deleting": false
     }
    }
   },
   "outputs": [],
   "source": [
    "# Create your first prompt\n",
    "text_prompt = \"Should oxford commas always be used?\"\n",
    "\n",
    "response = client.chat.completions.create(\n",
    "  model=model,\n",
    "  messages = [{\"role\":\"system\", \"content\":\"You are a helpful assistant.\"},\n",
    "               {\"role\":\"user\",\"content\":text_prompt},])\n",
    "\n",
    "response.choices[0].message.content"
   ]
  },
  {
   "attachments": {},
   "cell_type": "markdown",
   "metadata": {
    "nteract": {
     "transient": {
      "deleting": false
     }
    }
   },
   "source": [
    "### ஒரே அழைப்பை மீண்டும் செய்யுங்கள், முடிவுகள் எப்படி ஒப்பிடப்படுகின்றன?\n"
   ]
  },
  {
   "cell_type": "code",
   "execution_count": null,
   "metadata": {
    "gather": {
     "logged": 1674494940872
    },
    "jupyter": {
     "outputs_hidden": false,
     "source_hidden": false
    },
    "nteract": {
     "transient": {
      "deleting": false
     }
    }
   },
   "outputs": [],
   "source": [
    "\n",
    "response = client.chat.completions.create(\n",
    "  model=model,\n",
    "  messages = [{\"role\":\"system\", \"content\":\"You are a helpful assistant.\"},\n",
    "               {\"role\":\"user\",\"content\":text_prompt},])\n",
    "\n",
    "response.choices[0].message.content"
   ]
  },
  {
   "attachments": {},
   "cell_type": "markdown",
   "metadata": {
    "nteract": {
     "transient": {
      "deleting": false
     }
    }
   },
   "source": [
    "## உரையை சுருக்குதல்  \n",
    "#### சவால்  \n",
    "ஒரு உரை பகுதியின் முடிவில் 'tl;dr:' சேர்த்து உரையை சுருக்கவும். மாடல் எந்த கூடுதல் வழிகாட்டுதலின்றி பல பணிகளை எப்படி செய்ய முடியும் என்பதை கவனிக்கவும். tl;dr க்கு மாறாக, மேலும் விவரமான உத்தரவுகளை பயன்படுத்தி மாடலின் நடத்தை மாற்றவும் மற்றும் நீங்கள் பெறும் சுருக்கத்தை தனிப்பயனாக்கவும் முயற்சிக்கவும்(3).  \n",
    "\n",
    "சமீபத்திய ஆய்வுகள், ஒரு பெரிய உரை தொகுப்பில் முன்பயிற்சி செய்து, பின்னர் ஒரு குறிப்பிட்ட பணியில் நன்றாகப் பயிற்சி செய்வதன் மூலம் பல NLP பணிகள் மற்றும் தரநிலைகளில் குறிப்பிடத்தக்க முன்னேற்றங்களை காட்டியுள்ளன. பொதுவாக பணிக்கு சார்பற்ற கட்டமைப்பில் இருந்தாலும், இந்த முறை ஆயிரக்கணக்கான அல்லது பத்தாயிரக்கணக்கான உதாரணங்களின் பணிக்கு சார்ந்த நன்றாகப் பயிற்சி தரவுத்தொகுப்புகளை இன்னும் தேவைப்படுத்துகிறது. இதற்கு மாறாக, மனிதர்கள் பொதுவாக சில உதாரணங்கள் அல்லது எளிய வழிகாட்டுதல்களிலிருந்து ஒரு புதிய மொழி பணியைச் செய்ய முடியும் - தற்போதைய NLP அமைப்புகள் பெரும்பாலும் இன்னும் போராடும் ஒரு விஷயம். இங்கு, மொழி மாடல்களை அதிகரிப்பது பணிக்கு சார்பற்ற, குறைந்த உதாரண செயல்திறனை மிகவும் மேம்படுத்துகிறது என்பதை நாங்கள் காட்டுகிறோம், சில நேரங்களில் முந்தைய சிறந்த நன்றாகப் பயிற்சி அணுகுமுறைகளுடன் போட்டியிடும் அளவுக்கு கூட சென்று விடுகிறது.  \n",
    "\n",
    "Tl;dr\n"
   ]
  },
  {
   "attachments": {},
   "cell_type": "markdown",
   "metadata": {
    "nteract": {
     "transient": {
      "deleting": false
     }
    }
   },
   "source": [
    "# பல்வேறு பயன்பாடுகளுக்கான பயிற்சிகள்  \n",
    "1. உரையை சுருக்கவும்  \n",
    "2. உரையை வகைப்படுத்தவும்  \n",
    "3. புதிய தயாரிப்பு பெயர்களை உருவாக்கவும்  \n",
    "4. எம்பெடிங்க்ஸ்  \n",
    "5. வகைப்படுத்தியை நன்றாக அமைக்கவும்  \n"
   ]
  },
  {
   "cell_type": "code",
   "execution_count": null,
   "metadata": {
    "gather": {
     "logged": 1674495198534
    },
    "jupyter": {
     "outputs_hidden": false,
     "source_hidden": false
    },
    "nteract": {
     "transient": {
      "deleting": false
     }
    }
   },
   "outputs": [],
   "source": [
    "prompt = \"Recent work has demonstrated substantial gains on many NLP tasks and benchmarks by pre-training on a large corpus of text followed by fine-tuning on a specific task. While typically task-agnostic in architecture, this method still requires task-specific fine-tuning datasets of thousands or tens of thousands of examples. By contrast, humans can generally perform a new language task from only a few examples or from simple instructions - something that current NLP systems still largely struggle to do. Here we show that scaling up language models greatly improves task-agnostic, few-shot performance, sometimes even reaching competitiveness with prior state-of-the-art fine-tuning approaches.\\n\\ntl;dr\"\n"
   ]
  },
  {
   "cell_type": "code",
   "execution_count": null,
   "metadata": {
    "gather": {
     "logged": 1674495201868
    },
    "jupyter": {
     "outputs_hidden": false,
     "source_hidden": false
    },
    "nteract": {
     "transient": {
      "deleting": false
     }
    }
   },
   "outputs": [],
   "source": [
    "#Setting a few additional, typical parameters during API Call\n",
    "\n",
    "response = client.chat.completions.create(\n",
    "  model=model,\n",
    "  messages = [{\"role\":\"system\", \"content\":\"You are a helpful assistant.\"},\n",
    "               {\"role\":\"user\",\"content\":prompt},])\n",
    "\n",
    "response.choices[0].message.content"
   ]
  },
  {
   "attachments": {},
   "cell_type": "markdown",
   "metadata": {
    "nteract": {
     "transient": {
      "deleting": false
     }
    }
   },
   "source": [
    "## உரையை வகைப்படுத்துதல்  \n",
    "#### சவால்  \n",
    "உருப்படிகளை தீர்மானிக்கும் நேரத்தில் வழங்கப்பட்ட பிரிவுகளில் வகைப்படுத்துங்கள். கீழே உள்ள உதாரணத்தில், பிரிவுகளையும் வகைப்படுத்த வேண்டிய உரையையும் கேள்வியில் வழங்குகிறோம் (*playground_reference).\n",
    "\n",
    "வாடிக்கையாளர் விசாரணை: வணக்கம், என் லேப்டாப் கீபோர்டில் உள்ள ஒரு விசை சமீபத்தில் உடைந்துவிட்டது, எனவே எனக்கு மாற்று தேவைப்படும்:\n",
    "\n",
    "வகைப்படுத்தப்பட்ட பிரிவு:\n"
   ]
  },
  {
   "cell_type": "code",
   "execution_count": null,
   "metadata": {
    "gather": {
     "logged": 1674499424645
    },
    "jupyter": {
     "outputs_hidden": false,
     "source_hidden": false
    },
    "nteract": {
     "transient": {
      "deleting": false
     }
    }
   },
   "outputs": [],
   "source": [
    "prompt = \"Classify the following inquiry into one of the following: categories: [Pricing, Hardware Support, Software Support]\\n\\ninquiry: Hello, one of the keys on my laptop keyboard broke recently and I'll need a replacement:\\n\\nClassified category:\"\n",
    "print(prompt)"
   ]
  },
  {
   "cell_type": "code",
   "execution_count": null,
   "metadata": {
    "gather": {
     "logged": 1674499378518
    },
    "jupyter": {
     "outputs_hidden": false,
     "source_hidden": false
    },
    "nteract": {
     "transient": {
      "deleting": false
     }
    }
   },
   "outputs": [],
   "source": [
    "#Setting a few additional, typical parameters during API Call\n",
    "\n",
    "response = client.chat.completions.create(\n",
    "  model=model,\n",
    "  messages = [{\"role\":\"system\", \"content\":\"You are a helpful assistant.\"},\n",
    "               {\"role\":\"user\",\"content\":prompt},])\n",
    "\n",
    "response.choices[0].message.content"
   ]
  },
  {
   "attachments": {},
   "cell_type": "markdown",
   "metadata": {
    "nteract": {
     "transient": {
      "deleting": false
     }
    }
   },
   "source": [
    "## புதிய தயாரிப்பு பெயர்களை உருவாக்கவும்  \n",
    "#### சவால்  \n",
    "ตัวอย่างคำที่ใช้ในการสร้างชื่อผลิตภัณฑ์ใหม่. இங்கே, நாம் உருவாக்க வேண்டிய தயாரிப்பின் தகவல்களை வழங்குகிறோம். மேலும், நாம் எதிர்பார்க்கும் வடிவத்தை காட்ட ஒரு மாதிரியை வழங்குகிறோம். நாங்கள் வெப்பநிலை மதிப்பை அதிகரித்து, சீரற்ற மற்றும் புதுமையான பதில்களை பெற முயற்சிக்கிறோம்.  \n",
    "\n",
    "தயாரிப்பு விளக்கம்: வீட்டில் பயன்படுத்தும் மில்க்ஷேக் தயாரிப்பு  \n",
    "விதை வார்த்தைகள்: வேகமான, ஆரோக்கியமான, சுருக்கமான  \n",
    "தயாரிப்பு பெயர்கள்: ஹோம் ஷேக்கர், ஃபிட் ஷேக்கர், க்விக் ஷேக், ஷேக் மேக்கர்  \n",
    "\n",
    "தயாரிப்பு விளக்கம்: எந்த கால்வடத்திற்கும் பொருந்தக்கூடிய காலணிகள்  \n",
    "விதை வார்த்தைகள்: தழுவக்கூடிய, பொருந்தும், ஒம்னி-ஃபிட்\n"
   ]
  },
  {
   "cell_type": "code",
   "execution_count": null,
   "metadata": {
    "gather": {
     "logged": 1674257087279
    },
    "jupyter": {
     "outputs_hidden": false,
     "source_hidden": false
    },
    "nteract": {
     "transient": {
      "deleting": false
     }
    }
   },
   "outputs": [],
   "source": [
    "prompt = \"Product description: A home milkshake maker\\nSeed words: fast, healthy, compact.\\nProduct names: HomeShaker, Fit Shaker, QuickShake, Shake Maker\\n\\nProduct description: A pair of shoes that can fit any foot size.\\nSeed words: adaptable, fit, omni-fit.\"\n",
    "\n",
    "print(prompt)"
   ]
  },
  {
   "cell_type": "code",
   "execution_count": null,
   "metadata": {
    "jupyter": {
     "outputs_hidden": false,
     "source_hidden": false
    },
    "nteract": {
     "transient": {
      "deleting": false
     }
    }
   },
   "outputs": [],
   "source": [
    "#Setting a few additional, typical parameters during API Call\n",
    "\n",
    "response = client.chat.completions.create(\n",
    "  model=model,\n",
    "  messages = [{\"role\":\"system\", \"content\":\"You are a helpful assistant.\"},\n",
    "               {\"role\":\"user\",\"content\":prompt}])\n",
    "\n",
    "response.choices[0].message.content"
   ]
  },
  {
   "attachments": {},
   "cell_type": "markdown",
   "metadata": {
    "nteract": {
     "transient": {
      "deleting": false
     }
    }
   },
   "source": [
    "## எம்பெடிங்ஸ்\n",
    "இந்த பகுதி எம்பெடிங்ஸ்களை எவ்வாறு பெறுவது மற்றும் வார்த்தைகள், வாக்கியங்கள், ஆவணங்கள் ஆகியவற்றுக்கு இடையிலான ஒற்றுமைகளை கண்டறிவது என்பதை காட்டும். கீழே உள்ள நோட்புக்-களை இயக்க, `text-embedding-ada-002` அடிப்படை மாடலை பயன்படுத்தும் ஒரு மாடலை பிரசுரிக்க வேண்டும், மேலும் .env கோப்பில் அதன் பிரசுரத்தின் பெயரை `AZURE_OPENAI_EMBEDDINGS_DEPLOYMENT` மாறியில் அமைக்க வேண்டும்.\n"
   ]
  },
  {
   "attachments": {},
   "cell_type": "markdown",
   "metadata": {
    "nteract": {
     "transient": {
      "deleting": false
     }
    }
   },
   "source": [
    "### மாதிரி வகைப்பாடு - ஒரு எம்பெடிங் மாடலை தேர்வு செய்வது\n",
    "\n",
    "**மாதிரி வகைப்பாடு**: {family} - {capability} - {input-type} - {identifier}  \n",
    "\n",
    "{family}     --> text-embedding  (எம்பெடிங் குடும்பம்)  \n",
    "{capability} --> ada             (மற்ற அனைத்து எம்பெடிங் மாடல்களும் 2024ல் ஓய்வு பெறும்)  \n",
    "{input-type} --> n/a             (தேடல் மாடல்களுக்கு மட்டுமே குறிப்பிடப்படும்)  \n",
    "{identifier} --> 002             (பதிப்பு 002)  \n",
    "\n",
    "model = 'text-embedding-ada-002'\n"
   ]
  },
  {
   "cell_type": "markdown",
   "metadata": {},
   "source": [
    "> [!குறிப்பு] இந்த அடுத்த படி Codespaces அல்லது Devcontainer-ல் இந்த நோட்புக் இயக்கப்படும் போது தேவையில்லை\n"
   ]
  },
  {
   "cell_type": "code",
   "execution_count": null,
   "metadata": {},
   "outputs": [],
   "source": [
    "# Dependencies for embeddings_utils\n",
    "%pip install matplotlib plotly scikit-learn pandas"
   ]
  },
  {
   "cell_type": "code",
   "execution_count": null,
   "metadata": {
    "gather": {
     "logged": 1674829364153
    },
    "jupyter": {
     "outputs_hidden": false,
     "source_hidden": false
    },
    "nteract": {
     "transient": {
      "deleting": false
     }
    }
   },
   "outputs": [],
   "source": [
    "def cosine_similarity(a, b):\n",
    "    return np.dot(a, b) / (np.linalg.norm(a) * np.linalg.norm(b))"
   ]
  },
  {
   "cell_type": "code",
   "execution_count": null,
   "metadata": {
    "gather": {
     "logged": 1674829424097
    },
    "jupyter": {
     "outputs_hidden": false,
     "source_hidden": false
    },
    "nteract": {
     "transient": {
      "deleting": false
     }
    }
   },
   "outputs": [],
   "source": [
    "text = 'the quick brown fox jumped over the lazy dog'\n",
    "model= os.environ['AZURE_OPENAI_EMBEDDINGS_DEPLOYMENT']\n",
    "client.embeddings.create(input='[text]', model=model).data[0].embedding"
   ]
  },
  {
   "cell_type": "code",
   "execution_count": null,
   "metadata": {
    "gather": {
     "logged": 1674829555255
    },
    "jupyter": {
     "outputs_hidden": false,
     "source_hidden": false
    },
    "nteract": {
     "transient": {
      "deleting": false
     }
    }
   },
   "outputs": [],
   "source": [
    "\n",
    "# compare several words\n",
    "automobile_embedding  = client.embeddings.create(input='automobile', model=model).data[0].embedding\n",
    "vehicle_embedding     = client.embeddings.create(input='vehicle', model=model).data[0].embedding\n",
    "dinosaur_embedding    = client.embeddings.create(input='dinosaur', model=model).data[0].embedding\n",
    "stick_embedding       = client.embeddings.create(input='stick', model=model).data[0].embedding\n",
    "\n",
    "print(cosine_similarity(automobile_embedding, vehicle_embedding))\n",
    "print(cosine_similarity(automobile_embedding, dinosaur_embedding))\n",
    "print(cosine_similarity(automobile_embedding, stick_embedding))"
   ]
  },
  {
   "attachments": {},
   "cell_type": "markdown",
   "metadata": {
    "nteract": {
     "transient": {
      "deleting": false
     }
    }
   },
   "source": [
    "## சிஎன்என் தினசரி செய்தி தொகுப்பிலிருந்து கட்டுரையை ஒப்பிடுதல்\n",
    "மூலம்: https://huggingface.co/datasets/cnn_dailymail\n"
   ]
  },
  {
   "cell_type": "code",
   "execution_count": null,
   "metadata": {
    "gather": {
     "logged": 1674831122093
    },
    "jupyter": {
     "outputs_hidden": false,
     "source_hidden": false
    },
    "nteract": {
     "transient": {
      "deleting": false
     }
    }
   },
   "outputs": [],
   "source": [
    "import pandas as pd\n",
    "cnn_daily_articles = ['BREMEN, Germany -- Carlos Alberto, who scored in FC Porto\\'s Champions League final victory against Monaco in 2004, has joined Bundesliga club Werder Bremen for a club record fee of 7.8 million euros ($10.7 million). Carlos Alberto enjoyed success at FC Porto under Jose Mourinho. \"I\\'m here to win titles with Werder,\" the 22-year-old said after his first training session with his new club. \"I like Bremen and would only have wanted to come here.\" Carlos Alberto started his career with Fluminense, and helped them to lift the Campeonato Carioca in 2002. In January 2004 he moved on to FC Porto, who were coached by José Mourinho, and the club won the Portuguese title as well as the Champions League. Early in 2005, he moved to Corinthians, where he impressed as they won the Brasileirão,but in 2006 Corinthians had a poor season and Carlos Alberto found himself at odds with manager, Emerson Leão. Their poor relationship came to a climax at a Copa Sul-Americana game against Club Atlético Lanús, and Carlos Alberto declared that he would not play for Corinthians again while Leão remained as manager. Since January this year he has been on loan with his first club Fluminense. Bundesliga champions VfB Stuttgart said on Sunday that they would sign a loan agreement with Real Zaragoza on Monday for Ewerthon, the third top Brazilian player to join the German league in three days. A VfB spokesman said Ewerthon, who played in the Bundesliga for Borussia Dortmund from 2001 to 2005, was expected to join the club for their pre-season training in Austria on Monday. On Friday, Ailton returned to Germany where he was the league\\'s top scorer in 2004, signing a one-year deal with Duisburg on a transfer from Red Star Belgrade. E-mail to a friend .',\n",
    "                        '(CNN) -- Football superstar, celebrity, fashion icon, multimillion-dollar heartthrob. Now, David Beckham is headed for the Hollywood Hills as he takes his game to U.S. Major League Soccer. CNN looks at how Bekham fulfilled his dream of playing for Manchester United, and his time playing for England. The world\\'s famous footballer has begun a five-year contract with the Los Angeles Galaxy team, and on Friday Beckham will meet the press and reveal his new shirt number. This week, we take an in depth look at the life and times of Beckham, as CNN\\'s very own \"Becks,\" Becky Anderson, sets out to examine what makes the man tick -- as footballer, fashion icon and global phenomenon. It\\'s a long way from the streets of east London to the Hollywood Hills and Becky charts Beckham\\'s incredible rise to football stardom, a journey that has seen his skills grace the greatest stages in world soccer. She goes in pursuit of the current hottest property on the sports/celebrity circuit in the U.S. and along the way explores exactly what\\'s behind the man with the golden boot. CNN will look back at the life of Beckham, the wonderfully talented youngster who fulfilled his dream of playing for Manchester United, his marriage to pop star Victoria, and the trials and tribulations of playing for England. We\\'ll look at the highs (scoring against Greece), the lows (being sent off during the World Cup), the Man. U departure for the Galacticos of Madrid -- and now the Home Depot stadium in L.A. We\\'ll ask how Beckham and his family will adapt to life in Los Angeles -- the people, the places to see and be seen and the celebrity endorsement. Beckham is no stranger to exposure. He has teamed with Reggie Bush in an Adidas commercial, is the face of Motorola, is the face on a PlayStation game and doesn\\'t need fashion tips as he has his own international clothing line. But what does the star couple need to do to become an accepted part of Tinseltown\\'s glitterati? The road to major league football in the U.S.A. is a well-worn route for some of the world\\'s greatest players. We talk to some of the former greats who came before him and examine what impact these overseas stars had on U.S. soccer and look at what is different now. We also get a rare glimpse inside the David Beckham academy in L.A, find out what drives the kids and who are their heroes. The perception that in the U.S.A. soccer is a \"game for girls\" after the teenage years is changing. More and more young kids are choosing the European game over the traditional U.S. sports. E-mail to a friend .',\n",
    "                        'LOS ANGELES, California (CNN) -- Youssif, the 5-year-old burned Iraqi boy, rounded the corner at Universal Studios when suddenly the little boy hero met his favorite superhero. Youssif has always been a huge Spider-Man fan. Meeting him was \"my favorite thing,\" he said. Spider-Man was right smack dab in front of him, riding a four-wheeler amid a convoy of other superheroes. The legendary climber of buildings and fighter of evil dismounted, walked over to Youssif and introduced himself. Spidey then gave the boy from a far-away land a gentle hug, embracing him in his iconic blue and red tights. He showed Youssif a few tricks, like how to shoot a web from his wrist. Only this time, no web was spun. \"All right Youssif!\" Spider-Man said after the boy mimicked his wrist movement. Other superheroes crowded around to get a closer look. Even the Green Goblin stopped his villainous ways to tell the boy hi. Youssif remained unfazed. He didn\\'t take a liking to Spider-Man\\'s nemesis. Spidey was just too cool. \"It was my favorite thing,\" the boy said later. \"I want to see him again.\" He then felt compelled to add: \"I know it\\'s not the real Spider-Man.\" This was the day of dreams when the boy\\'s nightmares were, at least temporarily, forgotten. He met SpongeBob, Lassie and a 3-year-old orangutan named Archie. The hairy, brownish-red primate took to the boy, grabbing his hand and holding it. Even when Youssif pulled away, Archie would inch his hand back toward the boy\\'s and then snatch it. See Youssif enjoy being a boy again » . The boy giggled inside a play area where sponge-like balls shot out of toy guns. It was a far different artillery than what he was used to seeing in central Baghdad, as recently as a week ago. He squealed with delight and raced around the room collecting as many balls as he could. He rode a tram through the back stages at Universal Studios. At one point, the car shook. Fire and smoke filled the air, debris cascaded down and a big rig skidded toward the vehicle. The boy and his family survived the pretend earthquake unscathed. \"Even I was scared,\" the dad said. \"Well, I wasn\\'t,\" Youssif replied. The father and mother grinned from ear to ear throughout the day. Youssif pushed his 14-month-old sister, Ayaa, in a stroller. \"Did you even need to ask us if we were interested in coming here?\" Youssif\\'s father said in amazement. \"Other than my wedding day, this is the happiest day of my life,\" he said. Just a day earlier, the mother and father talked about their journey out of Iraq and to the United States. They also discussed that day nine months ago when masked men grabbed their son outside the family home, doused him in gas and set him on fire. His mother heard her boy screaming from inside. The father sought help for his boy across Baghdad, but no one listened. He remembers his son\\'s two months of hospitalization. The doctors didn\\'t use anesthetics. He could hear his boy\\'s piercing screams from the other side of the hospital. Watch Youssif meet his doctor and play with his little sister » . The father knew that speaking to CNN would put his family\\'s lives in jeopardy. The possibility of being killed was better than seeing his son suffer, he said. \"Anything for Youssif,\" he said. \"We had to do it.\" They described a life of utter chaos in Baghdad. Neighbors had recently given birth to a baby girl. Shortly afterward, the father was kidnapped and killed. Then, there was the time when some girls wore tanktops and jeans. They were snatched off the street by gunmen. The stories can be even more gruesome. The couple said they had heard reports that a young girl was kidnapped and beheaded --and her killers sewed a dog\\'s head on the corpse and delivered it to her family\\'s doorstep. \"These are just some of the stories,\" said Youssif\\'s mother, Zainab. Under Saddam Hussein, there was more security and stability, they said. There was running water and electricity most of the time. But still life was tough under the dictator, like the time when Zainab\\'s uncle disappeared and was never heard from again after he read a \"religious book,\" she said. Sitting in the parking lot of a Target in suburban Los Angeles, Youssif\\'s father watched as husbands and wives, boyfriends and girlfriends, parents and their children, came and went. Some held hands. Others smiled and laughed. \"Iraq finished,\" he said in what few English words he knows. He elaborated in Arabic: His homeland won\\'t be enjoying such freedoms anytime soon. It\\'s just not possible. Too much violence. Too many killings. His two children have only seen war. But this week, the family has seen a much different side of America -- an outpouring of generosity and a peaceful nation at home. \"It\\'s been a dream,\" the father said. He used to do a lot of volunteer work back in Baghdad. \"Maybe that\\'s why I\\'m being helped now,\" the father said. At Universal Studios, he looked out across the valley below. The sun glistened off treetops and buildings. It was a picturesque sight fit for a Hollywood movie. \"Good America, good America,\" he said in English. E-mail to a friend . CNN\\'s Arwa Damon contributed to this report.'\n",
    "]\n",
    "\n",
    "cnn_daily_article_highlights = ['Werder Bremen pay a club record $10.7 million for Carlos Alberto .\\nThe Brazilian midfielder won the Champions League with FC Porto in 2004 .\\nSince January he has been on loan with his first club, Fluminense .',\n",
    "                                'Beckham has agreed to a five-year contract with Los Angeles Galaxy .\\nNew contract took effect July 1, 2007 .\\nFormer English captain to meet press, unveil new shirt number Friday .\\nCNN to look at Beckham as footballer, fashion icon and global phenomenon .',\n",
    "                                'Boy on meeting Spider-Man: \"It was my favorite thing\"\\nYoussif also met SpongeBob, Lassie and an orangutan at Universal Studios .\\nDad: \"Other than my wedding day, this is the happiest day of my life\"'\n",
    "]\n",
    "\n",
    "cnn_df = pd.DataFrame({\"articles\":cnn_daily_articles, \"highligths\":cnn_daily_article_highlights})\n",
    "\n",
    "cnn_df.head()"
   ]
  },
  {
   "cell_type": "code",
   "execution_count": null,
   "metadata": {
    "gather": {
     "logged": 1674831294043
    },
    "jupyter": {
     "outputs_hidden": false,
     "source_hidden": false
    },
    "nteract": {
     "transient": {
      "deleting": false
     }
    }
   },
   "outputs": [],
   "source": [
    "article1_embedding    = client.embeddings.create(input=cnn_df.articles.iloc[0], model=model).data[0].embedding\n",
    "article2_embedding    = client.embeddings.create(input=cnn_df.articles.iloc[1], model=model).data[0].embedding\n",
    "article3_embedding    = client.embeddings.create(input=cnn_df.articles.iloc[2], model=model).data[0].embedding\n",
    "\n",
    "print(cosine_similarity(article1_embedding, article2_embedding))\n",
    "print(cosine_similarity(article1_embedding, article3_embedding))"
   ]
  },
  {
   "attachments": {},
   "cell_type": "markdown",
   "metadata": {
    "nteract": {
     "transient": {
      "deleting": false
     }
    }
   },
   "source": [
    "# குறிப்புகள்  \n",
    "- [Azure Documentation - Azure OpenAI Models](https://learn.microsoft.com/azure/cognitive-services/openai/concepts/models?WT.mc_id=academic-105485-koreyst)  \n",
    "- [OpenAI Studio Examples](https://oai.azure.com/portal?WT.mc_id=academic-105485-koreyst)  \n"
   ]
  },
  {
   "attachments": {},
   "cell_type": "markdown",
   "metadata": {
    "nteract": {
     "transient": {
      "deleting": false
     }
    }
   },
   "source": [
    "# மேலும் உதவிக்கு  \n",
    "[OpenAI வணிகமயமாக்கல் குழு](AzureOpenAITeam@microsoft.com)\n"
   ]
  },
  {
   "attachments": {},
   "cell_type": "markdown",
   "metadata": {
    "nteract": {
     "transient": {
      "deleting": false
     }
    }
   },
   "source": [
    "# பங்களிப்பாளர்கள்\n",
    "* Louis Li  \n"
   ]
  },
  {
   "cell_type": "markdown",
   "metadata": {},
   "source": [
    "\n---\n\n**அறிவிப்பு**:  \nஇந்த ஆவணம் [Co-op Translator](https://github.com/Azure/co-op-translator) என்ற AI மொழிபெயர்ப்பு சேவையை பயன்படுத்தி மொழிபெயர்க்கப்பட்டுள்ளது. நாங்கள் துல்லியத்திற்காக முயற்சிக்கிறோம், ஆனால் தானியங்கி மொழிபெயர்ப்புகளில் பிழைகள் அல்லது தவறுகள் இருக்கக்கூடும் என்பதை கவனத்தில் கொள்ளவும். அதன் சொந்த மொழியில் உள்ள மூல ஆவணம் அதிகாரப்பூர்வ ஆதாரமாக கருதப்பட வேண்டும். முக்கியமான தகவல்களுக்கு, தொழில்முறை மனித மொழிபெயர்ப்பு பரிந்துரைக்கப்படுகிறது. இந்த மொழிபெயர்ப்பைப் பயன்படுத்துவதால் ஏற்படும் எந்த தவறான புரிதல்களுக்கும் அல்லது தவறான விளக்கங்களுக்கும் நாங்கள் பொறுப்பல்ல.\n"
   ]
  }
 ],
 "metadata": {
  "kernel_info": {
   "name": "python310-sdkv2"
  },
  "kernelspec": {
   "display_name": "base",
   "language": "python",
   "name": "python3"
  },
  "language_info": {
   "codemirror_mode": {
    "name": "ipython",
    "version": 3
   },
   "file_extension": ".py",
   "mimetype": "text/x-python",
   "name": "python",
   "nbconvert_exporter": "python",
   "pygments_lexer": "ipython3",
   "version": "3.10.13"
  },
  "microsoft": {
   "host": {
    "AzureML": {
     "notebookHasBeenCompleted": true
    }
   }
  },
  "nteract": {
   "version": "nteract-front-end@1.0.0"
  },
  "coopTranslator": {
   "original_hash": "0d1caa6c42ad19d6268f0ea38a1f6421",
   "translation_date": "2025-10-11T12:08:50+00:00",
   "source_file": "07-building-chat-applications/python/aoai-assignment.ipynb",
   "language_code": "ta"
  }
 },
 "nbformat": 4,
 "nbformat_minor": 2
}