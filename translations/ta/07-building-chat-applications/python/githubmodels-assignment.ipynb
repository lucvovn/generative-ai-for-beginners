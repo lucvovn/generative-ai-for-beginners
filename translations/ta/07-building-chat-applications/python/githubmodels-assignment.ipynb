{
 "cells": [
  {
   "attachments": {},
   "cell_type": "markdown",
   "metadata": {
    "nteract": {
     "transient": {
      "deleting": false
     }
    }
   },
   "source": [
    "# அத்தியாயம் 7: அரட்டை பயன்பாடுகளை உருவாக்குதல்\n",
    "## Github Models API விரைவான தொடக்கம்\n",
    "\n",
    "இந்த நோட்புக் [Azure OpenAI Samples Repository](https://github.com/Azure/azure-openai-samples?WT.mc_id=academic-105485-koreyst) இலிருந்து மாற்றப்பட்டது, இதில் [Azure OpenAI](notebook-azure-openai.ipynb) சேவைகளை அணுகும் நோட்புக்குகள் அடங்கும்.\n"
   ]
  },
  {
   "attachments": {},
   "cell_type": "markdown",
   "metadata": {
    "nteract": {
     "transient": {
      "deleting": false
     }
    }
   },
   "source": [
    "# மேலோட்டம்  \n",
    "\"பெரிய மொழி மாதிரிகள் என்பது உரையை உரைக்கு மாற்றும் செயல்பாடுகள். ஒரு உள்ளீட்டு உரை சரத்தை வழங்கியபின், ஒரு பெரிய மொழி மாதிரி அடுத்ததாக வரும் உரையை கணிக்க முயற்சிக்கிறது\"(1). இந்த \"விரைவான தொடக்கம்\" நோட்புக் பயனர்களுக்கு உயர் நிலை LLM கருத்துக்கள், AML-ஐ தொடங்குவதற்கான முக்கிய தொகுப்பு தேவைகள், ப்ராம்ப்ட் வடிவமைப்பிற்கான மென்மையான அறிமுகம் மற்றும் பல்வேறு பயன்பாட்டு நிலைகளுக்கான சில குறுகிய உதாரணங்களை அறிமுகப்படுத்தும்.\n"
   ]
  },
  {
   "attachments": {},
   "cell_type": "markdown",
   "metadata": {
    "nteract": {
     "transient": {
      "deleting": false
     }
    }
   },
   "source": [
    "## உள்ளடக்க அட்டவணை  \n",
    "\n",
    "[கண்ணோட்டம்](../../../../07-building-chat-applications/python)  \n",
    "[OpenAI சேவையை எப்படி பயன்படுத்துவது](../../../../07-building-chat-applications/python)  \n",
    "[1. உங்கள் OpenAI சேவையை உருவாக்குதல்](../../../../07-building-chat-applications/python)  \n",
    "[2. நிறுவல்](../../../../07-building-chat-applications/python)    \n",
    "[3. சான்றுகள்](../../../../07-building-chat-applications/python)  \n",
    "\n",
    "[பயன்பாட்டு வழக்குகள்](../../../../07-building-chat-applications/python)    \n",
    "[1. உரையை சுருக்குதல்](../../../../07-building-chat-applications/python)  \n",
    "[2. உரையை வகைப்படுத்துதல்](../../../../07-building-chat-applications/python)  \n",
    "[3. புதிய தயாரிப்பு பெயர்களை உருவாக்குதல்](../../../../07-building-chat-applications/python)  \n",
    "[4. வகைப்படுத்தியை நன்றாக அமைத்தல்](../../../../07-building-chat-applications/python)  \n",
    "\n",
    "[குறிப்புகள்](../../../../07-building-chat-applications/python)  \n"
   ]
  },
  {
   "attachments": {},
   "cell_type": "markdown",
   "metadata": {
    "nteract": {
     "transient": {
      "deleting": false
     }
    }
   },
   "source": [
    "### உங்கள் முதல் ப்ராம்ப்டை உருவாக்குங்கள்  \n",
    "இந்தச் சிறிய பயிற்சி, \"சுருக்கம்\" என்ற எளிய பணிக்காக Github Models-க்கு ப்ராம்ப்ட்களை சமர்ப்பிப்பதற்கான அடிப்படை அறிமுகத்தை வழங்கும்.\n",
    "\n",
    "**படிகள்**:  \n",
    "1. உங்கள் பைதான் சூழலில் `azure-ai-inference` நூலகத்தை நிறுவுங்கள், நீங்கள் இதுவரை செய்யவில்லை என்றால்.  \n",
    "2. நிலையான உதவியாளர் நூலகங்களை ஏற்றவும், Github Models சான்றளிக்க அமைக்கவும்.  \n",
    "3. உங்கள் பணிக்கான ஒரு மாடலைத் தேர்ந்தெடுக்கவும்  \n",
    "4. மாடலுக்கான ஒரு எளிய ப்ராம்ப்டை உருவாக்கவும்  \n",
    "5. உங்கள் கோரிக்கையை மாடல் API-க்கு சமர்ப்பிக்கவும்!\n"
   ]
  },
  {
   "attachments": {},
   "cell_type": "markdown",
   "metadata": {
    "nteract": {
     "transient": {
      "deleting": false
     }
    }
   },
   "source": [
    "### 1. `azure-ai-inference` ஐ நிறுவவும்\n"
   ]
  },
  {
   "cell_type": "code",
   "execution_count": null,
   "metadata": {
    "gather": {
     "logged": 1674254990318
    },
    "jupyter": {
     "outputs_hidden": true,
     "source_hidden": false
    },
    "nteract": {
     "transient": {
      "deleting": false
     }
    }
   },
   "outputs": [],
   "source": [
    "%pip install azure-ai-inference"
   ]
  },
  {
   "attachments": {},
   "cell_type": "markdown",
   "metadata": {
    "nteract": {
     "transient": {
      "deleting": false
     }
    }
   },
   "source": [
    "### 2. உதவியாளர் நூலகங்களை இறக்குமதி செய்து சான்றுகளை உருவாக்கவும்\n"
   ]
  },
  {
   "cell_type": "code",
   "execution_count": null,
   "metadata": {
    "gather": {
     "logged": 1674829434433
    },
    "jupyter": {
     "outputs_hidden": false,
     "source_hidden": false
    },
    "nteract": {
     "transient": {
      "deleting": false
     }
    }
   },
   "outputs": [],
   "source": [
    "import os\n",
    "from azure.ai.inference import ChatCompletionsClient\n",
    "from azure.ai.inference.models import SystemMessage, UserMessage\n",
    "from azure.core.credentials import AzureKeyCredential\n",
    "\n",
    "token = os.environ[\"GITHUB_TOKEN\"]\n",
    "endpoint = \"https://models.inference.ai.azure.com\"\n",
    "\n",
    "client = ChatCompletionsClient(\n",
    "    endpoint=endpoint,\n",
    "    credential=AzureKeyCredential(token),\n",
    ")"
   ]
  },
  {
   "attachments": {},
   "cell_type": "markdown",
   "metadata": {
    "nteract": {
     "transient": {
      "deleting": false
     }
    }
   },
   "source": [
    "### 3. சரியான மாடலை கண்டறிதல்  \n",
    "GPT-3.5-turbo அல்லது GPT-4 மாடல்கள் இயற்கை மொழியை புரிந்து கொண்டு உருவாக்க முடியும்.\n"
   ]
  },
  {
   "cell_type": "code",
   "execution_count": null,
   "metadata": {
    "gather": {
     "logged": 1674742720788
    },
    "jupyter": {
     "outputs_hidden": true,
     "source_hidden": false
    },
    "nteract": {
     "transient": {
      "deleting": false
     }
    }
   },
   "outputs": [],
   "source": [
    "# Select the General Purpose curie model for text\n",
    "model_name = \"gpt-4o\""
   ]
  },
  {
   "attachments": {},
   "cell_type": "markdown",
   "metadata": {
    "nteract": {
     "transient": {
      "deleting": false
     }
    }
   },
   "source": [
    "## 4. ப்ராம்ப்ட் வடிவமைப்பு  \n",
    "\n",
    "\"பெரிய மொழி மாதிரிகளின் மந்திரம் என்னவென்றால், மிகப்பெரிய அளவிலான உரை மீது இந்த கணிப்பு பிழையை குறைக்க பயிற்சி பெறுவதன் மூலம், இந்த மாதிரிகள் இந்த கணிப்புகளுக்கு உதவக்கூடிய கருத்துக்களை கற்றுக்கொள்கின்றன. உதாரணமாக, அவை கருத்துக்களை கற்றுக்கொள்கின்றன\"(1):\n",
    "\n",
    "* எவ்வாறு எழுத்துகளை சரியாக எழுதுவது\n",
    "* இலக்கணங்கள் எவ்வாறு செயல்படுகின்றன\n",
    "* எவ்வாறு கருத்துகளை மாற்றி எழுதுவது\n",
    "* கேள்விகளுக்கு எப்படி பதிலளிக்க வேண்டும்\n",
    "* உரையாடலை எவ்வாறு நடத்த வேண்டும்\n",
    "* பல மொழிகளில் எழுதுவது எப்படி\n",
    "* எவ்வாறு குறியீடு எழுதுவது\n",
    "* மற்றும் பல.\n",
    "\n",
    "#### பெரிய மொழி மாதிரியை எவ்வாறு கட்டுப்படுத்துவது  \n",
    "\"பெரிய மொழி மாதிரிக்கு உள்ள அனைத்து உள்ளீடுகளில், மிகவும் தாக்கம் செலுத்துவது உரை ப்ராம்ப்ட்(1).\n",
    "\n",
    "பெரிய மொழி மாதிரிகளை சில வழிகளில் வெளியீடு உருவாக்க ப்ராம்ப்ட் செய்யலாம்:\n",
    "\n",
    "Instruction: மாதிரிக்கு நீங்கள் என்ன விரும்புகிறீர்கள் என்பதை சொல்லுங்கள்  \n",
    "Completion: நீங்கள் விரும்பும் விஷயத்தின் தொடக்கத்தை முடிக்க மாதிரியை தூண்டுங்கள்  \n",
    "Demonstration: நீங்கள் விரும்பும் விஷயத்தை மாதிரிக்கு காட்டுங்கள், இதற்காக:  \n",
    "ப்ராம்ப்ட்டில் சில உதாரணங்கள்  \n",
    "Fine-tuning பயிற்சி தரவுத்தொகுப்பில் பல நூற்றுக்கணக்கான அல்லது ஆயிரக்கணக்கான உதாரணங்கள்\"\n",
    "\n",
    "\n",
    "\n",
    "#### ப்ராம்ப்ட்களை உருவாக்க மூன்று அடிப்படை வழிகாட்டுதல்கள் உள்ளன:\n",
    "\n",
    "**காட்டவும் சொல்லவும்**. நீங்கள் என்ன விரும்புகிறீர்கள் என்பதை உத்தரவுகள், உதாரணங்கள் அல்லது இரண்டின் கலவையின் மூலம் தெளிவாகச் சொல்லுங்கள். நீங்கள் மாதிரியை ஒரு பட்டியலை அகரவரிசைப்படி வரிசைப்படுத்த அல்லது ஒரு பத்தியை உணர்வின் அடிப்படையில் வகைப்படுத்த விரும்பினால், அதுதான் நீங்கள் விரும்புகிறீர்கள் என்பதை காட்டுங்கள்.\n",
    "\n",
    "**தரமான தரவுகளை வழங்குங்கள்**. நீங்கள் ஒரு வகைப்பாட்டாளரை உருவாக்க முயற்சிக்கிறீர்கள் அல்லது மாதிரி ஒரு முறைபாட்டை பின்பற்ற வேண்டும் என்று நினைக்கிறீர்கள் என்றால், போதுமான உதாரணங்கள் இருக்க வேண்டும் என்பதை உறுதிப்படுத்துங்கள். உங்கள் உதாரணங்களை சரிபார்க்கவும் — மாதிரி அடிப்படையான எழுத்துப்பிழைகளைப் பார்த்து பதிலளிக்க திறமையானது, ஆனால் இது நோக்கமுடையது என்று கருதலாம், இது பதிலுக்கு பாதிப்பை ஏற்படுத்தலாம்.\n",
    "\n",
    "**உங்கள் அமைப்புகளை சரிபார்க்கவும்.** Temperature மற்றும் top_p அமைப்புகள் மாதிரி பதிலை உருவாக்குவதில் எவ்வளவு தீர்மானமாக இருக்கிறது என்பதை கட்டுப்படுத்துகின்றன. ஒரு சரியான பதில் மட்டுமே இருக்கும் பதிலை நீங்கள் கேட்கும்போது, ​​இவற்றை குறைவாக அமைக்க விரும்புவீர்கள். நீங்கள் மேலும் பல்வேறு பதில்களை எதிர்பார்க்கிறீர்கள் என்றால், அவற்றை அதிகமாக அமைக்க விரும்பலாம். இந்த அமைப்புகளுடன் மக்கள் செய்யும் முதல் தவறு அவற்றை \"விவேகம்\" அல்லது \"படைப்பாற்றல்\" கட்டுப்பாடுகள் என்று கருதுவது.\n",
    "\n",
    "\n",
    "Source: https://learn.microsoft.com/azure/ai-services/openai/overview\n"
   ]
  },
  {
   "attachments": {},
   "cell_type": "markdown",
   "metadata": {
    "nteract": {
     "transient": {
      "deleting": false
     }
    }
   },
   "source": [
    "### சமர்ப்பிக்க!\n"
   ]
  },
  {
   "cell_type": "code",
   "execution_count": null,
   "metadata": {
    "gather": {
     "logged": 1674494935186
    },
    "jupyter": {
     "outputs_hidden": false,
     "source_hidden": false
    },
    "nteract": {
     "transient": {
      "deleting": false
     }
    }
   },
   "outputs": [],
   "source": [
    "# Create your first prompt\n",
    "text_prompt = \"Should oxford commas always be used?\"\n",
    "\n",
    "response = client.complete(\n",
    "  model=model_name,\n",
    "  messages = [{\"role\":\"system\", \"content\":\"You are a helpful assistant.\"},\n",
    "               {\"role\":\"user\",\"content\":text_prompt},])\n",
    "\n",
    "response.choices[0].message.content"
   ]
  },
  {
   "attachments": {},
   "cell_type": "markdown",
   "metadata": {
    "nteract": {
     "transient": {
      "deleting": false
     }
    }
   },
   "source": [
    "### ஒரே அழைப்பை மீண்டும் செய்யுங்கள், முடிவுகள் எப்படி ஒப்பிடப்படுகின்றன?\n"
   ]
  },
  {
   "cell_type": "code",
   "execution_count": null,
   "metadata": {
    "gather": {
     "logged": 1674494940872
    },
    "jupyter": {
     "outputs_hidden": false,
     "source_hidden": false
    },
    "nteract": {
     "transient": {
      "deleting": false
     }
    }
   },
   "outputs": [],
   "source": [
    "\n",
    "response = client.complete(\n",
    "  model=model_name,\n",
    "  messages = [{\"role\":\"system\", \"content\":\"You are a helpful assistant.\"},\n",
    "               {\"role\":\"user\",\"content\":text_prompt},])\n",
    "\n",
    "response.choices[0].message.content"
   ]
  },
  {
   "attachments": {},
   "cell_type": "markdown",
   "metadata": {
    "nteract": {
     "transient": {
      "deleting": false
     }
    }
   },
   "source": [
    "## உரையை சுருக்குதல்  \n",
    "#### சவால்  \n",
    "ஒரு உரை பகுதியின் முடிவில் 'tl;dr:' சேர்த்து உரையை சுருக்கவும். மாடல் எந்த கூடுதல் வழிகாட்டுதலின்றி பல பணிகளை எப்படி செய்ய முடியும் என்பதை கவனிக்கவும். tl;dr க்கு மாறாக மேலும் விளக்கமான உத்தரவுகளை பயன்படுத்தி மாடலின் நடத்தை மாற்றவும் மற்றும் நீங்கள் பெறும் சுருக்கத்தை தனிப்பயனாக்கவும் முயற்சிக்கவும்(3).  \n",
    "\n",
    "சமீபத்திய ஆய்வுகள், ஒரு பெரிய உரை தொகுப்பில் முன்பதிகை செய்து, பின்னர் ஒரு குறிப்பிட்ட பணியில் நன்றாகச் சீரமைத்தல் மூலம் பல NLP பணிகள் மற்றும் தரநிலைகளில் குறிப்பிடத்தக்க முன்னேற்றங்களை காட்டியுள்ளன. பொதுவாக பணிக்கேற்ப இல்லாத கட்டமைப்பில் இருந்தாலும், இந்த முறை இன்னும் ஆயிரக்கணக்கான அல்லது பத்தாயிரக்கணக்கான உதாரணங்களின் பணிக்கேற்ப சீரமைத்தல் தரவுத்தொகுப்புகளை தேவைப்படுத்துகிறது. இதற்கு மாறாக, மனிதர்கள் பொதுவாக சில உதாரணங்கள் அல்லது எளிய வழிகாட்டுதல்களிலிருந்து ஒரு புதிய மொழி பணியைச் செய்ய முடியும் - தற்போதைய NLP அமைப்புகள் பெரும்பாலும் இதைச் செய்ய முடியாமல் திணறுகின்றன. இங்கு, மொழி மாடல்களை பெரிதாக்குவது பணிக்கேற்ப இல்லாத, குறைந்த உதாரணங்களின் செயல்திறனை மிகவும் மேம்படுத்துகிறது என்பதை நாங்கள் காட்டுகிறோம், சில நேரங்களில் முந்தைய சிறந்த சீரமைத்தல் அணுகுமுறைகளுடன் போட்டியிடும் அளவுக்கு கூடச் சென்று விடுகிறது.  \n",
    "\n",
    "Tl;dr: மொழி மாடல்களை பெரிதாக்குவது குறைந்த உதாரணங்களுடன் கூட சிறந்த செயல்திறனை வழங்குகிறது, சில நேரங்களில் முன்னணி சீரமைத்தல் முறைகளுடன் போட்டியிடும் அளவுக்கு.\n"
   ]
  },
  {
   "attachments": {},
   "cell_type": "markdown",
   "metadata": {
    "nteract": {
     "transient": {
      "deleting": false
     }
    }
   },
   "source": [
    "# பல்வேறு பயன்பாடுகளுக்கான பயிற்சிகள்  \n",
    "1. உரையை சுருக்கவும்  \n",
    "2. உரையை வகைப்படுத்தவும்  \n",
    "3. புதிய தயாரிப்பு பெயர்களை உருவாக்கவும்  \n"
   ]
  },
  {
   "cell_type": "code",
   "execution_count": null,
   "metadata": {
    "gather": {
     "logged": 1674495198534
    },
    "jupyter": {
     "outputs_hidden": false,
     "source_hidden": false
    },
    "nteract": {
     "transient": {
      "deleting": false
     }
    }
   },
   "outputs": [],
   "source": [
    "prompt = \"Recent work has demonstrated substantial gains on many NLP tasks and benchmarks by pre-training on a large corpus of text followed by fine-tuning on a specific task. While typically task-agnostic in architecture, this method still requires task-specific fine-tuning datasets of thousands or tens of thousands of examples. By contrast, humans can generally perform a new language task from only a few examples or from simple instructions - something that current NLP systems still largely struggle to do. Here we show that scaling up language models greatly improves task-agnostic, few-shot performance, sometimes even reaching competitiveness with prior state-of-the-art fine-tuning approaches.\\n\\nTl;dr\"\n"
   ]
  },
  {
   "cell_type": "code",
   "execution_count": null,
   "metadata": {
    "gather": {
     "logged": 1674495201868
    },
    "jupyter": {
     "outputs_hidden": false,
     "source_hidden": false
    },
    "nteract": {
     "transient": {
      "deleting": false
     }
    }
   },
   "outputs": [],
   "source": [
    "#Setting a few additional, typical parameters during API Call\n",
    "\n",
    "response = client.complete(\n",
    "  model=model_name,\n",
    "  messages = [{\"role\":\"system\", \"content\":\"You are a helpful assistant.\"},\n",
    "               {\"role\":\"user\",\"content\":prompt},])\n",
    "\n",
    "response.choices[0].message.content"
   ]
  },
  {
   "attachments": {},
   "cell_type": "markdown",
   "metadata": {
    "nteract": {
     "transient": {
      "deleting": false
     }
    }
   },
   "source": [
    "## உரையை வகைப்படுத்தவும்  \n",
    "#### சவால்  \n",
    "உரையை தீர்மானிக்கும் நேரத்தில் வழங்கப்பட்ட பிரிவுகளில் உருப்படிகளை வகைப்படுத்தவும். கீழே உள்ள உதாரணத்தில், பிரிவுகளையும் வகைப்படுத்த வேண்டிய உரையையும் கேள்வியில் வழங்குகிறோம் (*playground_reference).\n",
    "\n",
    "வாடிக்கையாளர் விசாரணை: வணக்கம், என் லேப்டாப் கீபோர்டில் உள்ள ஒரு விசை சமீபத்தில் உடைந்துவிட்டது, எனக்கு மாற்று தேவைப்படும்:\n",
    "\n",
    "வகைப்படுத்தப்பட்ட பிரிவு:\n"
   ]
  },
  {
   "cell_type": "code",
   "execution_count": null,
   "metadata": {
    "gather": {
     "logged": 1674499424645
    },
    "jupyter": {
     "outputs_hidden": false,
     "source_hidden": false
    },
    "nteract": {
     "transient": {
      "deleting": false
     }
    }
   },
   "outputs": [],
   "source": [
    "prompt = \"Classify the following inquiry into one of the following: categories: [Pricing, Hardware Support, Software Support]\\n\\ninquiry: Hello, one of the keys on my laptop keyboard broke recently and I'll need a replacement:\\n\\nClassified category:\"\n",
    "print(prompt)"
   ]
  },
  {
   "cell_type": "code",
   "execution_count": null,
   "metadata": {
    "gather": {
     "logged": 1674499378518
    },
    "jupyter": {
     "outputs_hidden": false,
     "source_hidden": false
    },
    "nteract": {
     "transient": {
      "deleting": false
     }
    }
   },
   "outputs": [],
   "source": [
    "#Setting a few additional, typical parameters during API Call\n",
    "\n",
    "response = client.complete(\n",
    "  model=model_name,\n",
    "  messages = [{\"role\":\"system\", \"content\":\"You are a helpful assistant.\"},\n",
    "               {\"role\":\"user\",\"content\":prompt},])\n",
    "\n",
    "response.choices[0].message.content"
   ]
  },
  {
   "attachments": {},
   "cell_type": "markdown",
   "metadata": {
    "nteract": {
     "transient": {
      "deleting": false
     }
    }
   },
   "source": [
    "## புதிய தயாரிப்பு பெயர்களை உருவாக்கவும்  \n",
    "#### சவால்  \n",
    "ตัวอย่างคำที่ใช้สร้างชื่อผลิตภัณฑ์ใหม่จากคำที่กำหนดไว้ ในที่นี้เราได้รวมข้อมูลเกี่ยวกับผลิตภัณฑ์ที่เราจะสร้างชื่อไว้ในคำสั่งด้วย นอกจากนี้เรายังให้ตัวอย่างที่คล้ายกันเพื่อแสดงรูปแบบที่เราต้องการ และเราได้ตั้งค่าความสุ่มสูงเพื่อเพิ่มความแปลกใหม่และการตอบสนองที่สร้างสรรค์มากขึ้น  \n",
    "\n",
    "தயாரிப்பு விளக்கம்: அனைத்து கால்விரல் அளவுகளுக்கும் பொருந்தக்கூடிய காலணிகள்  \n",
    "விதை வார்த்தைகள்: மாற்றத்தக்கது, பொருந்துதல், ஒம்னி-பிட்  \n",
    "தயாரிப்பு பெயர்கள்: AdaptShoes, OmniSteps, FitAll, FlexiFit\n"
   ]
  },
  {
   "cell_type": "code",
   "execution_count": null,
   "metadata": {
    "gather": {
     "logged": 1674257087279
    },
    "jupyter": {
     "outputs_hidden": false,
     "source_hidden": false
    },
    "nteract": {
     "transient": {
      "deleting": false
     }
    }
   },
   "outputs": [],
   "source": [
    "prompt = \"Product description: A home milkshake maker\\nSeed words: fast, healthy, compact.\\nProduct names: HomeShaker, Fit Shaker, QuickShake, Shake Maker\\n\\nProduct description: A pair of shoes that can fit any foot size.\\nSeed words: adaptable, fit, omni-fit.\"\n",
    "\n",
    "print(prompt)"
   ]
  },
  {
   "cell_type": "code",
   "execution_count": null,
   "metadata": {
    "jupyter": {
     "outputs_hidden": false,
     "source_hidden": false
    },
    "nteract": {
     "transient": {
      "deleting": false
     }
    }
   },
   "outputs": [],
   "source": [
    "#Setting a few additional, typical parameters during API Call\n",
    "\n",
    "response = client.complete(\n",
    "  model=model_name,\n",
    "  messages = [{\"role\":\"system\", \"content\":\"You are a helpful assistant.\"},\n",
    "               {\"role\":\"user\",\"content\":prompt}])\n",
    "\n",
    "response.choices[0].message.content"
   ]
  },
  {
   "attachments": {},
   "cell_type": "markdown",
   "metadata": {
    "nteract": {
     "transient": {
      "deleting": false
     }
    }
   },
   "source": [
    "# குறிப்புகள்  \n",
    "- [Openai Cookbook](https://github.com/openai/openai-cookbook?WT.mc_id=academic-105485-koreyst)  \n",
    "- [OpenAI Studio Examples](https://oai.azure.com/portal?WT.mc_id=academic-105485-koreyst)  \n",
    "- [GPT-3 ஐ நன்கு அமைப்பதற்கான சிறந்த நடைமுறைகள் - உரை வகைப்படுத்த](https://docs.google.com/document/d/1rqj7dkuvl7Byd5KQPUJRxc19BJt8wo0yHNwK84KfU3Q/edit#?WT.mc_id=academic-105485-koreyst)  \n"
   ]
  },
  {
   "attachments": {},
   "cell_type": "markdown",
   "metadata": {
    "nteract": {
     "transient": {
      "deleting": false
     }
    }
   },
   "source": [
    "# மேலும் உதவிக்கு  \n",
    "[OpenAI வணிகமயமாக்கல் குழு](AzureOpenAITeam@microsoft.com)\n"
   ]
  },
  {
   "attachments": {},
   "cell_type": "markdown",
   "metadata": {
    "nteract": {
     "transient": {
      "deleting": false
     }
    }
   },
   "source": [
    "# பங்களிப்பாளர்கள்\n",
    "* [Chew-Yean Yam](https://www.linkedin.com/in/cyyam/)\n"
   ]
  },
  {
   "cell_type": "markdown",
   "metadata": {},
   "source": []
  },
  {
   "cell_type": "markdown",
   "metadata": {},
   "source": [
    "\n---\n\n**குறிப்பு**:  \nஇந்த ஆவணம் [Co-op Translator](https://github.com/Azure/co-op-translator) என்ற AI மொழிபெயர்ப்பு சேவையைப் பயன்படுத்தி மொழிபெயர்க்கப்பட்டுள்ளது. நாங்கள் துல்லியத்திற்காக முயற்சிக்கின்றோம், ஆனால் தானியங்கி மொழிபெயர்ப்புகளில் பிழைகள் அல்லது தவறான தகவல்கள் இருக்கக்கூடும் என்பதை கவனத்தில் கொள்ளவும். அதன் தாய்மொழியில் உள்ள மூல ஆவணம் அதிகாரப்பூர்வ ஆதாரமாக கருதப்பட வேண்டும். முக்கியமான தகவல்களுக்கு, தொழில்முறை மனித மொழிபெயர்ப்பு பரிந்துரைக்கப்படுகிறது. இந்த மொழிபெயர்ப்பைப் பயன்படுத்துவதால் ஏற்படும் எந்த தவறான புரிதல்கள் அல்லது தவறான விளக்கங்களுக்கு நாங்கள் பொறுப்பல்ல.\n"
   ]
  }
 ],
 "metadata": {
  "kernel_info": {
   "name": "python310-sdkv2"
  },
  "kernelspec": {
   "display_name": "base",
   "language": "python",
   "name": "python3"
  },
  "language_info": {
   "codemirror_mode": {
    "name": "ipython",
    "version": 3
   },
   "file_extension": ".py",
   "mimetype": "text/x-python",
   "name": "python",
   "nbconvert_exporter": "python",
   "pygments_lexer": "ipython3",
   "version": "3.12.4"
  },
  "microsoft": {
   "host": {
    "AzureML": {
     "notebookHasBeenCompleted": true
    }
   }
  },
  "nteract": {
   "version": "nteract-front-end@1.0.0"
  },
  "coopTranslator": {
   "original_hash": "3eeb8e5cad61b52a8366f6259a53ed49",
   "translation_date": "2025-10-11T12:12:05+00:00",
   "source_file": "07-building-chat-applications/python/githubmodels-assignment.ipynb",
   "language_code": "ta"
  }
 },
 "nbformat": 4,
 "nbformat_minor": 2
}