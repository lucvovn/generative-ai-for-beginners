{
 "cells": [
  {
   "cell_type": "markdown",
   "metadata": {},
   "source": [
    "கீழே உள்ள நோட்புக் GitHub Copilot Chat மூலம் தானாக உருவாக்கப்பட்டது மற்றும் ஆரம்ப அமைப்பிற்காக மட்டுமே உள்பொருத்தப்பட்டுள்ளது.\n"
   ]
  },
  {
   "cell_type": "markdown",
   "metadata": {},
   "source": [
    "# ப்ராம்ப்ட் எஞ்சினியரிங் அறிமுகம்  \n",
    "ப்ராம்ப்ட் எஞ்சினியரிங் என்பது இயற்கை மொழி செயலாக்க பணிகளுக்கான ப்ராம்ப்ட்களை வடிவமைத்து மேம்படுத்தும் செயல்முறையாகும். இது சரியான ப்ராம்ப்ட்களை தேர்வு செய்வது, அவற்றின் அளவுருக்களை சரிசெய்வது மற்றும் செயல்திறனை மதிப்பீடு செய்வதை உள்ளடக்கியது. NLP மாதிரிகளில் அதிக துல்லியத்தையும் திறனையும் பெற ப்ராம்ப்ட் எஞ்சினியரிங் மிகவும் முக்கியமானது. இந்த பிரிவில், OpenAI மாதிரிகளை பயன்படுத்தி ப்ராம்ப்ட் எஞ்சினியரிங்கின் அடிப்படைகளை ஆராய்வோம்.\n"
   ]
  },
  {
   "cell_type": "markdown",
   "metadata": {},
   "source": [
    "### பயிற்சி 1: டோக்கனீகரணம்\n",
    "tiktoken, OpenAI-யின் திறந்த மூல வேகமான டோக்கனீசரை பயன்படுத்தி டோக்கனீகரணத்தை ஆராயுங்கள்  \n",
    "மேலும் உதாரணங்களுக்கு [OpenAI Cookbook](https://github.com/openai/openai-cookbook/blob/main/examples/How_to_count_tokens_with_tiktoken.ipynb?WT.mc_id=academic-105485-koreyst) பார்க்கவும்.\n"
   ]
  },
  {
   "cell_type": "code",
   "execution_count": null,
   "metadata": {},
   "outputs": [],
   "source": [
    "# EXERCISE:\n",
    "# 1. Run the exercise as is first\n",
    "# 2. Change the text to any prompt input you want to use & re-run to see tokens\n",
    "\n",
    "import tiktoken\n",
    "\n",
    "# Define the prompt you want tokenized\n",
    "text = f\"\"\"\n",
    "Jupiter is the fifth planet from the Sun and the \\\n",
    "largest in the Solar System. It is a gas giant with \\\n",
    "a mass one-thousandth that of the Sun, but two-and-a-half \\\n",
    "times that of all the other planets in the Solar System combined. \\\n",
    "Jupiter is one of the brightest objects visible to the naked eye \\\n",
    "in the night sky, and has been known to ancient civilizations since \\\n",
    "before recorded history. It is named after the Roman god Jupiter.[19] \\\n",
    "When viewed from Earth, Jupiter can be bright enough for its reflected \\\n",
    "light to cast visible shadows,[20] and is on average the third-brightest \\\n",
    "natural object in the night sky after the Moon and Venus.\n",
    "\"\"\"\n",
    "\n",
    "# Set the model you want encoding for\n",
    "encoding = tiktoken.encoding_for_model(\"gpt-3.5-turbo\")\n",
    "\n",
    "# Encode the text - gives you the tokens in integer form\n",
    "tokens = encoding.encode(text)\n",
    "print(tokens);\n",
    "\n",
    "# Decode the integers to see what the text versions look like\n",
    "[encoding.decode_single_token_bytes(token) for token in tokens]"
   ]
  },
  {
   "cell_type": "markdown",
   "metadata": {},
   "source": [
    "### பயிற்சி 2: OpenAI API Key அமைப்பை சரிபார்க்கவும்\n",
    "\n",
    "கீழே உள்ள குறியீட்டை இயக்கி உங்கள் OpenAI endpoint சரியாக அமைக்கப்பட்டுள்ளதா என்பதை சரிபார்க்கவும். இந்த குறியீடு ஒரு எளிய அடிப்படை prompt ஐ முயற்சித்து completion ஐ சரிபார்க்கிறது. `oh say can you see` எனும் உள்ளீடு `by the dawn's early light..` போன்றதாக முடிவடைய வேண்டும்.\n"
   ]
  },
  {
   "cell_type": "code",
   "execution_count": null,
   "metadata": {},
   "outputs": [],
   "source": [
    "# The OpenAI SDK was updated on Nov 8, 2023 with new guidance for migration\n",
    "# See: https://github.com/openai/openai-python/discussions/742\n",
    "\n",
    "## Updated\n",
    "import os\n",
    "from openai import OpenAI\n",
    "from dotenv import load_dotenv\n",
    "load_dotenv()\n",
    "\n",
    "client = OpenAI()\n",
    "\n",
    "deployment=\"gpt-3.5-turbo\"\n",
    "\n",
    "## Updated\n",
    "def get_completion(prompt):\n",
    "    messages = [{\"role\": \"user\", \"content\": prompt}]       \n",
    "    response = client.chat.completions.create(   \n",
    "        model=deployment,                                         \n",
    "        messages=messages,\n",
    "        temperature=0, # this is the degree of randomness of the model's output\n",
    "        max_tokens=1024\n",
    "    )\n",
    "    return response.choices[0].message.content\n",
    "\n",
    "## ---------- Call the helper method\n",
    "\n",
    "### 1. Set primary content or prompt text\n",
    "text = f\"\"\"\n",
    "oh say can you see\n",
    "\"\"\"\n",
    "\n",
    "### 2. Use that in the prompt template below\n",
    "prompt = f\"\"\"\n",
    "```{text}```\n",
    "\"\"\"\n",
    "\n",
    "## 3. Run the prompt\n",
    "response = get_completion(prompt)\n",
    "print(response)"
   ]
  },
  {
   "cell_type": "markdown",
   "metadata": {},
   "source": [
    "### பயிற்சி 3: கற்பனைகள்\n",
    "LLM-க்கு ஒரு தலைப்பைப் பற்றிய கேள்விக்கு பதிலளிக்கும்போது என்ன நடக்கிறது என்பதை ஆராயுங்கள். அந்த தலைப்பு இருக்காமல் இருக்கலாம் அல்லது அது அதன் முன்பயிற்சி தரவுத்தொகுப்பில் (அதிக சமீபத்தியது) இல்லாத தலைப்பாக இருக்கலாம். நீங்கள் வேறு ஒரு கேள்வி அல்லது வேறு ஒரு மாடலை முயற்சித்தால் பதில் எப்படி மாறுகிறது என்பதை பாருங்கள்.\n"
   ]
  },
  {
   "cell_type": "code",
   "execution_count": null,
   "metadata": {},
   "outputs": [],
   "source": [
    "\n",
    "## Set the text for simple prompt or primary content\n",
    "## Prompt shows a template format with text in it - add cues, commands etc if needed\n",
    "## Run the completion \n",
    "text = f\"\"\"\n",
    "generate a lesson plan on the Martian War of 2076.\n",
    "\"\"\"\n",
    "\n",
    "prompt = f\"\"\"\n",
    "```{text}```\n",
    "\"\"\"\n",
    "\n",
    "response = get_completion(prompt)\n",
    "print(response)"
   ]
  },
  {
   "cell_type": "markdown",
   "metadata": {},
   "source": [
    "### பயிற்சி 4: வழிகாட்டல் அடிப்படையிலானது  \n",
    "\"text\" மாறியை முதன்மை உள்ளடக்கத்திற்காக அமைக்கவும்  \n",
    "மற்றும் \"prompt\" மாறியை அந்த முதன்மை உள்ளடக்கத்துடன் தொடர்புடைய ஒரு வழிகாட்டலை வழங்க பயன்படுத்தவும்.  \n",
    "\n",
    "இங்கே, நாங்கள் மாடலை இரண்டாம் வகுப்பு மாணவருக்காக உரையை சுருக்குமாறு கேட்கிறோம்  \n"
   ]
  },
  {
   "cell_type": "code",
   "execution_count": null,
   "metadata": {},
   "outputs": [],
   "source": [
    "# Test Example\n",
    "# https://platform.openai.com/playground/p/default-summarize\n",
    "\n",
    "## Example text\n",
    "text = f\"\"\"\n",
    "Jupiter is the fifth planet from the Sun and the \\\n",
    "largest in the Solar System. It is a gas giant with \\\n",
    "a mass one-thousandth that of the Sun, but two-and-a-half \\\n",
    "times that of all the other planets in the Solar System combined. \\\n",
    "Jupiter is one of the brightest objects visible to the naked eye \\\n",
    "in the night sky, and has been known to ancient civilizations since \\\n",
    "before recorded history. It is named after the Roman god Jupiter.[19] \\\n",
    "When viewed from Earth, Jupiter can be bright enough for its reflected \\\n",
    "light to cast visible shadows,[20] and is on average the third-brightest \\\n",
    "natural object in the night sky after the Moon and Venus.\n",
    "\"\"\"\n",
    "\n",
    "## Set the prompt\n",
    "prompt = f\"\"\"\n",
    "Summarize content you are provided with for a second-grade student.\n",
    "```{text}```\n",
    "\"\"\"\n",
    "\n",
    "## Run the prompt\n",
    "response = get_completion(prompt)\n",
    "print(response)"
   ]
  },
  {
   "cell_type": "markdown",
   "metadata": {},
   "source": [
    "### பயிற்சி 5: சிக்கலான கேள்வி\n",
    "சிஸ்டம், பயனர் மற்றும் உதவியாளர் செய்திகளை கொண்ட ஒரு கோரிக்கையை முயற்சிக்கவும்  \n",
    "சிஸ்டம் உதவியாளர் சூழலை அமைக்கிறது  \n",
    "பயனர் & உதவியாளர் செய்திகள் பல முறை உரையாடல் சூழலை வழங்குகின்றன  \n",
    "\n",
    "உதவியாளர் தன்மையை \"கிண்டலான\" என்று சிஸ்டம் சூழலில் அமைக்கப்பட்டுள்ளதை கவனிக்கவும்.  \n",
    "வேறு ஒரு தன்மை சூழலை முயற்சிக்கவும். அல்லது வேறு ஒரு வரிசையான உள்ளீடு/வெளியீடு செய்திகளை முயற்சிக்கவும்  \n"
   ]
  },
  {
   "cell_type": "code",
   "execution_count": null,
   "metadata": {},
   "outputs": [],
   "source": [
    "response = client.chat.completions.create(\n",
    "    model=deployment,\n",
    "    messages=[\n",
    "        {\"role\": \"system\", \"content\": \"You are a sarcastic assistant.\"},\n",
    "        {\"role\": \"user\", \"content\": \"Who won the world series in 2020?\"},\n",
    "        {\"role\": \"assistant\", \"content\": \"Who do you think won? The Los Angeles Dodgers of course.\"},\n",
    "        {\"role\": \"user\", \"content\": \"Where was it played?\"}\n",
    "    ]\n",
    ")\n",
    "print(response.choices[0].message.content)"
   ]
  },
  {
   "cell_type": "markdown",
   "metadata": {},
   "source": [
    "### பயிற்சி: உங்கள் உள்ளுணர்வை ஆராயுங்கள்\n",
    "மேலே உள்ள உதாரணங்கள் உங்களுக்கு புதிய உந்துதல்கள் (எளிமையானவை, சிக்கலானவை, வழிகாட்டுதல் போன்றவை) உருவாக்க பயன்படுத்தக்கூடிய முறைமைகளை வழங்குகின்றன - நாம் பேசிய பிற கருத்துகளை, உதாரணங்கள், குறிப்புகள் மற்றும் பலவற்றை ஆராய்வதற்கான பிற பயிற்சிகளை உருவாக்க முயற்சிக்கவும்.\n"
   ]
  },
  {
   "cell_type": "markdown",
   "metadata": {},
   "source": [
    "\n---\n\n**குறிப்பு**:  \nஇந்த ஆவணம் [Co-op Translator](https://github.com/Azure/co-op-translator) என்ற AI மொழிபெயர்ப்பு சேவையைப் பயன்படுத்தி மொழிபெயர்க்கப்பட்டுள்ளது. நாங்கள் துல்லியத்திற்காக முயற்சிக்கின்றோம், ஆனால் தானியங்கி மொழிபெயர்ப்புகளில் பிழைகள் அல்லது தவறான தகவல்கள் இருக்கக்கூடும் என்பதை தயவுசெய்து கவனத்தில் கொள்ளுங்கள். அதன் தாய்மொழியில் உள்ள மூல ஆவணம் அதிகாரப்பூர்வ ஆதாரமாக கருதப்பட வேண்டும். முக்கியமான தகவல்களுக்கு, தொழில்முறை மனித மொழிபெயர்ப்பு பரிந்துரைக்கப்படுகிறது. இந்த மொழிபெயர்ப்பைப் பயன்படுத்துவதால் ஏற்படும் எந்த தவறான புரிதல்கள் அல்லது தவறான விளக்கங்களுக்கு நாங்கள் பொறுப்பல்ல.\n"
   ]
  }
 ],
 "metadata": {
  "language_info": {
   "name": "python"
  },
  "coopTranslator": {
   "original_hash": "ec9eedd4f3981f097d4bd34c849cb8b6",
   "translation_date": "2025-10-11T12:00:30+00:00",
   "source_file": "04-prompt-engineering-fundamentals/python/oai-assignment.ipynb",
   "language_code": "ta"
  }
 },
 "nbformat": 4,
 "nbformat_minor": 2
}