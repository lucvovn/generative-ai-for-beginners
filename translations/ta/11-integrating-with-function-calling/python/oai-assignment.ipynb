{
 "cells": [
  {
   "cell_type": "markdown",
   "metadata": {},
   "source": [
    "## அறிமுகம்\n",
    "\n",
    "இந்த பாடத்தில் நாம் கற்கப்போகிறவை:  \n",
    "- செயல்பாட்டை அழைப்பது என்ன மற்றும் அதன் பயன்பாடுகள்  \n",
    "- OpenAI பயன்படுத்தி செயல்பாட்டை அழைப்பது எப்படி  \n",
    "- செயல்பாட்டை அழைப்பதை ஒரு பயன்பாட்டில் ஒருங்கிணைப்பது எப்படி  \n",
    "\n",
    "## கற்கும் இலக்குகள்\n",
    "\n",
    "இந்த பாடத்தை முடித்த பின், நீங்கள் அறிந்து கொள்ளுவீர்கள்:  \n",
    "\n",
    "- செயல்பாட்டை அழைப்பதன் நோக்கம்  \n",
    "- OpenAI சேவையை பயன்படுத்தி Function Call அமைப்பது  \n",
    "- உங்கள் பயன்பாட்டின் தேவைக்கு பொருந்தும் செயல்பாட்டை அழைப்பதற்கான வடிவமைப்பு  \n"
   ]
  },
  {
   "cell_type": "markdown",
   "metadata": {},
   "source": [
    "## செயல்பாடுகளை அழைப்பதைப் புரிந்துகொள்வது\n",
    "\n",
    "இந்த பாடத்தில், நாங்கள் எங்கள் கல்வி தொடக்க நிறுவனத்திற்கான ஒரு அம்சத்தை உருவாக்க விரும்புகிறோம், இது பயனர்களுக்கு ஒரு chatbot ஐப் பயன்படுத்தி தொழில்நுட்ப பாடங்களை கண்டறிய அனுமதிக்கிறது. பயனர்களின் திறன் நிலை, தற்போதைய பங்கு மற்றும் ஆர்வமான தொழில்நுட்பத்தைப் பொருத்த பாடங்களை பரிந்துரைப்போம்.\n",
    "\n",
    "இதனை நிறைவேற்ற, நாங்கள் பின்வரும் ஒன்றுகூடியதைப் பயன்படுத்துவோம்:\n",
    " - `OpenAI` பயனர்களுக்கான ஒரு உரையாடல் அனுபவத்தை உருவாக்க\n",
    " - `Microsoft Learn Catalog API` பயனர்களின் கோரிக்கையை அடிப்படையாகக் கொண்டு பாடங்களை கண்டறிய உதவ\n",
    " - `Function Calling` பயனரின் கேள்வியை எடுத்துக்கொண்டு API கோரிக்கையை செய்ய ஒரு செயல்பாட்டிற்கு அனுப்ப\n",
    "\n",
    "முதலில், செயல்பாடுகளை அழைப்பதன் முக்கியத்துவத்தைப் புரிந்துகொள்வோம்:\n",
    "\n",
    "print(\"அடுத்த கோரிக்கையில் உள்ள செய்திகள்:\")\n",
    "print(messages)\n",
    "print()\n",
    "\n",
    "second_response = client.chat.completions.create(\n",
    "    messages=messages,\n",
    "    model=deployment,\n",
    "    function_call=\"auto\",\n",
    "    functions=functions,\n",
    "    temperature=0\n",
    "        )  # GPT-இன் புதிய பதிலைப் பெற, இது செயல்பாட்டு பதிலைப் பார்க்க முடியும்\n",
    "\n",
    "\n",
    "print(second_response.choices[0].message)\n"
   ]
  },
  {
   "cell_type": "markdown",
   "metadata": {},
   "source": [
    "### ஏன் Function Calling\n",
    "\n",
    "இந்த பாடத்தில் ஏதேனும் ஒரு பாடத்தை முடித்திருந்தால், நீங்கள் Large Language Models (LLMs) பயன்படுத்துவதின் சக்தியை புரிந்துகொண்டிருப்பீர்கள். அதேபோல, அவற்றின் சில வரம்புகளையும் நீங்கள் கவனித்திருக்கலாம்.\n",
    "\n",
    "Function Calling என்பது OpenAI சேவையின் ஒரு அம்சமாகும், இது பின்வரும் சவால்களை தீர்க்க வடிவமைக்கப்பட்டுள்ளது:\n",
    "\n",
    "மாறுபட்ட பதில் வடிவமைப்பு:\n",
    "- Function Calling முன், ஒரு பெரிய மொழி மாதிரியில் இருந்து வரும் பதில்கள் அமைப்பற்ற மற்றும் மாறுபட்டவையாக இருந்தன. ஒவ்வொரு வெளியீட்டின் மாறுபாடுகளையும் கையாள, டெவலப்பர்கள் சிக்கலான சரிபார்ப்பு குறியீடுகளை எழுத வேண்டியிருந்தது.\n",
    "\n",
    "வெளியக தரவுடன் குறைந்த ஒருங்கிணைப்பு:\n",
    "- இந்த அம்சத்திற்கு முன், ஒரு பயன்பாட்டின் பிற பகுதிகளில் இருந்து தரவுகளை ஒரு உரையாடல் சூழலில் சேர்ப்பது கடினமாக இருந்தது.\n",
    "\n",
    "பதில்களின் வடிவங்களை முறைப்படுத்தி, வெளியக தரவுடன் எளிதாக ஒருங்கிணைக்க Function Calling, மேம்பாட்டை எளிமையாக்குகிறது மற்றும் கூடுதல் சரிபார்ப்பு தரவுகளை எழுத வேண்டிய அவசியத்தை குறைக்கிறது.\n",
    "\n",
    "பயனர்கள் \"ஸ்டாக்ஹோல்மில் தற்போதைய வானிலை என்ன?\" போன்ற கேள்விகளுக்கு பதில்களை பெற முடியாது. இதற்கான காரணம், மாதிரிகள் பயிற்சி செய்யப்பட்ட தரவின் நேரத்திற்குள் மட்டுமே வரம்புபடுத்தப்பட்டிருந்தன.\n",
    "\n",
    "இந்த பிரச்சினையை விளக்குவதற்கான உதாரணத்தை கீழே பார்ப்போம்:\n",
    "\n",
    "நாம் மாணவர்களின் தரவுகளின் ஒரு தரவுத்தொகுப்பை உருவாக்க விரும்புகிறோம், இதன் மூலம் அவர்களுக்கு சரியான பாடத்தை பரிந்துரைக்க முடியும். கீழே, மாணவர்களின் இரண்டு விவரங்கள் உள்ளன, அவை உள்ளடக்கத்தில் மிகவும் ஒத்ததாக உள்ளன.\n"
   ]
  },
  {
   "cell_type": "code",
   "execution_count": null,
   "metadata": {},
   "outputs": [],
   "source": [
    "student_1_description=\"Emily Johnson is a sophomore majoring in computer science at Duke University. She has a 3.7 GPA. Emily is an active member of the university's Chess Club and Debate Team. She hopes to pursue a career in software engineering after graduating.\"\n",
    " \n",
    "student_2_description = \"Michael Lee is a sophomore majoring in computer science at Stanford University. He has a 3.8 GPA. Michael is known for his programming skills and is an active member of the university's Robotics Club. He hopes to pursue a career in artificial intelligence after finshing his studies.\""
   ]
  },
  {
   "cell_type": "markdown",
   "metadata": {},
   "source": [
    "நாங்கள் இதை ஒரு LLM-க்கு அனுப்ப விரும்புகிறோம், தரவுகளை பகுப்பாய்வு செய்ய. இது பின்னர் எங்கள் பயன்பாட்டில் API-க்கு அனுப்ப அல்லது தரவுத்தொகுப்பில் சேமிக்க பயன்படுத்தப்படலாம்.\n",
    "\n",
    "நாம் LLM-க்கு எவ்வகையான தகவல்களை தேவைப்படுகிறோம் என்பதை விளக்கி இரண்டு ஒரே மாதிரியான உத்தரவுகளை உருவாக்குவோம்:\n"
   ]
  },
  {
   "cell_type": "markdown",
   "metadata": {},
   "source": [
    "நாங்கள் இதை ஒரு LLM-க்கு அனுப்ப விரும்புகிறோம், எங்கள் தயாரிப்புக்கு முக்கியமான பகுதிகளை பகுப்பாய்வு செய்ய. எனவே, LLM-ஐ வழிகாட்ட இரண்டு ஒரே மாதிரியான உத்தரவுகளை உருவாக்கலாம்:\n"
   ]
  },
  {
   "cell_type": "code",
   "execution_count": null,
   "metadata": {},
   "outputs": [],
   "source": [
    "prompt1 = f'''\n",
    "Please extract the following information from the given text and return it as a JSON object:\n",
    "\n",
    "name\n",
    "major\n",
    "school\n",
    "grades\n",
    "club\n",
    "\n",
    "This is the body of text to extract the information from:\n",
    "{student_1_description}\n",
    "'''\n",
    "\n",
    "\n",
    "prompt2 = f'''\n",
    "Please extract the following information from the given text and return it as a JSON object:\n",
    "\n",
    "name\n",
    "major\n",
    "school\n",
    "grades\n",
    "club\n",
    "\n",
    "This is the body of text to extract the information from:\n",
    "{student_2_description}\n",
    "'''\n"
   ]
  },
  {
   "cell_type": "markdown",
   "metadata": {},
   "source": [
    "இந்த இரண்டு உத்தரவுகளை உருவாக்கிய பிறகு, அவற்றை `openai.ChatCompletion` பயன்படுத்தி LLM-க்கு அனுப்புவோம்.  உத்தரவை `messages` மாறியில் சேமித்து, `user` எனும் பாத்திரத்தை ஒதுக்குகிறோம். இது ஒரு பயனர் chatbot-க்கு எழுதும் செய்தியை பின்பற்றுவதற்காக உருவாக்கப்பட்டது.\n"
   ]
  },
  {
   "cell_type": "code",
   "execution_count": null,
   "metadata": {},
   "outputs": [
    {
     "ename": "",
     "evalue": "",
     "output_type": "error",
     "traceback": [
      "\u001b[1;31mRunning cells with '/opt/homebrew/bin/python3' requires the ipykernel package.\n",
      "\u001b[1;31mRun the following command to install 'ipykernel' into the Python environment. \n",
      "\u001b[1;31mCommand: '/opt/homebrew/bin/python3 -m pip install ipykernel -U --user --force-reinstall'"
     ]
    }
   ],
   "source": [
    "import os\n",
    "import json\n",
    "from openai import OpenAI\n",
    "from dotenv import load_dotenv\n",
    "load_dotenv()\n",
    "\n",
    "client = OpenAI()\n",
    "\n",
    "deployment=\"gpt-3.5-turbo\""
   ]
  },
  {
   "cell_type": "markdown",
   "metadata": {},
   "source": [
    "இப்போது நாங்கள் இரு கோரிக்கைகளையும் LLM-க்கு அனுப்பி, பெறும் பதிலை பரிசீலிக்கலாம்.\n"
   ]
  },
  {
   "cell_type": "code",
   "execution_count": null,
   "metadata": {},
   "outputs": [],
   "source": [
    "openai_response1 = client.chat.completions.create(\n",
    " model=deployment,    \n",
    " messages = [{'role': 'user', 'content': prompt1}]\n",
    ")\n",
    "openai_response1.choices[0].message.content "
   ]
  },
  {
   "cell_type": "code",
   "execution_count": null,
   "metadata": {},
   "outputs": [],
   "source": [
    "openai_response2 = client.chat.completions.create(\n",
    " model=deployment,    \n",
    " messages = [{'role': 'user', 'content': prompt2}]\n",
    ")\n",
    "openai_response2.choices[0].message.content"
   ]
  },
  {
   "cell_type": "code",
   "execution_count": null,
   "metadata": {},
   "outputs": [],
   "source": [
    "# Loading the response as a JSON object\n",
    "json_response1 = json.loads(openai_response1.choices[0].message.content)\n",
    "json_response1"
   ]
  },
  {
   "cell_type": "code",
   "execution_count": null,
   "metadata": {},
   "outputs": [],
   "source": [
    "# Loading the response as a JSON object\n",
    "json_response2 = json.loads(openai_response2.choices[0].message.content )\n",
    "json_response2"
   ]
  },
  {
   "cell_type": "markdown",
   "metadata": {},
   "source": [
    "முடிவுகள் ஒரே மாதிரியானதாக இருந்தாலும், விளக்கங்கள் ஒரே மாதிரியானதாக இருந்தாலும், `Grades` சொத்தின் வடிவம் மாறுபடலாம்.\n",
    "\n",
    "மேலே கொடுக்கப்பட்ட செல்களை பலமுறை இயக்கினால், வடிவம் `3.7` அல்லது `3.7 GPA` ஆக இருக்கலாம்.\n",
    "\n",
    "இது LLM எழுத்து வடிவில் அமைக்கப்பட்ட தரவுகளைப் பெறுவதாலும், அதேபோல அமைக்கப்படாத தரவுகளை திருப்பி அளிப்பதாலும் ஏற்படுகிறது. இந்த தரவுகளை சேமிக்க அல்லது பயன்படுத்தும்போது எதை எதிர்பார்க்க வேண்டும் என்பதை நாங்கள் அறிய, ஒரு அமைக்கப்பட்ட வடிவம் தேவைப்படுகிறது.\n",
    "\n",
    "செயல்பாட்டு அழைப்புகளைப் பயன்படுத்துவதன் மூலம், நாங்கள் அமைக்கப்பட்ட தரவுகளை திரும்பப் பெறுவதை உறுதிசெய்யலாம். செயல்பாட்டு அழைப்புகளைப் பயன்படுத்தும்போது, LLM எந்த செயல்பாடுகளையும் உண்மையில் அழைக்கவோ அல்லது இயக்கவோ செய்யாது. அதற்கு பதிலாக, LLM தனது பதில்களுக்கு பின்பற்ற ஒரு அமைப்பை உருவாக்குகிறோம். பின்னர், அந்த அமைக்கப்பட்ட பதில்களை நாங்கள் எங்கள் பயன்பாடுகளில் எந்த செயல்பாட்டை இயக்க வேண்டும் என்பதை அறிய பயன்படுத்துகிறோம்.  \n"
   ]
  },
  {
   "cell_type": "markdown",
   "metadata": {},
   "source": [
    "![செயல்பாட்டு அழைப்பு ஓட்டம் வரைபடம்](../../../../translated_images/Function-Flow.083875364af4f4bb69bd6f6ed94096a836453183a71cf22388f50310ad6404de.ta.png)\n"
   ]
  },
  {
   "cell_type": "markdown",
   "metadata": {},
   "source": [
    "அதன்பின், செயல்பாட்டில் இருந்து திரும்பியதை எடுத்து, அதை LLM-க்கு திருப்பி அனுப்பலாம். பின்னர், LLM பயனர் கேள்விக்கு பதிலளிக்க இயற்கை மொழியைப் பயன்படுத்தி பதிலளிக்கும்.\n"
   ]
  },
  {
   "cell_type": "markdown",
   "metadata": {},
   "source": [
    "### செயல்பாட்டு அழைப்புகளைப் பயன்படுத்துவதற்கான பயன்பாடுகள்\n",
    "\n",
    "**வெளிப்புற கருவிகளை அழைப்பது**  \n",
    "சாட்பாட்கள் பயனர்களின் கேள்விகளுக்கு பதிலளிக்க சிறந்தவை. செயல்பாட்டு அழைப்புகளைப் பயன்படுத்துவதன் மூலம், சாட்பாட்கள் பயனர்களின் செய்திகளை கொண்டு குறிப்பிட்ட பணிகளை முடிக்க முடியும். உதாரணமாக, ஒரு மாணவர் சாட்பாட்டிடம் \"என் ஆசிரியருக்கு இந்த பாடத்தில் எனக்கு மேலும் உதவி தேவை என்று மின்னஞ்சல் அனுப்புங்கள்\" என்று கேட்கலாம். இது `send_email(to: string, body: string)` என்ற செயல்பாட்டை அழைக்கலாம்.\n",
    "\n",
    "**API அல்லது தரவுத்தொகுப்பு கேள்விகளை உருவாக்குவது**  \n",
    "பயனர்கள் இயற்கை மொழியைப் பயன்படுத்தி தகவல்களைத் தேடலாம், இது வடிவமைக்கப்பட்ட கேள்வி அல்லது API கோரிக்கையாக மாற்றப்படும். இதற்கான ஒரு உதாரணமாக, ஒரு ஆசிரியர் \"கடைசி பணியை முடித்த மாணவர்கள் யார்?\" என்று கேட்கலாம், இது `get_completed(student_name: string, assignment: int, current_status: string)` என்ற செயல்பாட்டை அழைக்கலாம்.\n",
    "\n",
    "**கட்டமைக்கப்பட்ட தரவுகளை உருவாக்குவது**  \n",
    "பயனர்கள் ஒரு உரை தொகுதி அல்லது CSV-ஐ எடுத்து அதிலிருந்து முக்கியமான தகவல்களை LLM மூலம் எடுக்கலாம். உதாரணமாக, ஒரு மாணவர் சமாதான ஒப்பந்தங்கள் பற்றிய விக்கிப்பீடியா கட்டுரையை AI ஃப்ளாஷ் கார்டுகளாக மாற்றலாம். இது `get_important_facts(agreement_name: string, date_signed: string, parties_involved: list)` என்ற செயல்பாட்டைப் பயன்படுத்தி செய்யலாம்.\n"
   ]
  },
  {
   "cell_type": "markdown",
   "metadata": {},
   "source": [
    "## 2. உங்கள் முதல் செயல்பாட்டு அழைப்பை உருவாக்குதல்\n",
    "\n",
    "ஒரு செயல்பாட்டு அழைப்பை உருவாக்கும் செயல்முறை 3 முக்கிய படிகளை உள்ளடக்கியது:  \n",
    "1. உங்கள் செயல்பாடுகள் மற்றும் பயனர் செய்தியின் பட்டியலுடன் Chat Completions API-யை அழைப்பது  \n",
    "2. செயல்பாடுகளை செயல்படுத்த அல்லது API அழைப்பை செயல்படுத்த மாடலின் பதிலை வாசித்தல்  \n",
    "3. உங்கள் செயல்பாட்டின் பதிலுடன் Chat Completions API-க்கு மற்றொரு அழைப்பைச் செய்யுதல், அந்த தகவலைப் பயன்படுத்தி பயனருக்கு பதிலை உருவாக்குதல்.  \n"
   ]
  },
  {
   "cell_type": "markdown",
   "metadata": {},
   "source": [
    "![ஒரு செயல்பாட்டு அழைப்பின் ஓட்டம்](../../../../translated_images/LLM-Flow.3285ed8caf4796d7343c02927f52c9d32df59e790f6e440568e2e951f6ffa5fd.ta.png)\n"
   ]
  },
  {
   "cell_type": "markdown",
   "metadata": {},
   "source": [
    "### செயல்பாட்டுக் கால் கூறுகள்\n",
    "\n",
    "#### பயனர் உள்ளீடு\n",
    "\n",
    "முதல் படியாக, ஒரு பயனர் செய்தியை உருவாக்க வேண்டும். இது ஒரு உரை உள்ளீட்டின் மதிப்பை எடுத்து தானாக ஒதுக்கப்படலாம் அல்லது இங்கே ஒரு மதிப்பை நீங்கள் ஒதுக்கலாம். Chat Completions API-யுடன் முதன்முதலாக வேலை செய்யும் போது, நாம் செய்தியின் `role` மற்றும் `content`-ஐ வரையறுக்க வேண்டும்.\n",
    "\n",
    "`role` என்பது `system` (விதிகளை உருவாக்குதல்), `assistant` (மாதிரி) அல்லது `user` (இறுதி பயனர்) ஆக இருக்கலாம். செயல்பாட்டுக் கால் செய்ய, இதை `user` மற்றும் ஒரு உதாரணக் கேள்வியாக ஒதுக்குவோம்.\n"
   ]
  },
  {
   "cell_type": "code",
   "execution_count": null,
   "metadata": {},
   "outputs": [],
   "source": [
    "messages= [ {\"role\": \"user\", \"content\": \"Find me a good course for a beginner student to learn Azure.\"} ]"
   ]
  },
  {
   "cell_type": "markdown",
   "metadata": {},
   "source": [
    "### செயல்பாடுகளை உருவாக்குதல்\n",
    "\n",
    "அடுத்ததாக, ஒரு செயல்பாட்டையும் அதன் அளவுருக்களையும் வரையறுப்போம். இங்கு `search_courses` என்ற ஒரு செயல்பாட்டை மட்டுமே பயன்படுத்துவோம், ஆனால் நீங்கள் பல செயல்பாடுகளை உருவாக்கலாம்.\n",
    "\n",
    "**முக்கியம்**: செயல்பாடுகள் LLM-க்கு அனுப்பப்படும் அமைப்பு செய்தியில் சேர்க்கப்படும், மேலும் உங்களிடம் கிடைக்கக்கூடிய டோக்கன்களின் எண்ணிக்கையில் சேர்க்கப்படும்.\n"
   ]
  },
  {
   "cell_type": "code",
   "execution_count": null,
   "metadata": {},
   "outputs": [],
   "source": [
    "functions = [\n",
    "   {\n",
    "      \"name\":\"search_courses\",\n",
    "      \"description\":\"Retrieves courses from the search index based on the parameters provided\",\n",
    "      \"parameters\":{\n",
    "         \"type\":\"object\",\n",
    "         \"properties\":{\n",
    "            \"role\":{\n",
    "               \"type\":\"string\",\n",
    "               \"description\":\"The role of the learner (i.e. developer, data scientist, student, etc.)\"\n",
    "            },\n",
    "            \"product\":{\n",
    "               \"type\":\"string\",\n",
    "               \"description\":\"The product that the lesson is covering (i.e. Azure, Power BI, etc.)\"\n",
    "            },\n",
    "            \"level\":{\n",
    "               \"type\":\"string\",\n",
    "               \"description\":\"The level of experience the learner has prior to taking the course (i.e. beginner, intermediate, advanced)\"\n",
    "            }\n",
    "         },\n",
    "         \"required\":[\n",
    "            \"role\"\n",
    "         ]\n",
    "      }\n",
    "   }\n",
    "]"
   ]
  },
  {
   "cell_type": "markdown",
   "metadata": {},
   "source": [
    "**வரையறைகள்**\n",
    "\n",
    "செயல்பாட்டின் வரையறை அமைப்பு பல நிலைகளைக் கொண்டுள்ளது, ஒவ்வொன்றும் தனித்தனியான பண்புகளைக் கொண்டுள்ளது. இங்கே அடுக்கப்பட்ட அமைப்பின் விவரக்குறிப்பு:\n",
    "\n",
    "**மேல் நிலை செயல்பாட்டு பண்புகள்:**\n",
    "\n",
    "`name` - அழைக்க வேண்டிய செயல்பாட்டின் பெயர்.\n",
    "\n",
    "`description` - செயல்பாடு எப்படி செயல்படுகிறது என்பதை விளக்கும் விவரணம். இங்கே குறிப்பிட்டதும் தெளிவானதும் இருக்க வேண்டும்.\n",
    "\n",
    "`parameters` - மாடல் தனது பதிலில் உருவாக்க வேண்டிய மதிப்புகள் மற்றும் வடிவத்தின் பட்டியல்.\n",
    "\n",
    "**Parameters Object பண்புகள்:**\n",
    "\n",
    "`type` - parameters object இன் தரவுத் வகை (சாதாரணமாக \"object\").\n",
    "\n",
    "`properties` - மாடல் தனது பதிலுக்கு பயன்படுத்தும் குறிப்பிட்ட மதிப்புகளின் பட்டியல்.\n",
    "\n",
    "**தனிப்பட்ட Parameter பண்புகள்:**\n",
    "\n",
    "`name` - சொத்து விசையால் மறைமுகமாக வரையறுக்கப்படுகிறது (எ.கா., \"role\", \"product\", \"level\").\n",
    "\n",
    "`type` - இந்த குறிப்பிட்ட parameter இன் தரவுத் வகை (எ.கா., \"string\", \"number\", \"boolean\").\n",
    "\n",
    "`description` - குறிப்பிட்ட parameter இன் விளக்கம்.\n",
    "\n",
    "**விருப்பமான பண்புகள்:**\n",
    "\n",
    "`required` - செயல்பாட்டு அழைப்பை முடிக்க எந்த parameters தேவை என்பதை பட்டியலிடும் வரிசை.\n"
   ]
  },
  {
   "cell_type": "markdown",
   "metadata": {},
   "source": [
    "### செயல்பாட்டை அழைப்பது\n",
    "ஒரு செயல்பாட்டை வரையறை செய்த பிறகு, அதை Chat Completion API-க்கு அழைப்பில் சேர்க்க வேண்டும். இதைச் செய்ய, கோரிக்கையில் `functions` சேர்க்க வேண்டும். இந்தச் சூழலில் `functions=functions`.\n",
    "\n",
    "மேலும், `function_call` ஐ `auto` ஆக அமைக்க ஒரு விருப்பமும் உள்ளது. இதன் பொருள், பயனர் செய்தியின் அடிப்படையில் எந்த செயல்பாடு அழைக்கப்பட வேண்டும் என்பதை LLM தீர்மானிக்க அனுமதிக்கிறோம், அதை நாங்கள் நேரடியாக ஒதுக்காமல்.\n"
   ]
  },
  {
   "cell_type": "code",
   "execution_count": null,
   "metadata": {},
   "outputs": [],
   "source": [
    "response = client.chat.completions.create(model=deployment, \n",
    "                                        messages=messages,\n",
    "                                        functions=functions, \n",
    "                                        function_call=\"auto\") \n",
    "\n",
    "print(response.choices[0].message)"
   ]
  },
  {
   "cell_type": "markdown",
   "metadata": {},
   "source": [
    "இப்போது பதிலைப் பார்ப்போம் மற்றும் அது எவ்வாறு வடிவமைக்கப்பட்டுள்ளது என்பதைப் பார்ப்போம்:\n",
    "\n",
    "{\n",
    "  \"role\": \"assistant\",\n",
    "  \"function_call\": {\n",
    "    \"name\": \"search_courses\",\n",
    "    \"arguments\": \"{\\n  \\\"role\\\": \\\"student\\\",\\n  \\\"product\\\": \\\"Azure\\\",\\n  \\\"level\\\": \\\"beginner\\\"\\n}\"\n",
    "  }\n",
    "}\n",
    "\n",
    "நீங்கள் காணலாம், இந்த செயல்பாட்டின் பெயர் அழைக்கப்பட்டுள்ளது, மேலும் பயனர் செய்தியிலிருந்து, LLM செயல்பாட்டின் arguments-க்கு பொருந்தும் தரவுகளை கண்டறிய முடிந்தது.\n"
   ]
  },
  {
   "cell_type": "markdown",
   "metadata": {},
   "source": [
    "## 3. செயல்பாட்டு அழைப்புகளை ஒரு பயன்பாட்டில் ஒருங்கிணைத்தல்\n",
    "\n",
    "LLM-இன் வடிவமைக்கப்பட்ட பதிலை சோதித்த பிறகு, இப்போது இதை ஒரு பயன்பாட்டில் ஒருங்கிணைக்கலாம்.\n",
    "\n",
    "### செயல்முறையை நிர்வகித்தல்\n",
    "\n",
    "இதனை எங்கள் பயன்பாட்டில் ஒருங்கிணைக்க, கீழ்க்காணும் படிகளை எடுத்துக்கொள்வோம்:\n",
    "\n",
    "முதலில், OpenAI சேவைகளுக்கு அழைப்பு கொடுத்து, செய்தியை `response_message` என்ற மாறியில் சேமிக்கலாம்.\n"
   ]
  },
  {
   "cell_type": "code",
   "execution_count": null,
   "metadata": {},
   "outputs": [],
   "source": [
    "response_message = response.choices[0].message"
   ]
  },
  {
   "cell_type": "markdown",
   "metadata": {},
   "source": [
    "இப்போது Microsoft Learn API-யை அழைத்து பாடங்களின் பட்டியலை பெறும் செயல்பாட்டை வரையறுப்போம்:\n"
   ]
  },
  {
   "cell_type": "code",
   "execution_count": null,
   "metadata": {},
   "outputs": [],
   "source": [
    "import requests\n",
    "\n",
    "def search_courses(role, product, level):\n",
    "    url = \"https://learn.microsoft.com/api/catalog/\"\n",
    "    params = {\n",
    "        \"role\": role,\n",
    "        \"product\": product,\n",
    "        \"level\": level\n",
    "    }\n",
    "    response = requests.get(url, params=params)\n",
    "    modules = response.json()[\"modules\"]\n",
    "    results = []\n",
    "    for module in modules[:5]:\n",
    "        title = module[\"title\"]\n",
    "        url = module[\"url\"]\n",
    "        results.append({\"title\": title, \"url\": url})\n",
    "    return str(results)\n",
    "\n"
   ]
  },
  {
   "cell_type": "markdown",
   "metadata": {},
   "source": [
    "சிறந்த நடைமுறையாக, முதலில் மாடல் ஒரு செயல்பாட்டை அழைக்க விரும்புகிறதா என்பதை பார்க்கலாம். அதன் பிறகு, கிடைக்கக்கூடிய செயல்பாடுகளில் ஒன்றை உருவாக்கி, அழைக்கப்படும் செயல்பாட்டுடன் பொருந்தச் செய்வோம். \n",
    "\n",
    "அதன்பின், செயல்பாட்டின் வாதங்களை எடுத்து, LLM-இன் வாதங்களுடன் பொருத்துவோம்.\n",
    "\n",
    "இறுதியாக, செயல்பாட்டை அழைக்கும் செய்தி மற்றும் `search_courses` செய்தியால் திரும்பிய மதிப்புகளை இணைப்போம். இது LLM-க்கு இயற்கை மொழியில் பயனருக்கு பதிலளிக்க தேவையான அனைத்து தகவல்களையும் வழங்குகிறது.\n"
   ]
  },
  {
   "cell_type": "code",
   "execution_count": null,
   "metadata": {},
   "outputs": [],
   "source": [
    "# Check if the model wants to call a function\n",
    "if response_message.function_call.name:\n",
    "    print(\"Recommended Function call:\")\n",
    "    print(response_message.function_call.name)\n",
    "    print()\n",
    "\n",
    "    # Call the function. \n",
    "    function_name = response_message.function_call.name\n",
    "\n",
    "    available_functions = {\n",
    "            \"search_courses\": search_courses,\n",
    "    }\n",
    "    function_to_call = available_functions[function_name] \n",
    "\n",
    "    function_args = json.loads(response_message.function_call.arguments)\n",
    "    function_response = function_to_call(**function_args)\n",
    "\n",
    "    print(\"Output of function call:\")\n",
    "    print(function_response)\n",
    "    print(type(function_response))\n",
    "\n",
    "\n",
    "    # Add the assistant response and function response to the messages\n",
    "    messages.append( # adding assistant response to messages\n",
    "        {\n",
    "            \"role\": response_message.role,\n",
    "            \"function_call\": {\n",
    "                \"name\": function_name,\n",
    "                \"arguments\": response_message.function_call.arguments,\n",
    "            },\n",
    "            \"content\": None\n",
    "        }\n",
    "    )\n",
    "    messages.append( # adding function response to messages\n",
    "        {\n",
    "            \"role\": \"function\",\n",
    "            \"name\": function_name,\n",
    "            \"content\":function_response,\n",
    "        }\n",
    "    )\n",
    "\n"
   ]
  },
  {
   "cell_type": "markdown",
   "metadata": {},
   "source": [
    "இப்போது நாங்கள் புதுப்பிக்கப்பட்ட செய்தியை LLM-க்கு அனுப்புவோம், எனவே API JSON வடிவமைக்கப்பட்ட பதிலுக்கு பதிலாக ஒரு இயற்கை மொழி பதிலை பெற முடியும்.\n"
   ]
  },
  {
   "cell_type": "code",
   "execution_count": null,
   "metadata": {},
   "outputs": [],
   "source": [
    "print(\"Messages in next request:\")\n",
    "print(messages)\n",
    "print()\n",
    "\n",
    "second_response = client.chat.completions.create(\n",
    "    messages=messages,\n",
    "    model=deployment,\n",
    "    function_call=\"auto\",\n",
    "    functions=functions,\n",
    "    temperature=0\n",
    "        )  # get a new response from GPT where it can see the function response\n",
    "\n",
    "\n",
    "print(second_response.choices[0].message)"
   ]
  },
  {
   "cell_type": "markdown",
   "metadata": {},
   "source": [
    "## குறியீட்டு சவால்\n",
    "\n",
    "சிறந்த வேலை! OpenAI Function Calling பற்றிய உங்கள் கற்றலை தொடர, நீங்கள் உருவாக்கலாம்: https://learn.microsoft.com/training/support/catalog-api-developer-reference?WT.mc_id=academic-105485-koreyst  \n",
    " - கற்றவர்களுக்கு மேலும் பல பாடங்களை கண்டறிய உதவக்கூடிய செயல்பாட்டின் கூடுதல் அளவுருக்கள். கிடைக்கக்கூடிய API அளவுருக்களை இங்கே காணலாம்:  \n",
    " - கற்றவரின் தாய்மொழி போன்ற கூடுதல் தகவல்களை பெறும் மற்றொரு செயல்பாட்டு அழைப்பை உருவாக்கவும்  \n",
    " - செயல்பாட்டு அழைப்பு மற்றும்/அல்லது API அழைப்பு எந்த பொருத்தமான பாடங்களையும் திருப்பாத போது பிழை கையாளுதலை உருவாக்கவும்  \n"
   ]
  },
  {
   "cell_type": "markdown",
   "metadata": {},
   "source": [
    "\n---\n\n**குறிப்பு**:  \nஇந்த ஆவணம் [Co-op Translator](https://github.com/Azure/co-op-translator) என்ற AI மொழிபெயர்ப்பு சேவையைப் பயன்படுத்தி மொழிபெயர்க்கப்பட்டுள்ளது. நாங்கள் துல்லியத்திற்காக முயற்சிக்கின்றோம், ஆனால் தானியக்க மொழிபெயர்ப்புகளில் பிழைகள் அல்லது தவறான தகவல்கள் இருக்கக்கூடும் என்பதை தயவுசெய்து கவனத்தில் கொள்ளவும். அதன் தாய்மொழியில் உள்ள மூல ஆவணம் அதிகாரப்பூர்வ ஆதாரமாக கருதப்பட வேண்டும். முக்கியமான தகவல்களுக்கு, தொழில்முறை மனித மொழிபெயர்ப்பு பரிந்துரைக்கப்படுகிறது. இந்த மொழிபெயர்ப்பைப் பயன்படுத்துவதால் ஏற்படும் எந்த தவறான புரிதல்கள் அல்லது தவறான விளக்கங்களுக்கு நாங்கள் பொறுப்பல்ல.\n"
   ]
  }
 ],
 "metadata": {
  "kernelspec": {
   "display_name": "Python 3",
   "language": "python",
   "name": "python3"
  },
  "language_info": {
   "codemirror_mode": {
    "name": "ipython",
    "version": 3
   },
   "file_extension": ".py",
   "mimetype": "text/x-python",
   "name": "python",
   "nbconvert_exporter": "python",
   "pygments_lexer": "ipython3",
   "version": "3.12.2"
  },
  "orig_nbformat": 4,
  "coopTranslator": {
   "original_hash": "09e1959b012099c552c48fe94d66a64b",
   "translation_date": "2025-10-11T11:56:15+00:00",
   "source_file": "11-integrating-with-function-calling/python/oai-assignment.ipynb",
   "language_code": "ta"
  }
 },
 "nbformat": 4,
 "nbformat_minor": 2
}