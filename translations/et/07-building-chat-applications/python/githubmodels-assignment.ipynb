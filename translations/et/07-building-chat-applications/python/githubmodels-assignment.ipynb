{
 "cells": [
  {
   "attachments": {},
   "cell_type": "markdown",
   "metadata": {
    "nteract": {
     "transient": {
      "deleting": false
     }
    }
   },
   "source": [
    "# 7. peatükk: Vestlusrakenduste loomine\n",
    "## Githubi mudelite API kiirjuhend\n",
    "\n",
    "See märkmik on kohandatud [Azure OpenAI näidiste repositooriumist](https://github.com/Azure/azure-openai-samples?WT.mc_id=academic-105485-koreyst), mis sisaldab märkmikke, mis pääsevad ligi [Azure OpenAI](notebook-azure-openai.ipynb) teenustele.\n"
   ]
  },
  {
   "attachments": {},
   "cell_type": "markdown",
   "metadata": {
    "nteract": {
     "transient": {
      "deleting": false
     }
    }
   },
   "source": [
    "# Ülevaade  \n",
    "\"Suured keelemudelid on funktsioonid, mis kaardistavad teksti tekstiks. Antud sisendtekstijada korral püüab suur keelemudel ennustada, milline tekst järgmisena tuleb\" (1). See \"kiirjuhendi\" märkmik tutvustab kasutajatele kõrgetasemelisi LLM-i kontseptsioone, põhipaketi nõudeid AML-iga alustamiseks, pehmet sissejuhatust küsimuste kujundamisse ning mitmeid lühikesi näiteid erinevatest kasutusjuhtudest.\n"
   ]
  },
  {
   "attachments": {},
   "cell_type": "markdown",
   "metadata": {
    "nteract": {
     "transient": {
      "deleting": false
     }
    }
   },
   "source": [
    "## Sisukord  \n",
    "\n",
    "[Ülevaade](../../../../07-building-chat-applications/python)  \n",
    "[Kuidas kasutada OpenAI teenust](../../../../07-building-chat-applications/python)  \n",
    "[1. OpenAI teenuse loomine](../../../../07-building-chat-applications/python)  \n",
    "[2. Paigaldamine](../../../../07-building-chat-applications/python)    \n",
    "[3. Mandaatide seadistamine](../../../../07-building-chat-applications/python)  \n",
    "\n",
    "[Kasutusjuhud](../../../../07-building-chat-applications/python)    \n",
    "[1. Teksti kokkuvõtmine](../../../../07-building-chat-applications/python)  \n",
    "[2. Teksti klassifitseerimine](../../../../07-building-chat-applications/python)  \n",
    "[3. Uute tootenimede genereerimine](../../../../07-building-chat-applications/python)  \n",
    "[4. Klassifikaatori peenhäälestamine](../../../../07-building-chat-applications/python)  \n",
    "\n",
    "[Viited](../../../../07-building-chat-applications/python)\n"
   ]
  },
  {
   "attachments": {},
   "cell_type": "markdown",
   "metadata": {
    "nteract": {
     "transient": {
      "deleting": false
     }
    }
   },
   "source": [
    "### Loo oma esimene päring  \n",
    "See lühike harjutus annab põhilise sissejuhatuse päringute esitamiseks Github Models mudelile lihtsa ülesande \"kokkuvõtete tegemine\" jaoks.\n",
    "\n",
    "**Sammud**:  \n",
    "1. Paigalda `azure-ai-inference` teek oma Python'i keskkonda, kui sa pole seda veel teinud.  \n",
    "2. Laadi standardseid abiteeke ja seadista Github Models autentimine.  \n",
    "3. Vali mudel oma ülesande jaoks  \n",
    "4. Loo mudelile lihtne päring  \n",
    "5. Esita oma päring mudeli API-le!\n"
   ]
  },
  {
   "attachments": {},
   "cell_type": "markdown",
   "metadata": {
    "nteract": {
     "transient": {
      "deleting": false
     }
    }
   },
   "source": [
    "### 1. Paigalda `azure-ai-inference`\n"
   ]
  },
  {
   "cell_type": "code",
   "execution_count": null,
   "metadata": {
    "gather": {
     "logged": 1674254990318
    },
    "jupyter": {
     "outputs_hidden": true,
     "source_hidden": false
    },
    "nteract": {
     "transient": {
      "deleting": false
     }
    }
   },
   "outputs": [],
   "source": [
    "%pip install azure-ai-inference"
   ]
  },
  {
   "attachments": {},
   "cell_type": "markdown",
   "metadata": {
    "nteract": {
     "transient": {
      "deleting": false
     }
    }
   },
   "source": [
    "### 2. Impordi abiteegid ja loo mandaadid\n"
   ]
  },
  {
   "cell_type": "code",
   "execution_count": null,
   "metadata": {
    "gather": {
     "logged": 1674829434433
    },
    "jupyter": {
     "outputs_hidden": false,
     "source_hidden": false
    },
    "nteract": {
     "transient": {
      "deleting": false
     }
    }
   },
   "outputs": [],
   "source": [
    "import os\n",
    "from azure.ai.inference import ChatCompletionsClient\n",
    "from azure.ai.inference.models import SystemMessage, UserMessage\n",
    "from azure.core.credentials import AzureKeyCredential\n",
    "\n",
    "token = os.environ[\"GITHUB_TOKEN\"]\n",
    "endpoint = \"https://models.inference.ai.azure.com\"\n",
    "\n",
    "client = ChatCompletionsClient(\n",
    "    endpoint=endpoint,\n",
    "    credential=AzureKeyCredential(token),\n",
    ")"
   ]
  },
  {
   "attachments": {},
   "cell_type": "markdown",
   "metadata": {
    "nteract": {
     "transient": {
      "deleting": false
     }
    }
   },
   "source": [
    "### 3. Õige mudeli leidmine  \n",
    "GPT-3.5-turbo või GPT-4 mudelid suudavad mõista ja genereerida loomulikku keelt.\n"
   ]
  },
  {
   "cell_type": "code",
   "execution_count": null,
   "metadata": {
    "gather": {
     "logged": 1674742720788
    },
    "jupyter": {
     "outputs_hidden": true,
     "source_hidden": false
    },
    "nteract": {
     "transient": {
      "deleting": false
     }
    }
   },
   "outputs": [],
   "source": [
    "# Select the General Purpose curie model for text\n",
    "model_name = \"gpt-4o\""
   ]
  },
  {
   "attachments": {},
   "cell_type": "markdown",
   "metadata": {
    "nteract": {
     "transient": {
      "deleting": false
     }
    }
   },
   "source": [
    "## 4. Viipade kujundamine  \n",
    "\n",
    "\"Suure keelemudeli maagia seisneb selles, et treenides mudelit vähendama ennustamisvigu tohutul hulgal tekstidel, õpivad mudelid lõpuks kontseptsioone, mis on nende ennustuste jaoks kasulikud. Näiteks õpivad nad kontseptsioone nagu\"(1):\n",
    "\n",
    "* kuidas õigekiri toimib\n",
    "* kuidas grammatika töötab\n",
    "* kuidas ümber sõnastada\n",
    "* kuidas küsimustele vastata\n",
    "* kuidas vestlust pidada\n",
    "* kuidas kirjutada paljudes keeltes\n",
    "* kuidas kodeerida\n",
    "* jne.\n",
    "\n",
    "#### Kuidas juhtida suurt keelemudelit  \n",
    "\"Kõigist suurte keelemudelite sisenditest on kaugelt kõige mõjukam tekstiviip(1).\n",
    "\n",
    "Suuri keelemudeleid saab viipade abil suunata tootma väljundit mitmel viisil:\n",
    "\n",
    "Juhis: Ütle mudelile, mida sa tahad  \n",
    "Täiendamine: Pane mudel täiendama seda, mida sa tahad  \n",
    "Näide: Näita mudelile, mida sa tahad, kas:  \n",
    "Mõne näitega viipas  \n",
    "Paljude sadade või tuhandete näidetega peenhäälestuse treeningandmestikus  \n",
    "\n",
    "#### Viipade loomise kolm põhireeglit:\n",
    "\n",
    "**Näita ja ütle**. Tee selgeks, mida sa tahad, kas juhiste, näidete või nende kahe kombinatsiooni kaudu. Kui soovid, et mudel järjestaks nimekirja esemed tähestikulises järjekorras või klassifitseeriks lõigu meeleolu järgi, näita talle, et just seda sa tahad.\n",
    "\n",
    "**Paku kvaliteetseid andmeid**. Kui üritad luua klassifikaatorit või panna mudelit järgima mustrit, veendu, et näiteid oleks piisavalt. Kindlasti loe oma näited hoolikalt üle — mudel on tavaliselt piisavalt tark, et näha läbi lihtsatest kirjavigadest ja anda vastus, kuid see võib ka eeldada, et vead on tahtlikud, ja see võib vastust mõjutada.\n",
    "\n",
    "**Kontrolli oma seadeid.** Temperatuuri ja top_p seaded kontrollivad, kui deterministlik mudel vastuse genereerimisel on. Kui küsid vastust, millel on ainult üks õige vastus, siis tasub need seaded madalamaks seada. Kui otsid mitmekesisemaid vastuseid, siis võid need kõrgemaks seada. Kõige levinum viga nende seadete puhul on eeldus, et need on \"nutikuse\" või \"loovuse\" kontrollid.  \n",
    "\n",
    "Allikas: https://learn.microsoft.com/azure/ai-services/openai/overview\n"
   ]
  },
  {
   "attachments": {},
   "cell_type": "markdown",
   "metadata": {
    "nteract": {
     "transient": {
      "deleting": false
     }
    }
   },
   "source": [
    "### 5. Esita!\n"
   ]
  },
  {
   "cell_type": "code",
   "execution_count": null,
   "metadata": {
    "gather": {
     "logged": 1674494935186
    },
    "jupyter": {
     "outputs_hidden": false,
     "source_hidden": false
    },
    "nteract": {
     "transient": {
      "deleting": false
     }
    }
   },
   "outputs": [],
   "source": [
    "# Create your first prompt\n",
    "text_prompt = \"Should oxford commas always be used?\"\n",
    "\n",
    "response = client.complete(\n",
    "  model=model_name,\n",
    "  messages = [{\"role\":\"system\", \"content\":\"You are a helpful assistant.\"},\n",
    "               {\"role\":\"user\",\"content\":text_prompt},])\n",
    "\n",
    "response.choices[0].message.content"
   ]
  },
  {
   "attachments": {},
   "cell_type": "markdown",
   "metadata": {
    "nteract": {
     "transient": {
      "deleting": false
     }
    }
   },
   "source": [
    "### Korda sama kõnet, kuidas tulemused võrreldavad?\n"
   ]
  },
  {
   "cell_type": "code",
   "execution_count": null,
   "metadata": {
    "gather": {
     "logged": 1674494940872
    },
    "jupyter": {
     "outputs_hidden": false,
     "source_hidden": false
    },
    "nteract": {
     "transient": {
      "deleting": false
     }
    }
   },
   "outputs": [],
   "source": [
    "\n",
    "response = client.complete(\n",
    "  model=model_name,\n",
    "  messages = [{\"role\":\"system\", \"content\":\"You are a helpful assistant.\"},\n",
    "               {\"role\":\"user\",\"content\":text_prompt},])\n",
    "\n",
    "response.choices[0].message.content"
   ]
  },
  {
   "attachments": {},
   "cell_type": "markdown",
   "metadata": {
    "nteract": {
     "transient": {
      "deleting": false
     }
    }
   },
   "source": [
    "## Teksti kokkuvõte  \n",
    "#### Väljakutse  \n",
    "Kokkuvõtke tekst, lisades lõigu lõppu 'tl;dr:'. Pange tähele, kuidas mudel suudab täita mitmeid ülesandeid ilma täiendavate juhisteta. Võite katsetada kirjeldavamaid juhiseid kui tl;dr, et muuta mudeli käitumist ja kohandada saadud kokkuvõtet(3).  \n",
    "\n",
    "Viimased uuringud on näidanud märkimisväärseid edusamme paljudes NLP ülesannetes ja võrdlusnäitajates, kasutades meetodit, kus esmalt treenitakse mudelit suure tekstikorpuse peal ja seejärel peenhäälestatakse konkreetse ülesande jaoks. Kuigi arhitektuur on tavaliselt ülesande suhtes neutraalne, vajab see meetod siiski tuhandeid või kümneid tuhandeid näiteid sisaldavaid ülesandespetsiifilisi peenhäälestamise andmekogumeid. Seevastu inimesed suudavad tavaliselt täita uusi keeleülesandeid vaid mõne näite või lihtsate juhiste põhjal - midagi, millega praegused NLP süsteemid endiselt suures osas hätta jäävad. Siin näitame, et keelemudelite ulatuslik suurendamine parandab oluliselt ülesande suhtes neutraalset ja väheste näidete põhist sooritust, saavutades mõnikord isegi konkurentsivõime varasemate tipptasemel peenhäälestamise lähenemistega.  \n",
    "\n",
    "Tl;dr\n"
   ]
  },
  {
   "attachments": {},
   "cell_type": "markdown",
   "metadata": {
    "nteract": {
     "transient": {
      "deleting": false
     }
    }
   },
   "source": [
    "# Harjutused mitmesuguste kasutusjuhtude jaoks  \n",
    "1. Teksti kokkuvõtmine  \n",
    "2. Teksti klassifitseerimine  \n",
    "3. Uute tootenimede genereerimine  \n"
   ]
  },
  {
   "cell_type": "code",
   "execution_count": null,
   "metadata": {
    "gather": {
     "logged": 1674495198534
    },
    "jupyter": {
     "outputs_hidden": false,
     "source_hidden": false
    },
    "nteract": {
     "transient": {
      "deleting": false
     }
    }
   },
   "outputs": [],
   "source": [
    "prompt = \"Recent work has demonstrated substantial gains on many NLP tasks and benchmarks by pre-training on a large corpus of text followed by fine-tuning on a specific task. While typically task-agnostic in architecture, this method still requires task-specific fine-tuning datasets of thousands or tens of thousands of examples. By contrast, humans can generally perform a new language task from only a few examples or from simple instructions - something that current NLP systems still largely struggle to do. Here we show that scaling up language models greatly improves task-agnostic, few-shot performance, sometimes even reaching competitiveness with prior state-of-the-art fine-tuning approaches.\\n\\nTl;dr\"\n"
   ]
  },
  {
   "cell_type": "code",
   "execution_count": null,
   "metadata": {
    "gather": {
     "logged": 1674495201868
    },
    "jupyter": {
     "outputs_hidden": false,
     "source_hidden": false
    },
    "nteract": {
     "transient": {
      "deleting": false
     }
    }
   },
   "outputs": [],
   "source": [
    "#Setting a few additional, typical parameters during API Call\n",
    "\n",
    "response = client.complete(\n",
    "  model=model_name,\n",
    "  messages = [{\"role\":\"system\", \"content\":\"You are a helpful assistant.\"},\n",
    "               {\"role\":\"user\",\"content\":prompt},])\n",
    "\n",
    "response.choices[0].message.content"
   ]
  },
  {
   "attachments": {},
   "cell_type": "markdown",
   "metadata": {
    "nteract": {
     "transient": {
      "deleting": false
     }
    }
   },
   "source": [
    "## Teksti klassifitseerimine  \n",
    "#### Väljakutse  \n",
    "Klassifitseeri üksused kategooriatesse, mis on ette antud järeldamise ajal. Järgmises näites anname nii kategooriad kui ka klassifitseeritava teksti ettepanekus (*playground_reference). \n",
    "\n",
    "Kliendi päring: Tere, üks minu sülearvuti klaviatuuri klahvidest läks hiljuti katki ja mul on vaja asendust:\n",
    "\n",
    "Klassifitseeritud kategooria:\n"
   ]
  },
  {
   "cell_type": "code",
   "execution_count": null,
   "metadata": {
    "gather": {
     "logged": 1674499424645
    },
    "jupyter": {
     "outputs_hidden": false,
     "source_hidden": false
    },
    "nteract": {
     "transient": {
      "deleting": false
     }
    }
   },
   "outputs": [],
   "source": [
    "prompt = \"Classify the following inquiry into one of the following: categories: [Pricing, Hardware Support, Software Support]\\n\\ninquiry: Hello, one of the keys on my laptop keyboard broke recently and I'll need a replacement:\\n\\nClassified category:\"\n",
    "print(prompt)"
   ]
  },
  {
   "cell_type": "code",
   "execution_count": null,
   "metadata": {
    "gather": {
     "logged": 1674499378518
    },
    "jupyter": {
     "outputs_hidden": false,
     "source_hidden": false
    },
    "nteract": {
     "transient": {
      "deleting": false
     }
    }
   },
   "outputs": [],
   "source": [
    "#Setting a few additional, typical parameters during API Call\n",
    "\n",
    "response = client.complete(\n",
    "  model=model_name,\n",
    "  messages = [{\"role\":\"system\", \"content\":\"You are a helpful assistant.\"},\n",
    "               {\"role\":\"user\",\"content\":prompt},])\n",
    "\n",
    "response.choices[0].message.content"
   ]
  },
  {
   "attachments": {},
   "cell_type": "markdown",
   "metadata": {
    "nteract": {
     "transient": {
      "deleting": false
     }
    }
   },
   "source": [
    "## Loo Uusi Tootenimesid\n",
    "#### Väljakutse\n",
    "Loo tootenimesid näidisõnade põhjal. Siin lisame juhisesse teavet toote kohta, mille jaoks nimesid genereerime. Samuti anname sarnase näite, et näidata mustrit, mida soovime saada. Oleme seadnud temperatuuri väärtuse kõrgeks, et suurendada juhuslikkust ja saada innovaatilisemaid vastuseid.\n",
    "\n",
    "Tootekirjeldus: Kodune piimakokteili valmistaja  \n",
    "Näidisõnad: kiire, tervislik, kompaktne.  \n",
    "Tootenimed: HomeShaker, Fit Shaker, QuickShake, Shake Maker  \n",
    "\n",
    "Tootekirjeldus: Jalanõud, mis sobivad igas suuruses jalale.  \n",
    "Näidisõnad: kohanduv, sobiv, omni-fit.  \n"
   ]
  },
  {
   "cell_type": "code",
   "execution_count": null,
   "metadata": {
    "gather": {
     "logged": 1674257087279
    },
    "jupyter": {
     "outputs_hidden": false,
     "source_hidden": false
    },
    "nteract": {
     "transient": {
      "deleting": false
     }
    }
   },
   "outputs": [],
   "source": [
    "prompt = \"Product description: A home milkshake maker\\nSeed words: fast, healthy, compact.\\nProduct names: HomeShaker, Fit Shaker, QuickShake, Shake Maker\\n\\nProduct description: A pair of shoes that can fit any foot size.\\nSeed words: adaptable, fit, omni-fit.\"\n",
    "\n",
    "print(prompt)"
   ]
  },
  {
   "cell_type": "code",
   "execution_count": null,
   "metadata": {
    "jupyter": {
     "outputs_hidden": false,
     "source_hidden": false
    },
    "nteract": {
     "transient": {
      "deleting": false
     }
    }
   },
   "outputs": [],
   "source": [
    "#Setting a few additional, typical parameters during API Call\n",
    "\n",
    "response = client.complete(\n",
    "  model=model_name,\n",
    "  messages = [{\"role\":\"system\", \"content\":\"You are a helpful assistant.\"},\n",
    "               {\"role\":\"user\",\"content\":prompt}])\n",
    "\n",
    "response.choices[0].message.content"
   ]
  },
  {
   "attachments": {},
   "cell_type": "markdown",
   "metadata": {
    "nteract": {
     "transient": {
      "deleting": false
     }
    }
   },
   "source": [
    "# Viited  \n",
    "- [Openai Cookbook](https://github.com/openai/openai-cookbook?WT.mc_id=academic-105485-koreyst)  \n",
    "- [OpenAI Studio näited](https://oai.azure.com/portal?WT.mc_id=academic-105485-koreyst)  \n",
    "- [Parimad tavad GPT-3 peenhäälestamiseks teksti klassifitseerimiseks](https://docs.google.com/document/d/1rqj7dkuvl7Byd5KQPUJRxc19BJt8wo0yHNwK84KfU3Q/edit#?WT.mc_id=academic-105485-koreyst)\n"
   ]
  },
  {
   "attachments": {},
   "cell_type": "markdown",
   "metadata": {
    "nteract": {
     "transient": {
      "deleting": false
     }
    }
   },
   "source": [
    "# Lisainfo saamiseks  \n",
    "[OpenAI kommertsialiseerimise meeskond](AzureOpenAITeam@microsoft.com)\n"
   ]
  },
  {
   "attachments": {},
   "cell_type": "markdown",
   "metadata": {
    "nteract": {
     "transient": {
      "deleting": false
     }
    }
   },
   "source": [
    "# Kaastöötajad\n",
    "* [Chew-Yean Yam](https://www.linkedin.com/in/cyyam/)\n"
   ]
  },
  {
   "cell_type": "markdown",
   "metadata": {},
   "source": []
  },
  {
   "cell_type": "markdown",
   "metadata": {},
   "source": [
    "\n---\n\n**Lahtiütlus**:  \nSee dokument on tõlgitud AI tõlketeenuse [Co-op Translator](https://github.com/Azure/co-op-translator) abil. Kuigi püüame tagada täpsust, palume arvestada, et automaatsed tõlked võivad sisaldada vigu või ebatäpsusi. Algne dokument selle algses keeles tuleks pidada autoriteetseks allikaks. Olulise teabe puhul soovitame kasutada professionaalset inimtõlget. Me ei vastuta selle tõlke kasutamisest tulenevate arusaamatuste või valesti tõlgenduste eest.\n"
   ]
  }
 ],
 "metadata": {
  "kernel_info": {
   "name": "python310-sdkv2"
  },
  "kernelspec": {
   "display_name": "base",
   "language": "python",
   "name": "python3"
  },
  "language_info": {
   "codemirror_mode": {
    "name": "ipython",
    "version": 3
   },
   "file_extension": ".py",
   "mimetype": "text/x-python",
   "name": "python",
   "nbconvert_exporter": "python",
   "pygments_lexer": "ipython3",
   "version": "3.12.4"
  },
  "microsoft": {
   "host": {
    "AzureML": {
     "notebookHasBeenCompleted": true
    }
   }
  },
  "nteract": {
   "version": "nteract-front-end@1.0.0"
  },
  "coopTranslator": {
   "original_hash": "3eeb8e5cad61b52a8366f6259a53ed49",
   "translation_date": "2025-10-11T12:12:49+00:00",
   "source_file": "07-building-chat-applications/python/githubmodels-assignment.ipynb",
   "language_code": "et"
  }
 },
 "nbformat": 4,
 "nbformat_minor": 2
}