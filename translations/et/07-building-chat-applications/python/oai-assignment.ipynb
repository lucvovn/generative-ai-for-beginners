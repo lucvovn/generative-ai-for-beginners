{
 "cells": [
  {
   "attachments": {},
   "cell_type": "markdown",
   "metadata": {
    "nteract": {
     "transient": {
      "deleting": false
     }
    }
   },
   "source": [
    "# 7. peatükk: Vestlusrakenduste loomine\n",
    "## OpenAI API kiirstart\n",
    "\n",
    "See märkmik on kohandatud [Azure OpenAI näidete repositooriumist](https://github.com/Azure/azure-openai-samples?WT.mc_id=academic-105485-koreyst), mis sisaldab märkmikke, mis kasutavad [Azure OpenAI](notebook-azure-openai.ipynb) teenuseid.\n",
    "\n",
    "Python OpenAI API töötab ka Azure OpenAI mudelitega, vajades vaid mõningaid muudatusi. Lisateavet erinevuste kohta leiate siit: [Kuidas vahetada OpenAI ja Azure OpenAI lõpp-punktide vahel Pythonis](https://learn.microsoft.com/azure/ai-services/openai/how-to/switching-endpoints?WT.mc_id=academic-109527-jasmineg)\n"
   ]
  },
  {
   "attachments": {},
   "cell_type": "markdown",
   "metadata": {
    "nteract": {
     "transient": {
      "deleting": false
     }
    }
   },
   "source": [
    "# Ülevaade  \n",
    "\"Suured keelemudelid on funktsioonid, mis kaardistavad teksti tekstiks. Antud sisendtekstijada korral püüab suur keelemudel ennustada, milline tekst järgmisena tuleb\" (1). See \"kiirstart\" märkmik tutvustab kasutajatele kõrgetasemelisi LLM-i kontseptsioone, põhipaketi nõudeid AML-iga alustamiseks, pehmet sissejuhatust küsimuste kujundamisse ning mitmeid lühikesi näiteid erinevatest kasutusjuhtudest.\n"
   ]
  },
  {
   "attachments": {},
   "cell_type": "markdown",
   "metadata": {
    "nteract": {
     "transient": {
      "deleting": false
     }
    }
   },
   "source": [
    "## Sisukord  \n",
    "\n",
    "[Ülevaade](../../../../07-building-chat-applications/python)  \n",
    "[Kuidas kasutada OpenAI teenust](../../../../07-building-chat-applications/python)  \n",
    "[1. OpenAI teenuse loomine](../../../../07-building-chat-applications/python)  \n",
    "[2. Paigaldamine](../../../../07-building-chat-applications/python)    \n",
    "[3. Mandaatide seadistamine](../../../../07-building-chat-applications/python)  \n",
    "\n",
    "[Kasutusjuhtumid](../../../../07-building-chat-applications/python)    \n",
    "[1. Teksti kokkuvõtmine](../../../../07-building-chat-applications/python)  \n",
    "[2. Teksti klassifitseerimine](../../../../07-building-chat-applications/python)  \n",
    "[3. Uute tootenimede genereerimine](../../../../07-building-chat-applications/python)  \n",
    "[4. Klassifitseerija täiendamine](../../../../07-building-chat-applications/python)  \n",
    "\n",
    "[Viited](../../../../07-building-chat-applications/python)\n"
   ]
  },
  {
   "attachments": {},
   "cell_type": "markdown",
   "metadata": {
    "nteract": {
     "transient": {
      "deleting": false
     }
    }
   },
   "source": [
    "### Loo oma esimene päring  \n",
    "See lühike harjutus annab põhilise sissejuhatuse, kuidas esitada päringuid OpenAI mudelile lihtsa ülesande \"kokkuvõtete tegemine\" jaoks.\n",
    "\n",
    "**Sammud**:  \n",
    "1. Paigalda OpenAI teek oma Python'i keskkonda  \n",
    "2. Laadi standardseid abiteeke ja määra oma OpenAI turvamandaadid loodud OpenAI teenuse jaoks  \n",
    "3. Vali mudel oma ülesande jaoks  \n",
    "4. Loo mudelile lihtne päring  \n",
    "5. Esita oma taotlus mudeli API-le!\n"
   ]
  },
  {
   "attachments": {},
   "cell_type": "markdown",
   "metadata": {
    "nteract": {
     "transient": {
      "deleting": false
     }
    }
   },
   "source": [
    "### 1. Paigalda OpenAI\n"
   ]
  },
  {
   "cell_type": "code",
   "execution_count": null,
   "metadata": {
    "gather": {
     "logged": 1674254990318
    },
    "jupyter": {
     "outputs_hidden": true,
     "source_hidden": false
    },
    "nteract": {
     "transient": {
      "deleting": false
     }
    }
   },
   "outputs": [],
   "source": [
    "%pip install openai python-dotenv"
   ]
  },
  {
   "attachments": {},
   "cell_type": "markdown",
   "metadata": {
    "nteract": {
     "transient": {
      "deleting": false
     }
    }
   },
   "source": [
    "### 2. Impordi abiteegid ja loo mandaadid\n"
   ]
  },
  {
   "cell_type": "code",
   "execution_count": null,
   "metadata": {
    "gather": {
     "logged": 1674829434433
    },
    "jupyter": {
     "outputs_hidden": false,
     "source_hidden": false
    },
    "nteract": {
     "transient": {
      "deleting": false
     }
    }
   },
   "outputs": [],
   "source": [
    "import os\n",
    "from openai import OpenAI\n",
    "from dotenv import load_dotenv\n",
    "\n",
    "load_dotenv()\n",
    "\n",
    "API_KEY = os.getenv(\"OPENAI_API_KEY\",\"\")\n",
    "assert API_KEY, \"ERROR: OpenAI Key is missing\"\n",
    "\n",
    "client = OpenAI(\n",
    "    api_key=API_KEY\n",
    "    )\n"
   ]
  },
  {
   "attachments": {},
   "cell_type": "markdown",
   "metadata": {
    "nteract": {
     "transient": {
      "deleting": false
     }
    }
   },
   "source": [
    "### 3. Õige mudeli leidmine  \n",
    "GPT-3.5-turbo või GPT-4 mudelid suudavad mõista ja genereerida loomulikku keelt.\n"
   ]
  },
  {
   "cell_type": "code",
   "execution_count": null,
   "metadata": {
    "gather": {
     "logged": 1674742720788
    },
    "jupyter": {
     "outputs_hidden": true,
     "source_hidden": false
    },
    "nteract": {
     "transient": {
      "deleting": false
     }
    }
   },
   "outputs": [],
   "source": [
    "# Select the General Purpose curie model for text\n",
    "model = \"gpt-3.5-turbo\""
   ]
  },
  {
   "attachments": {},
   "cell_type": "markdown",
   "metadata": {
    "nteract": {
     "transient": {
      "deleting": false
     }
    }
   },
   "source": [
    "## 4. Viipade kujundamine  \n",
    "\n",
    "\"Suure keelemudeli võlu seisneb selles, et treenides seda vähendama ennustusvigu tohutul hulgal tekstidel, õpivad mudelid lõpuks ennustuste jaoks kasulikke kontseptsioone. Näiteks õpivad nad kontseptsioone nagu\"(1):\n",
    "\n",
    "* kuidas õigekiri toimib\n",
    "* kuidas grammatika töötab\n",
    "* kuidas ümber sõnastada\n",
    "* kuidas küsimustele vastata\n",
    "* kuidas vestlust pidada\n",
    "* kuidas kirjutada mitmes keeles\n",
    "* kuidas kodeerida\n",
    "* jne.\n",
    "\n",
    "#### Kuidas juhtida suurt keelemudelit  \n",
    "\"Kõigist sisenditest, mida suur keelemudel saab, on kõige mõjukam tekstiviip(1).\n",
    "\n",
    "Suuri keelemudeleid saab viibata, et nad genereeriksid väljundit mitmel viisil:\n",
    "\n",
    "Instruktsioon: Ütle mudelile, mida sa tahad  \n",
    "Täiendamine: Pane mudel täiendama seda, mida sa tahad  \n",
    "Demonstratsioon: Näita mudelile, mida sa tahad, kas:  \n",
    "Mõned näited viibas  \n",
    "Palju sadu või tuhandeid näiteid peenhäälestamise treeningandmestikus  \n",
    "\n",
    "#### Viipade loomise kolm põhireeglit:\n",
    "\n",
    "**Näita ja ütle**. Tee selgeks, mida sa tahad, kas juhiste, näidete või nende kombinatsiooni kaudu. Kui soovid, et mudel järjestaks loendi elemendid tähestikulises järjekorras või klassifitseeriks lõigu sentimenti järgi, näita talle, et just seda sa tahad.\n",
    "\n",
    "**Paku kvaliteetseid andmeid**. Kui üritad luua klassifikaatorit või panna mudelit järgima mustrit, veendu, et näiteid oleks piisavalt. Kontrolli oma näited hoolikalt — mudel on tavaliselt piisavalt tark, et näha läbi lihtsad õigekirjavead ja anda vastuse, kuid võib ka eeldada, et vead on tahtlikud, mis võib vastust mõjutada.\n",
    "\n",
    "**Kontrolli oma seadeid.** Temperatuuri ja top_p seaded määravad, kui deterministlik mudel vastuse genereerimisel on. Kui küsid vastust, kus on ainult üks õige vastus, siis tasub need seaded madalamaks panna. Kui otsid mitmekesisemaid vastuseid, siis tasub need kõrgemaks seada. Kõige levinum viga nende seadete puhul on eeldada, et need on \"nutikuse\" või \"loovuse\" kontrollid.\n",
    "\n",
    "Allikas: https://learn.microsoft.com/azure/ai-services/openai/overview\n"
   ]
  },
  {
   "attachments": {},
   "cell_type": "markdown",
   "metadata": {
    "nteract": {
     "transient": {
      "deleting": false
     }
    }
   },
   "source": [
    "### 5. Esita!\n"
   ]
  },
  {
   "cell_type": "code",
   "execution_count": null,
   "metadata": {
    "gather": {
     "logged": 1674494935186
    },
    "jupyter": {
     "outputs_hidden": false,
     "source_hidden": false
    },
    "nteract": {
     "transient": {
      "deleting": false
     }
    }
   },
   "outputs": [],
   "source": [
    "# Create your first prompt\n",
    "text_prompt = \"Should oxford commas always be used?\"\n",
    "\n",
    "response = client.chat.completions.create(\n",
    "  model=model,\n",
    "  messages = [{\"role\":\"system\", \"content\":\"You are a helpful assistant.\"},\n",
    "               {\"role\":\"user\",\"content\":text_prompt},])\n",
    "\n",
    "response.choices[0].message.content"
   ]
  },
  {
   "attachments": {},
   "cell_type": "markdown",
   "metadata": {
    "nteract": {
     "transient": {
      "deleting": false
     }
    }
   },
   "source": [
    "### Korda sama kõnet, kuidas tulemused võrreldavad?\n"
   ]
  },
  {
   "cell_type": "code",
   "execution_count": null,
   "metadata": {
    "gather": {
     "logged": 1674494940872
    },
    "jupyter": {
     "outputs_hidden": false,
     "source_hidden": false
    },
    "nteract": {
     "transient": {
      "deleting": false
     }
    }
   },
   "outputs": [],
   "source": [
    "\n",
    "response = client.chat.completions.create(\n",
    "  model=model,\n",
    "  messages = [{\"role\":\"system\", \"content\":\"You are a helpful assistant.\"},\n",
    "               {\"role\":\"user\",\"content\":text_prompt},])\n",
    "\n",
    "response.choices[0].message.content"
   ]
  },
  {
   "attachments": {},
   "cell_type": "markdown",
   "metadata": {
    "nteract": {
     "transient": {
      "deleting": false
     }
    }
   },
   "source": [
    "## Teksti kokkuvõte  \n",
    "#### Väljakutse  \n",
    "Kokkuvõtke tekst, lisades lõigu lõppu 'tl;dr:'. Pange tähele, kuidas mudel suudab täita mitmeid ülesandeid ilma täiendavate juhisteta. Võite katsetada kirjeldavamaid juhiseid kui tl;dr, et muuta mudeli käitumist ja kohandada saadavat kokkuvõtet(3).  \n",
    "\n",
    "Hiljutised uuringud on näidanud märkimisväärseid edusamme paljudes NLP ülesannetes ja võrdlusnäitajates, kasutades esmalt suure tekstikorpuse eelõpetamist, millele järgneb peenhäälestamine konkreetse ülesande jaoks. Kuigi arhitektuur on tavaliselt ülesande suhtes neutraalne, vajab see meetod siiski tuhandeid või kümneid tuhandeid näiteid sisaldavaid ülesandespetsiifilisi peenhäälestamise andmekogumeid. Seevastu inimesed suudavad tavaliselt täita uue keeleülesande vaid mõne näite või lihtsate juhiste põhjal - midagi, millega praegused NLP süsteemid endiselt suures osas vaeva näevad. Siin näitame, et keelemudelite ulatuslik suurendamine parandab oluliselt ülesande suhtes neutraalset, väheste näidete põhist sooritust, saavutades mõnikord isegi konkurentsivõime varasemate tipptasemel peenhäälestamise lähenemistega.  \n",
    "\n",
    "Tl;dr\n"
   ]
  },
  {
   "attachments": {},
   "cell_type": "markdown",
   "metadata": {
    "nteract": {
     "transient": {
      "deleting": false
     }
    }
   },
   "source": [
    "# Harjutused mitmesuguste kasutusjuhtude jaoks  \n",
    "1. Teksti kokkuvõte  \n",
    "2. Teksti klassifitseerimine  \n",
    "3. Uute tootenimede genereerimine\n"
   ]
  },
  {
   "cell_type": "code",
   "execution_count": null,
   "metadata": {
    "gather": {
     "logged": 1674495198534
    },
    "jupyter": {
     "outputs_hidden": false,
     "source_hidden": false
    },
    "nteract": {
     "transient": {
      "deleting": false
     }
    }
   },
   "outputs": [],
   "source": [
    "prompt = \"Recent work has demonstrated substantial gains on many NLP tasks and benchmarks by pre-training on a large corpus of text followed by fine-tuning on a specific task. While typically task-agnostic in architecture, this method still requires task-specific fine-tuning datasets of thousands or tens of thousands of examples. By contrast, humans can generally perform a new language task from only a few examples or from simple instructions - something that current NLP systems still largely struggle to do. Here we show that scaling up language models greatly improves task-agnostic, few-shot performance, sometimes even reaching competitiveness with prior state-of-the-art fine-tuning approaches.\\n\\nTl;dr\"\n"
   ]
  },
  {
   "cell_type": "code",
   "execution_count": null,
   "metadata": {
    "gather": {
     "logged": 1674495201868
    },
    "jupyter": {
     "outputs_hidden": false,
     "source_hidden": false
    },
    "nteract": {
     "transient": {
      "deleting": false
     }
    }
   },
   "outputs": [],
   "source": [
    "#Setting a few additional, typical parameters during API Call\n",
    "\n",
    "response = client.chat.completions.create(\n",
    "  model=model,\n",
    "  messages = [{\"role\":\"system\", \"content\":\"You are a helpful assistant.\"},\n",
    "               {\"role\":\"user\",\"content\":prompt},])\n",
    "\n",
    "response.choices[0].message.content"
   ]
  },
  {
   "attachments": {},
   "cell_type": "markdown",
   "metadata": {
    "nteract": {
     "transient": {
      "deleting": false
     }
    }
   },
   "source": [
    "## Teksti klassifitseerimine  \n",
    "#### Väljakutse  \n",
    "Klassifitseeri üksused kategooriatesse, mis on antud järeldamise ajal. Järgmises näites anname nii kategooriad kui ka teksti, mida tuleb klassifitseerida, viites (*playground_reference).\n",
    "\n",
    "Kliendi päring: Tere, üks minu sülearvuti klaviatuuri klahvidest läks hiljuti katki ja mul on vaja asendust:\n",
    "\n",
    "Klassifitseeritud kategooria:\n"
   ]
  },
  {
   "cell_type": "code",
   "execution_count": null,
   "metadata": {
    "gather": {
     "logged": 1674499424645
    },
    "jupyter": {
     "outputs_hidden": false,
     "source_hidden": false
    },
    "nteract": {
     "transient": {
      "deleting": false
     }
    }
   },
   "outputs": [],
   "source": [
    "prompt = \"Classify the following inquiry into one of the following: categories: [Pricing, Hardware Support, Software Support]\\n\\ninquiry: Hello, one of the keys on my laptop keyboard broke recently and I'll need a replacement:\\n\\nClassified category:\"\n",
    "print(prompt)"
   ]
  },
  {
   "cell_type": "code",
   "execution_count": null,
   "metadata": {
    "gather": {
     "logged": 1674499378518
    },
    "jupyter": {
     "outputs_hidden": false,
     "source_hidden": false
    },
    "nteract": {
     "transient": {
      "deleting": false
     }
    }
   },
   "outputs": [],
   "source": [
    "#Setting a few additional, typical parameters during API Call\n",
    "\n",
    "response = client.chat.completions.create(\n",
    "  model=model,\n",
    "  messages = [{\"role\":\"system\", \"content\":\"You are a helpful assistant.\"},\n",
    "               {\"role\":\"user\",\"content\":prompt},])\n",
    "\n",
    "response.choices[0].message.content"
   ]
  },
  {
   "attachments": {},
   "cell_type": "markdown",
   "metadata": {
    "nteract": {
     "transient": {
      "deleting": false
     }
    }
   },
   "source": [
    "## Loo Uusi Tootenimesid\n",
    "#### Väljakutse\n",
    "Loo tootenimesid näidis-sõnade põhjal. Siin lisame juhisesse teavet toote kohta, mille jaoks nimesid genereerime. Samuti anname sarnase näite, et näidata soovitud mustrit. Oleme seadnud temperatuuri väärtuse kõrgeks, et suurendada juhuslikkust ja saada innovaatilisemaid vastuseid.\n",
    "\n",
    "Toote kirjeldus: Kodune piimakokteili valmistaja  \n",
    "Näidis-sõnad: kiire, tervislik, kompaktne.  \n",
    "Tootenimed: HomeShaker, Fit Shaker, QuickShake, Shake Maker  \n",
    "\n",
    "Toote kirjeldus: Kingapaar, mis sobib igas suuruses jalale.  \n",
    "Näidis-sõnad: kohanduv, sobiv, omni-fit.\n"
   ]
  },
  {
   "cell_type": "code",
   "execution_count": null,
   "metadata": {
    "gather": {
     "logged": 1674257087279
    },
    "jupyter": {
     "outputs_hidden": false,
     "source_hidden": false
    },
    "nteract": {
     "transient": {
      "deleting": false
     }
    }
   },
   "outputs": [],
   "source": [
    "prompt = \"Product description: A home milkshake maker\\nSeed words: fast, healthy, compact.\\nProduct names: HomeShaker, Fit Shaker, QuickShake, Shake Maker\\n\\nProduct description: A pair of shoes that can fit any foot size.\\nSeed words: adaptable, fit, omni-fit.\"\n",
    "\n",
    "print(prompt)"
   ]
  },
  {
   "cell_type": "code",
   "execution_count": null,
   "metadata": {
    "jupyter": {
     "outputs_hidden": false,
     "source_hidden": false
    },
    "nteract": {
     "transient": {
      "deleting": false
     }
    }
   },
   "outputs": [],
   "source": [
    "#Setting a few additional, typical parameters during API Call\n",
    "\n",
    "response = client.chat.completions.create(\n",
    "  model=model,\n",
    "  messages = [{\"role\":\"system\", \"content\":\"You are a helpful assistant.\"},\n",
    "               {\"role\":\"user\",\"content\":prompt}])\n",
    "\n",
    "response.choices[0].message.content"
   ]
  },
  {
   "attachments": {},
   "cell_type": "markdown",
   "metadata": {
    "nteract": {
     "transient": {
      "deleting": false
     }
    }
   },
   "source": [
    "# Viited  \n",
    "- [Openai Cookbook](https://github.com/openai/openai-cookbook?WT.mc_id=academic-105485-koreyst)  \n",
    "- [OpenAI Studio näited](https://oai.azure.com/portal?WT.mc_id=academic-105485-koreyst)  \n",
    "- [Parimad tavad GPT-3 peenhäälestamiseks tekstide klassifitseerimiseks](https://docs.google.com/document/d/1rqj7dkuvl7Byd5KQPUJRxc19BJt8wo0yHNwK84KfU3Q/edit#?WT.mc_id=academic-105485-koreyst)  \n"
   ]
  },
  {
   "attachments": {},
   "cell_type": "markdown",
   "metadata": {
    "nteract": {
     "transient": {
      "deleting": false
     }
    }
   },
   "source": [
    "# Lisainfo saamiseks  \n",
    "[OpenAI kommertsialiseerimise meeskond](AzureOpenAITeam@microsoft.com)\n"
   ]
  },
  {
   "attachments": {},
   "cell_type": "markdown",
   "metadata": {
    "nteract": {
     "transient": {
      "deleting": false
     }
    }
   },
   "source": [
    "# Kaastöötajad\n",
    "* Louis Li  \n"
   ]
  },
  {
   "cell_type": "markdown",
   "metadata": {},
   "source": [
    "\n---\n\n**Lahtiütlus**:  \nSee dokument on tõlgitud AI tõlketeenuse [Co-op Translator](https://github.com/Azure/co-op-translator) abil. Kuigi püüame tagada täpsust, palume arvestada, et automaatsed tõlked võivad sisaldada vigu või ebatäpsusi. Algne dokument selle algses keeles tuleks pidada autoriteetseks allikaks. Olulise teabe puhul soovitame kasutada professionaalset inimtõlget. Me ei vastuta selle tõlke kasutamisest tulenevate arusaamatuste või valesti tõlgenduste eest.\n"
   ]
  }
 ],
 "metadata": {
  "kernel_info": {
   "name": "python310-sdkv2"
  },
  "kernelspec": {
   "display_name": "base",
   "language": "python",
   "name": "python3"
  },
  "language_info": {
   "codemirror_mode": {
    "name": "ipython",
    "version": 3
   },
   "file_extension": ".py",
   "mimetype": "text/x-python",
   "name": "python",
   "nbconvert_exporter": "python",
   "pygments_lexer": "ipython3",
   "version": "3.10.13"
  },
  "microsoft": {
   "host": {
    "AzureML": {
     "notebookHasBeenCompleted": true
    }
   }
  },
  "nteract": {
   "version": "nteract-front-end@1.0.0"
  },
  "coopTranslator": {
   "original_hash": "1854bdde1dd56b366f1f6c9122f7d304",
   "translation_date": "2025-10-11T12:11:18+00:00",
   "source_file": "07-building-chat-applications/python/oai-assignment.ipynb",
   "language_code": "et"
  }
 },
 "nbformat": 4,
 "nbformat_minor": 2
}