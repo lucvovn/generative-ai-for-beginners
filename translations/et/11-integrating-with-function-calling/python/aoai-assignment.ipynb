{
 "cells": [
  {
   "cell_type": "markdown",
   "metadata": {},
   "source": [
    "## Sissejuhatus\n",
    "\n",
    "Selles õppetükis käsitletakse:  \n",
    "- Mis on funktsiooni kutsumine ja selle kasutusjuhud  \n",
    "- Kuidas luua funktsiooni kutset Azure OpenAI abil  \n",
    "- Kuidas integreerida funktsiooni kutse rakendusse  \n",
    "\n",
    "## Õpieesmärgid\n",
    "\n",
    "Pärast selle õppetüki läbimist oskad ja mõistad:  \n",
    "\n",
    "- Funktsiooni kutsumise eesmärki  \n",
    "- Funktsiooni kutse seadistamist Azure OpenAI teenuse abil  \n",
    "- Tõhusate funktsioonikutsungite kujundamist oma rakenduse kasutusjuhtumi jaoks  \n"
   ]
  },
  {
   "cell_type": "markdown",
   "metadata": {},
   "source": [
    "## Funktsioonikutsete mõistmine\n",
    "\n",
    "Selles õppetükis soovime luua funktsiooni meie haridusettevõtte jaoks, mis võimaldab kasutajatel kasutada vestlusboti tehniliste kursuste leidmiseks. Soovitame kursusi, mis sobivad nende oskuste tasemele, praegusele rollile ja huvipakkuvale tehnoloogiale.\n",
    "\n",
    "Selle saavutamiseks kasutame kombinatsiooni:\n",
    " - `Azure Open AI`, et luua kasutajale vestluskogemus\n",
    " - `Microsoft Learn Catalog API`, et aidata kasutajatel leida kursusi vastavalt nende päringule\n",
    " - `Function Calling`, et võtta kasutaja päring ja saata see funktsioonile API päringu tegemiseks.\n",
    "\n",
    "Alustuseks vaatame, miks me üldse tahaksime kasutada funktsioonikutseid:\n",
    "\n",
    "print(\"Sõnumid järgmises päringus:\")\n",
    "print(messages)\n",
    "print()\n",
    "\n",
    "second_response = client.chat.completions.create(\n",
    "    messages=messages,\n",
    "    model=deployment,\n",
    "    function_call=\"auto\",\n",
    "    functions=functions,\n",
    "    temperature=0\n",
    "        )  # saada GPT-lt uus vastus, kus see näeb funktsiooni vastust\n",
    "\n",
    "\n",
    "print(second_response.choices[0].message)\n"
   ]
  },
  {
   "cell_type": "markdown",
   "metadata": {},
   "source": [
    "### Miks kasutada funktsioonide kutsumist\n",
    "\n",
    "Kui oled läbinud mõne teise õppetunni selles kursuses, siis tõenäoliselt mõistad juba suurte keelemudelite (LLM-ide) kasutamise võimsust. Loodetavasti oled märganud ka nende piiranguid.\n",
    "\n",
    "Funktsioonide kutsumine on Azure Open AI teenuse funktsioon, mis aitab ületada järgmisi piiranguid:\n",
    "1) Järjepidev vastuse formaat  \n",
    "2) Võimalus kasutada rakenduse teistest allikatest pärit andmeid vestluskontekstis  \n",
    "\n",
    "Enne funktsioonide kutsumist olid LLM-i vastused struktureerimata ja ebajärjekindlad. Arendajad pidid kirjutama keerulist valideerimiskoodi, et tagada iga vastuse variatsiooni käsitlemine.\n",
    "\n",
    "Kasutajad ei saanud vastuseid küsimustele nagu \"Milline on praegune ilm Stockholmis?\". Seda seetõttu, et mudelid olid piiratud ajaga, mil andmed treeniti.\n",
    "\n",
    "Vaatame allpool olevat näidet, mis illustreerib seda probleemi:\n",
    "\n",
    "Oletame, et soovime luua andmebaasi õpilaste andmetega, et saaksime neile soovitada sobivaid kursusi. Allpool on kaks õpilaste kirjeldust, mis sisaldavad väga sarnaseid andmeid.\n"
   ]
  },
  {
   "cell_type": "code",
   "execution_count": null,
   "metadata": {},
   "outputs": [],
   "source": [
    "student_1_description=\"Emily Johnson is a sophomore majoring in computer science at Duke University. She has a 3.7 GPA. Emily is an active member of the university's Chess Club and Debate Team. She hopes to pursue a career in software engineering after graduating.\"\n",
    " \n",
    "student_2_description = \"Michael Lee is a sophomore majoring in computer science at Stanford University. He has a 3.8 GPA. Michael is known for his programming skills and is an active member of the university's Robotics Club. He hopes to pursue a career in artificial intelligence after finishing his studies.\""
   ]
  },
  {
   "cell_type": "markdown",
   "metadata": {},
   "source": [
    "Soovime selle saata LLM-ile, et andmeid analüüsida. Seda saab hiljem kasutada meie rakenduses, et saata API-le või salvestada andmebaasi.\n",
    "\n",
    "Loome kaks identset juhist, milles anname LLM-ile teada, millist teavet meid huvitab:\n"
   ]
  },
  {
   "cell_type": "markdown",
   "metadata": {},
   "source": [
    "Me soovime selle saata LLM-ile, et analüüsida osasid, mis on meie toote jaoks olulised. Nii saame luua kaks identset käsku, et juhendada LLM-i:\n"
   ]
  },
  {
   "cell_type": "code",
   "execution_count": null,
   "metadata": {},
   "outputs": [],
   "source": [
    "prompt1 = f'''\n",
    "Please extract the following information from the given text and return it as a JSON object:\n",
    "\n",
    "name\n",
    "major\n",
    "school\n",
    "grades\n",
    "club\n",
    "\n",
    "This is the body of text to extract the information from:\n",
    "{student_1_description}\n",
    "'''\n",
    "\n",
    "\n",
    "prompt2 = f'''\n",
    "Please extract the following information from the given text and return it as a JSON object:\n",
    "\n",
    "name\n",
    "major\n",
    "school\n",
    "grades\n",
    "club\n",
    "\n",
    "This is the body of text to extract the information from:\n",
    "{student_2_description}\n",
    "'''\n"
   ]
  },
  {
   "cell_type": "markdown",
   "metadata": {},
   "source": [
    "Pärast nende kahe viipa loomist saadame need LLM-ile, kasutades `openai.ChatCompletion`. Me salvestame viiba muutujasse `messages` ja määrame rolliks `user`. See on mõeldud matkima kasutaja sõnumit, mis kirjutatakse vestlusrobotile.\n"
   ]
  },
  {
   "cell_type": "code",
   "execution_count": null,
   "metadata": {},
   "outputs": [
    {
     "ename": "",
     "evalue": "",
     "output_type": "error",
     "traceback": [
      "\u001b[1;31mRunning cells with '/opt/homebrew/bin/python3' requires the ipykernel package.\n",
      "\u001b[1;31mRun the following command to install 'ipykernel' into the Python environment. \n",
      "\u001b[1;31mCommand: '/opt/homebrew/bin/python3 -m pip install ipykernel -U --user --force-reinstall'"
     ]
    }
   ],
   "source": [
    "import os\n",
    "import json\n",
    "from openai import AzureOpenAI\n",
    "from dotenv import load_dotenv\n",
    "load_dotenv()\n",
    "\n",
    "client = AzureOpenAI(\n",
    "  api_key=os.environ['AZURE_OPENAI_API_KEY'],  # this is also the default, it can be omitted\n",
    "  api_version = \"2023-07-01-preview\"\n",
    "  )\n",
    "\n",
    "deployment=os.environ['AZURE_OPENAI_DEPLOYMENT']"
   ]
  },
  {
   "cell_type": "markdown",
   "metadata": {},
   "source": [
    "Nüüd saame saata mõlemad päringud LLM-ile ja uurida saadud vastust.\n"
   ]
  },
  {
   "cell_type": "code",
   "execution_count": null,
   "metadata": {},
   "outputs": [],
   "source": [
    "openai_response1 = client.chat.completions.create(\n",
    " model=deployment,    \n",
    " messages = [{'role': 'user', 'content': prompt1}]\n",
    ")\n",
    "openai_response1.choices[0].message.content "
   ]
  },
  {
   "cell_type": "code",
   "execution_count": null,
   "metadata": {},
   "outputs": [],
   "source": [
    "openai_response2 = client.chat.completions.create(\n",
    " model=deployment,    \n",
    " messages = [{'role': 'user', 'content': prompt2}]\n",
    ")\n",
    "openai_response2.choices[0].message.content"
   ]
  },
  {
   "cell_type": "code",
   "execution_count": null,
   "metadata": {},
   "outputs": [],
   "source": [
    "# Loading the response as a JSON object\n",
    "json_response1 = json.loads(openai_response1.choices[0].message.content)\n",
    "json_response1"
   ]
  },
  {
   "cell_type": "code",
   "execution_count": null,
   "metadata": {},
   "outputs": [],
   "source": [
    "# Loading the response as a JSON object\n",
    "json_response2 = json.loads(openai_response2.choices[0].message.content )\n",
    "json_response2"
   ]
  },
  {
   "cell_type": "markdown",
   "metadata": {},
   "source": [
    "Kuigi juhised on samad ja kirjeldused sarnased, võime saada `Grades` omaduse erinevaid vorminguid.\n",
    "\n",
    "Kui käivitada ülaltoodud lahter mitu korda, võib vorming olla kas `3.7` või `3.7 GPA`.\n",
    "\n",
    "See juhtub seetõttu, et LLM võtab sisendiks struktureerimata andmeid kirjutatud juhise kujul ja tagastab samuti struktureerimata andmeid. Meil on vaja struktureeritud vormingut, et teaksime, mida oodata, kui neid andmeid salvestame või kasutame.\n",
    "\n",
    "Funktsionaalse väljakutse kasutamise abil saame tagada, et saame tagasi struktureeritud andmeid. Funktsionaalse väljakutse kasutamisel LLM tegelikult ei kutsu ega käivita ühtegi funktsiooni. Selle asemel loome LLM-ile struktuuri, mida vastustes järgida. Seejärel kasutame neid struktureeritud vastuseid, et teada, millist funktsiooni oma rakendustes käivitada.\n"
   ]
  },
  {
   "cell_type": "markdown",
   "metadata": {},
   "source": [
    "![Funktsiooni kutsumise vooskeem](../../../../translated_images/Function-Flow.083875364af4f4bb69bd6f6ed94096a836453183a71cf22388f50310ad6404de.et.png)\n"
   ]
  },
  {
   "cell_type": "markdown",
   "metadata": {},
   "source": [
    "Seejärel saame funktsioonist tagastatud väärtuse võtta ja selle LLM-ile tagasi saata. LLM vastab seejärel loomulikus keeles, et vastata kasutaja päringule.\n"
   ]
  },
  {
   "cell_type": "markdown",
   "metadata": {},
   "source": [
    "### Funktsioonikõnede kasutusjuhtumid\n",
    "\n",
    "**Väliste tööriistade kasutamine**  \n",
    "Vestlusrobotid on suurepärased kasutajate küsimustele vastuste andmiseks. Funktsioonikõnede abil saavad vestlusrobotid kasutada kasutajate sõnumeid teatud ülesannete täitmiseks. Näiteks võib õpilane paluda vestlusrobotil: \"Saada e-kiri minu juhendajale, öeldes, et vajan selle teemaga rohkem abi.\" See võib teha funktsioonikõne `send_email(to: string, body: string)`.\n",
    "\n",
    "**API või andmebaasi päringute loomine**  \n",
    "Kasutajad saavad leida teavet, kasutades loomulikku keelt, mis muudetakse vormindatud päringuks või API päringuks. Näiteks võib õpetaja küsida: \"Kes on õpilased, kes lõpetasid viimase ülesande,\" mis võib kutsuda funktsiooni nimega `get_completed(student_name: string, assignment: int, current_status: string)`.\n",
    "\n",
    "**Struktureeritud andmete loomine**  \n",
    "Kasutajad saavad võtta tekstiploki või CSV-faili ja kasutada LLM-i, et sellest olulist teavet välja võtta. Näiteks võib õpilane muuta Wikipedia artikli rahulepingutest AI-mälukaartide loomiseks. Seda saab teha funktsiooni abil `get_important_facts(agreement_name: string, date_signed: string, parties_involved: list)`.\n"
   ]
  },
  {
   "cell_type": "markdown",
   "metadata": {},
   "source": [
    "## 2. Esimese funktsioonikõne loomine\n",
    "\n",
    "Funktsioonikõne loomise protsess hõlmab kolme peamist sammu:  \n",
    "1. Chat Completions API kutsumine koos funktsioonide loendi ja kasutaja sõnumiga  \n",
    "2. Mudeli vastuse lugemine, et sooritada tegevus, näiteks funktsiooni või API-kõne täitmine  \n",
    "3. Uue kõne tegemine Chat Completions API-le, kasutades funktsiooni vastust, et luua kasutajale vastus.  \n"
   ]
  },
  {
   "cell_type": "markdown",
   "metadata": {},
   "source": [
    "![Funktsiooni kutse voog](../../../../translated_images/LLM-Flow.3285ed8caf4796d7343c02927f52c9d32df59e790f6e440568e2e951f6ffa5fd.et.png)\n"
   ]
  },
  {
   "cell_type": "markdown",
   "metadata": {},
   "source": [
    "### Funktsiooni väljakutse elemendid\n",
    "\n",
    "#### Kasutaja sisend\n",
    "\n",
    "Esimene samm on luua kasutaja sõnum. See võib olla dünaamiliselt määratud, võttes väärtuse tekstisisendist, või saate siin väärtuse määrata. Kui see on teie esimene kord töötada Chat Completions API-ga, peame määratlema sõnumi `role` ja `content`.\n",
    "\n",
    "`Role` võib olla kas `system` (reeglite loomine), `assistant` (mudel) või `user` (lõppkasutaja). Funktsiooni väljakutse jaoks määrame selle `user`-iks ja lisame näitena küsimuse.\n"
   ]
  },
  {
   "cell_type": "code",
   "execution_count": null,
   "metadata": {},
   "outputs": [],
   "source": [
    "messages= [ {\"role\": \"user\", \"content\": \"Find me a good course for a beginner student to learn Azure.\"} ]"
   ]
  },
  {
   "cell_type": "markdown",
   "metadata": {},
   "source": [
    "### Funktsioonide loomine.\n",
    "\n",
    "Järgmisena määratleme funktsiooni ja selle funktsiooni parameetrid. Siin kasutame ainult ühte funktsiooni nimega `search_courses`, kuid võite luua ka mitu funktsiooni.\n",
    "\n",
    "**Oluline**: Funktsioonid lisatakse süsteemisõnumisse LLM-ile ja need arvestatakse saadaval olevate tokenite hulka.\n"
   ]
  },
  {
   "cell_type": "code",
   "execution_count": null,
   "metadata": {},
   "outputs": [],
   "source": [
    "functions = [\n",
    "   {\n",
    "      \"name\":\"search_courses\",\n",
    "      \"description\":\"Retrieves courses from the search index based on the parameters provided\",\n",
    "      \"parameters\":{\n",
    "         \"type\":\"object\",\n",
    "         \"properties\":{\n",
    "            \"role\":{\n",
    "               \"type\":\"string\",\n",
    "               \"description\":\"The role of the learner (i.e. developer, data scientist, student, etc.)\"\n",
    "            },\n",
    "            \"product\":{\n",
    "               \"type\":\"string\",\n",
    "               \"description\":\"The product that the lesson is covering (i.e. Azure, Power BI, etc.)\"\n",
    "            },\n",
    "            \"level\":{\n",
    "               \"type\":\"string\",\n",
    "               \"description\":\"The level of experience the learner has prior to taking the course (i.e. beginner, intermediate, advanced)\"\n",
    "            }\n",
    "         },\n",
    "         \"required\":[\n",
    "            \"role\"\n",
    "         ]\n",
    "      }\n",
    "   }\n",
    "]"
   ]
  },
  {
   "cell_type": "markdown",
   "metadata": {},
   "source": [
    "**Definitsioonid**\n",
    "\n",
    "`name` - Funktsiooni nimi, mida soovime kutsuda.\n",
    "\n",
    "`description` - Kirjeldus, kuidas funktsioon töötab. Siin on oluline olla konkreetne ja selge.\n",
    "\n",
    "`parameters` - Väärtuste ja vormingu loetelu, mida soovite, et mudel oma vastuses genereeriks.\n",
    "\n",
    "`type` - Andmetüüp, milles omadused salvestatakse.\n",
    "\n",
    "`properties` - Spetsiifiliste väärtuste loetelu, mida mudel oma vastuses kasutab.\n",
    "\n",
    "`name` - Omaduse nimi, mida mudel kasutab oma vormindatud vastuses.\n",
    "\n",
    "`type` - Selle omaduse andmetüüp.\n",
    "\n",
    "`description` - Konkreetse omaduse kirjeldus.\n",
    "\n",
    "**Valikuline**\n",
    "\n",
    "`required` - Nõutav omadus, et funktsiooni kutse saaks lõpule viia.\n"
   ]
  },
  {
   "cell_type": "markdown",
   "metadata": {},
   "source": [
    "### Funktsiooni väljakutse tegemine\n",
    "Pärast funktsiooni defineerimist peame selle nüüd lisama Chat Completion API väljakutsesse. Selleks lisame päringusse `functions`. Antud juhul on see `functions=functions`.\n",
    "\n",
    "Samuti on võimalus määrata `function_call` väärtuseks `auto`. See tähendab, et laseme LLM-il otsustada, millist funktsiooni tuleks kasutaja sõnumi põhjal kutsuda, selle asemel et ise määrata.\n"
   ]
  },
  {
   "cell_type": "code",
   "execution_count": null,
   "metadata": {},
   "outputs": [],
   "source": [
    "response = client.chat.completions.create(model=deployment, \n",
    "                                        messages=messages,\n",
    "                                        functions=functions, \n",
    "                                        function_call=\"auto\") \n",
    "\n",
    "print(response.choices[0].message)"
   ]
  },
  {
   "cell_type": "markdown",
   "metadata": {},
   "source": [
    "Nüüd vaatame vastust ja selle vormingut:\n",
    "\n",
    "{\n",
    "  \"role\": \"assistant\",\n",
    "  \"function_call\": {\n",
    "    \"name\": \"search_courses\",\n",
    "    \"arguments\": \"{\\n  \\\"role\\\": \\\"student\\\",\\n  \\\"product\\\": \\\"Azure\\\",\\n  \\\"level\\\": \\\"beginner\\\"\\n}\"\n",
    "  }\n",
    "}\n",
    "\n",
    "Nagu näha, on funktsiooni nimi välja toodud ja kasutaja sõnumi põhjal suutis LLM leida andmed, mis sobivad funktsiooni argumentideks.\n"
   ]
  },
  {
   "cell_type": "markdown",
   "metadata": {},
   "source": [
    "## 3. Funktsioonikutsete integreerimine rakendusse\n",
    "\n",
    "Pärast seda, kui oleme testinud LLM-i vormindatud vastust, saame selle nüüd rakendusse integreerida.\n",
    "\n",
    "### Voogude haldamine\n",
    "\n",
    "Selle rakendusse integreerimiseks järgime järgmisi samme:\n",
    "\n",
    "Esmalt teeme OpenAI teenustele päringu ja salvestame sõnumi muutujasse nimega `response_message`.\n"
   ]
  },
  {
   "cell_type": "code",
   "execution_count": null,
   "metadata": {},
   "outputs": [],
   "source": [
    "response_message = response.choices[0].message"
   ]
  },
  {
   "cell_type": "markdown",
   "metadata": {},
   "source": [
    "Nüüd defineerime funktsiooni, mis kutsub Microsoft Learn API-d, et saada kursuste nimekiri:\n"
   ]
  },
  {
   "cell_type": "code",
   "execution_count": null,
   "metadata": {},
   "outputs": [],
   "source": [
    "import requests\n",
    "\n",
    "def search_courses(role, product, level):\n",
    "    url = \"https://learn.microsoft.com/api/catalog/\"\n",
    "    params = {\n",
    "        \"role\": role,\n",
    "        \"product\": product,\n",
    "        \"level\": level\n",
    "    }\n",
    "    response = requests.get(url, params=params)\n",
    "    modules = response.json()[\"modules\"]\n",
    "    results = []\n",
    "    for module in modules[:5]:\n",
    "        title = module[\"title\"]\n",
    "        url = module[\"url\"]\n",
    "        results.append({\"title\": title, \"url\": url})\n",
    "    return str(results)\n",
    "\n"
   ]
  },
  {
   "cell_type": "markdown",
   "metadata": {},
   "source": [
    "Parima tava kohaselt vaatame esmalt, kas mudel soovib funktsiooni kutsuda. Seejärel loome ühe saadaolevatest funktsioonidest ja seome selle kutsutava funktsiooniga.  \n",
    "Seejärel võtame funktsiooni argumendid ja kaardistame need LLM-i argumentidega.  \n",
    "\n",
    "Lõpuks lisame funktsiooni kutse sõnumi ja väärtused, mille tagastas `search_courses` sõnum. See annab LLM-ile kogu vajaliku teabe, et vastata kasutajale loomulikus keeles.\n"
   ]
  },
  {
   "cell_type": "code",
   "execution_count": null,
   "metadata": {},
   "outputs": [],
   "source": [
    "# Check if the model wants to call a function\n",
    "if response_message.function_call.name:\n",
    "    print(\"Recommended Function call:\")\n",
    "    print(response_message.function_call.name)\n",
    "    print()\n",
    "\n",
    "    # Call the function. \n",
    "    function_name = response_message.function_call.name\n",
    "\n",
    "    available_functions = {\n",
    "            \"search_courses\": search_courses,\n",
    "    }\n",
    "    function_to_call = available_functions[function_name] \n",
    "\n",
    "    function_args = json.loads(response_message.function_call.arguments)\n",
    "    function_response = function_to_call(**function_args)\n",
    "\n",
    "    print(\"Output of function call:\")\n",
    "    print(function_response)\n",
    "    print(type(function_response))\n",
    "\n",
    "\n",
    "    # Add the assistant response and function response to the messages\n",
    "    messages.append( # adding assistant response to messages\n",
    "        {\n",
    "            \"role\": response_message.role,\n",
    "            \"function_call\": {\n",
    "                \"name\": function_name,\n",
    "                \"arguments\": response_message.function_call.arguments,\n",
    "            },\n",
    "            \"content\": None\n",
    "        }\n",
    "    )\n",
    "    messages.append( # adding function response to messages\n",
    "        {\n",
    "            \"role\": \"function\",\n",
    "            \"name\": function_name,\n",
    "            \"content\":function_response,\n",
    "        }\n",
    "    )\n",
    "\n"
   ]
  },
  {
   "cell_type": "markdown",
   "metadata": {},
   "source": [
    "Nüüd saadame uuendatud sõnumi LLM-ile, et saada loomuliku keele vastus API JSON-vormingus vastuse asemel.\n"
   ]
  },
  {
   "cell_type": "code",
   "execution_count": null,
   "metadata": {},
   "outputs": [],
   "source": [
    "print(\"Messages in next request:\")\n",
    "print(messages)\n",
    "print()\n",
    "\n",
    "second_response = client.chat.completions.create(\n",
    "    messages=messages,\n",
    "    model=deployment,\n",
    "    function_call=\"auto\",\n",
    "    functions=functions,\n",
    "    temperature=0\n",
    "        )  # get a new response from GPT where it can see the function response\n",
    "\n",
    "\n",
    "print(second_response.choices[0].message)"
   ]
  },
  {
   "cell_type": "markdown",
   "metadata": {},
   "source": [
    "## Koodi väljakutse\n",
    "\n",
    "Suurepärane töö! Azure Open AI funktsioonikutsumise õppimise jätkamiseks saate luua: https://learn.microsoft.com/training/support/catalog-api-developer-reference?WT.mc_id=academic-105485-koreyst  \n",
    "- Rohkem funktsiooni parameetreid, mis aitaksid õppijatel leida rohkem kursusi. Saadaval olevad API parameetrid leiate siit:  \n",
    "- Looge teine funktsioonikutsumine, mis võtab õppijalt rohkem teavet, näiteks tema emakeele  \n",
    "- Looge veakäsitlus juhuks, kui funktsioonikutsumine ja/või API-kutsumine ei tagasta sobivaid kursusi  \n"
   ]
  },
  {
   "cell_type": "markdown",
   "metadata": {},
   "source": [
    "\n---\n\n**Lahtiütlus**:  \nSee dokument on tõlgitud AI tõlketeenuse [Co-op Translator](https://github.com/Azure/co-op-translator) abil. Kuigi püüame tagada täpsust, palume arvestada, et automaatsed tõlked võivad sisaldada vigu või ebatäpsusi. Algne dokument selle algses keeles tuleks pidada autoriteetseks allikaks. Olulise teabe puhul soovitame kasutada professionaalset inimtõlget. Me ei vastuta selle tõlke kasutamisest tulenevate arusaamatuste või valesti tõlgenduste eest.\n"
   ]
  }
 ],
 "metadata": {
  "kernelspec": {
   "display_name": "Python 3",
   "language": "python",
   "name": "python3"
  },
  "language_info": {
   "codemirror_mode": {
    "name": "ipython",
    "version": 3
   },
   "file_extension": ".py",
   "mimetype": "text/x-python",
   "name": "python",
   "nbconvert_exporter": "python",
   "pygments_lexer": "ipython3",
   "version": "3.12.2"
  },
  "orig_nbformat": 4,
  "coopTranslator": {
   "original_hash": "2277587ff6cb5c40437e18d61fc2e239",
   "translation_date": "2025-10-11T11:55:11+00:00",
   "source_file": "11-integrating-with-function-calling/python/aoai-assignment.ipynb",
   "language_code": "et"
  }
 },
 "nbformat": 4,
 "nbformat_minor": 2
}